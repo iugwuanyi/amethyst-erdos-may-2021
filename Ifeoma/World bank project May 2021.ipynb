{
 "cells": [
  {
   "cell_type": "markdown",
   "metadata": {},
   "source": [
    "## Importing Packages"
   ]
  },
  {
   "cell_type": "code",
   "execution_count": 1,
   "metadata": {},
   "outputs": [],
   "source": [
    "import PyPDF2 as PD\n",
    "import zipfile as zf\n",
    "import os\n",
    "import pandas as pd"
   ]
  },
  {
   "cell_type": "code",
   "execution_count": 2,
   "metadata": {},
   "outputs": [
    {
     "data": {
      "text/plain": [
       "'C:\\\\Users\\\\roseb\\\\Erdos Bootcamp\\\\Project May 2021\\\\Project\\\\amethyst-erdos-may-2021\\\\Ifeoma'"
      ]
     },
     "execution_count": 2,
     "metadata": {},
     "output_type": "execute_result"
    }
   ],
   "source": [
    "#Checking current working directly\n",
    "os.getcwd()"
   ]
  },
  {
   "cell_type": "markdown",
   "metadata": {},
   "source": [
    "## Unzipping World bank data"
   ]
  },
  {
   "cell_type": "code",
   "execution_count": null,
   "metadata": {},
   "outputs": [],
   "source": [
    "#Unzipping files and putting it in the Wold bank datset folder\n",
    "target_location = r'World bank dataset'\n",
    "target_zip = r'World bank dataset.zip'\n",
    "\n",
    "zip_f = zf.ZipFile(target_zip)\n",
    "names = zip_f.namelist()\n",
    "#print(names)\n",
    "for name in names:\n",
    "    if os.path.exists(\"C:\\\\Users\\\\roseb\\\\World bank dataset\" + name) or os.path.isfile(\"C:\\\\Users\\\\roseb\\\\World bank dataset\"+ name):\n",
    "        pass\n",
    "    else:\n",
    "        zip_f.extract(name, target_location)"
   ]
  },
  {
   "cell_type": "markdown",
   "metadata": {},
   "source": [
    "## Inspecting Files"
   ]
  },
  {
   "cell_type": "code",
   "execution_count": 20,
   "metadata": {},
   "outputs": [],
   "source": [
    "#Finding the number of files that cannot be read with PyPDF2\n",
    "folder = \"C:\\\\Users\\\\roseb\\\\Erdos Bootcamp\\\\Project May 2021\\\\Dataset\"\n",
    "new_file = open(\"empty_files.txt\", \"a\")\n",
    "for file in os.listdir(folder):\n",
    "    filename = os.fsdecode(file)\n",
    "    if filename.endswith(\".pdf\"):\n",
    "        pdf_file = open(\"Dataset\\\\\" + filename, \"rb\")\n",
    "        read_pdf = PD.PdfFileReader(pdf_file)\n",
    "        page = read_pdf.getPage(0)\n",
    "        page_content = page.extractText()\n",
    "        if len(page_content) < 50:\n",
    "            pass\n",
    "        else:\n",
    "            new_file.write(file + \"\\n\")\n",
    "    else:\n",
    "        pass\n",
    "new_file.close()"
   ]
  },
  {
   "cell_type": "code",
   "execution_count": 14,
   "metadata": {},
   "outputs": [
    {
     "data": {
      "text/plain": [
       "65"
      ]
     },
     "execution_count": 14,
     "metadata": {},
     "output_type": "execute_result"
    }
   ],
   "source": [
    "len(empty)"
   ]
  },
  {
   "cell_type": "markdown",
   "metadata": {},
   "source": [
    "## Extracting text from pdf files"
   ]
  },
  {
   "cell_type": "code",
   "execution_count": null,
   "metadata": {},
   "outputs": [],
   "source": [
    "#Extracting loan amount from documents\n",
    "folder = \"C:\\\\Users\\\\roseb\\\\World bank dataset\\\\\"\n",
    "new_dict = {}\n",
    "for file in os.listdir(folder):\n",
    "        filename = os.fsdecode(file)\n",
    "        if filename.endswith(\".pdf\"):\n",
    "            start = filename.find(\"_\")\n",
    "            b = 4\n",
    "            while start >= 0 and b > 1:\n",
    "                start = filename.find(\"_\", start+1)\n",
    "                b-=1\n",
    "            ID = filename[end+1:start].replace(\"_\", \" \")\n",
    "            pdf_file = open(\"C:\\\\Users\\\\roseb\\\\World bank dataset\\\\\" + filename, \"rb\")\n",
    "            read_pdf = PD.PdfFileReader(pdf_file)\n",
    "            num_of_pages = read_pdf.getNumPages()\n",
    "            page_content = \"\"\n",
    "            loan_amt = \"\"\n",
    "            if num_of_pages >= 5:\n",
    "                try:\n",
    "                    for page_num in range(1,5,1):\n",
    "                        page = read_pdf.getPage(page_num)\n",
    "                        new_page = page.extractText()\n",
    "                        if len(loan_amt) > 0:\n",
    "                            pass\n",
    "                        else:\n",
    "                            page_content += new_page\n",
    "                            dol_start = page_content.find(\"dollars\") + 10\n",
    "                            dol_end = page_content.find(\"dollars\") + 25\n",
    "                            substr = (str(page_content[dol_start:dol_end]))\n",
    "                            dol_end = substr.find(\")\")\n",
    "                            loan_amt = str(substr[:dol_end])\n",
    "                    new_dict[ID] = loan_amt\n",
    "                except:\n",
    "                    pass\n",
    "            else:\n",
    "                try:\n",
    "                    for page_num in range(num_of_pages):                \n",
    "                        page = read_pdf.getPage(page_num)\n",
    "                        new_page = page.extractText()\n",
    "                        if len(loan_amt) > 0:\n",
    "                            pass\n",
    "                        else:\n",
    "                            page_content += new_page\n",
    "                            dol_start = page_content.find(\"dollars\") + 10\n",
    "                            dol_end = page_content.find(\"dollars\") + 40\n",
    "                            substr = (str(page_content[dol_start:dol_end]))\n",
    "                            dol_end = substr.find(\")\")\n",
    "                            loan_amt = str(substr[:dol_end].replace(\",\",\"\"))\n",
    "                    new_dict[ID] = loan_amt\n",
    "                except:\n",
    "                    pass\n",
    "        else:\n",
    "            pass"
   ]
  },
  {
   "cell_type": "code",
   "execution_count": null,
   "metadata": {},
   "outputs": [],
   "source": [
    "#Extracting other information from documents\n",
    "folder = \"C:\\\\Users\\\\roseb\\\\World bank dataset\\\\\"\n",
    "Date = []\n",
    "ID = []\n",
    "ID_text = []\n",
    "Loan_id = []\n",
    "Project = []\n",
    "country = []\n",
    "\n",
    "for file in os.listdir(folder):\n",
    "        filename = os.fsdecode(file)\n",
    "        if filename.endswith(\".pdf\"):\n",
    "            start = filename.find(\"_\")\n",
    "            a = 3\n",
    "            while start >= 0 and a > 1:\n",
    "                start = filename.find(\"_\", start+1)\n",
    "                a-=1\n",
    "                end = start\n",
    "            Date.append(filename[:start].replace(\"_\", \" \"))\n",
    "            start = filename.find(\"_\")\n",
    "            b = 4\n",
    "            while start >= 0 and b > 1:\n",
    "                start = filename.find(\"_\", start+1)\n",
    "                b-=1\n",
    "            ID.append(filename[end+1:start].replace(\"_\", \" \"))\n",
    "            start2 = filename.find(\"-\")\n",
    "            start3 = filename.find(\"-\")\n",
    "            c = 3\n",
    "            while start2 >= 0 and c > 1:\n",
    "                start2 = filename.find(\"-\", start2+1)\n",
    "                c-=1\n",
    "            d=4\n",
    "            while start3 >= 0 and d > 1:\n",
    "                start3 = filename.find(\"-\", start3+1)\n",
    "                d-=1\n",
    "            Loan_id.append(filename[start2+1:start3])            \n",
    "            pdf_file = open(\"C:\\\\Users\\\\roseb\\\\World bank dataset\\\\\" + filename, \"rb\")\n",
    "            read_pdf = PD.PdfFileReader(pdf_file)\n",
    "            page = read_pdf.getPage(0)\n",
    "            new_page = page.extractText()\n",
    "            ID_text.append(new_page[22:35])\n",
    "            start = new_page.find(\"between\")+7\n",
    "            end = new_page.find(\"and\")\n",
    "            country.append(new_page[start:end].replace(\"\\n\",\"\"))            \n",
    "            start = new_page.find(\"(\")+1\n",
    "            end = new_page.find(\")\")\n",
    "            Project.append(new_page[start:end].replace(\"\\n\",\"\"))\n",
    "            \n",
    "        else:\n",
    "            pass"
   ]
  },
  {
   "cell_type": "code",
   "execution_count": null,
   "metadata": {},
   "outputs": [],
   "source": [
    "#writing to csv\n",
    "with open(\"world_bank_data.csv\", \"w+\", encoding=\"utf-8\") as file:\n",
    "    file.write(\"Date,ID,Country,LoanID_text,Loan_id,Project\\n\")\n",
    "    for i in range(len(Date)):\n",
    "        file.write(str(Date[i]) + \",\" + str(ID[i]) + \",\" + str(country[i]) + \",\" + str(ID_text[i]) + \",\" + str(Loan_id[i]) + \",\" + str(Project[i]) +\"\\n\")\n",
    "    \n",
    "file.close()"
   ]
  }
 ],
 "metadata": {
  "kernelspec": {
   "display_name": "Python 3",
   "language": "python",
   "name": "python3"
  },
  "language_info": {
   "codemirror_mode": {
    "name": "ipython",
    "version": 3
   },
   "file_extension": ".py",
   "mimetype": "text/x-python",
   "name": "python",
   "nbconvert_exporter": "python",
   "pygments_lexer": "ipython3",
   "version": "3.8.5"
  }
 },
 "nbformat": 4,
 "nbformat_minor": 4
}
