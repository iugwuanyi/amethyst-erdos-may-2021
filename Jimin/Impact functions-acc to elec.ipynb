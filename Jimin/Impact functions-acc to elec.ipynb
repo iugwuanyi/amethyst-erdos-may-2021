{
 "cells": [
  {
   "cell_type": "code",
   "execution_count": 1,
   "metadata": {},
   "outputs": [],
   "source": [
    "import pandas as pd\n",
    "import numpy as np\n",
    "import matplotlib.pyplot as plt\n",
    "import seaborn as sns\n",
    "sns.set_style(\"whitegrid\")"
   ]
  },
  {
   "cell_type": "code",
   "execution_count": 2,
   "metadata": {},
   "outputs": [],
   "source": [
    "data = pd.read_csv('All_Extracted_Data_From_PDFs.csv')\n",
    "topic = 'Urban Development'"
   ]
  },
  {
   "cell_type": "code",
   "execution_count": 3,
   "metadata": {},
   "outputs": [],
   "source": [
    "def topic_df(topic):\n",
    "    yearset = set(data.Year)\n",
    "    codeset = set(data.Country_Code)\n",
    "    countryset = set(data.Country)\n",
    "    topic_data = data.loc[lambda data: data['Topic'] == topic]\n",
    "    pre_dict = {'Country':[],'Country_Code':[],'Region':[],'Year':[],'Amount':[]}\n",
    "    pre_DF = pd.DataFrame(pre_dict)\n",
    "    for country in countryset:\n",
    "        for year in yearset:\n",
    "            for i in topic_data.index:\n",
    "                if topic_data.Country[i] == country and topic_data.Year[i] == year:\n",
    "                    df = pd.DataFrame([[country,topic_data.Country_Code[i],topic_data.Region[i],year,topic_data.Amount_in_usd[i]]],columns = pre_DF.columns)\n",
    "                    pre_DF = pre_DF.append(df)\n",
    "    pre_DF.reset_index()\n",
    "    amount_sum_dict={'Country_Code':[],'Region':[],'Year':[],'Amount_sum':[]}\n",
    "    amount_sum_DF =pd.DataFrame(amount_sum_dict)\n",
    "    for code in codeset:\n",
    "        df = pre_DF.loc[lambda pre_DF: pre_DF['Country_Code'] == code]\n",
    "        region = np.nan\n",
    "        if len(df.Region) > 0:\n",
    "            region = list(set(df.Region))[0]\n",
    "        if len(df.Year)>0:\n",
    "            for year in df.Year:\n",
    "                amount_sum = pre_DF.loc[(pre_DF['Country_Code'] == code) & (pre_DF['Year'] == year)]['Amount'].sum()\n",
    "                df2 = pd.DataFrame([[code,region,year,amount_sum]],columns = amount_sum_DF.columns)\n",
    "                amount_sum_DF = amount_sum_DF.append(df2)\n",
    "    amount_sum_DF= amount_sum_DF.drop_duplicates(subset =\"Amount_sum\")\n",
    "    amount_sum_DF = amount_sum_DF.reset_index()\n",
    "    return amount_sum_DF"
   ]
  },
  {
   "cell_type": "code",
   "execution_count": 4,
   "metadata": {},
   "outputs": [],
   "source": [
    "otherdata = pd.read_csv('acctoelec.csv')"
   ]
  },
  {
   "cell_type": "code",
   "execution_count": 5,
   "metadata": {},
   "outputs": [],
   "source": [
    "def compute_WB_data(wbdata,code,year):\n",
    "    value = np.nan\n",
    "    for j in wbdata.index:\n",
    "            if wbdata.iloc[j,1] == code:\n",
    "                for col in wbdata.columns:\n",
    "                    if wbdata[col].iloc[3] == year:\n",
    "                        value = wbdata[col].iloc[j]\n",
    "                        break\n",
    "    return value"
   ]
  },
  {
   "cell_type": "code",
   "execution_count": 6,
   "metadata": {},
   "outputs": [],
   "source": [
    "impact_DF = topic_df(topic)"
   ]
  },
  {
   "cell_type": "code",
   "execution_count": 7,
   "metadata": {},
   "outputs": [],
   "source": [
    "def topic_and_other(impact_DF,otherdata):\n",
    "    impact_DF['-2'] = None\n",
    "    impact_DF['-1'] = None\n",
    "    impact_DF['0'] = None\n",
    "    impact_DF['1'] = None\n",
    "    impact_DF['2'] = None\n",
    "    impact_DF['3'] = None\n",
    "    impact_DF['4'] = None\n",
    "    impact_DF['5'] = None    \n",
    "    for k in range(-2,6):\n",
    "\n",
    "        for i in impact_DF.index:\n",
    "            code = impact_DF.Country_Code[i]\n",
    "            year = impact_DF.Year[i] + k\n",
    "            other = compute_WB_data(otherdata,code,year)\n",
    "            impact_DF[str(k)][i] = other\n",
    "    return impact_DF   "
   ]
  },
  {
   "cell_type": "code",
   "execution_count": 8,
   "metadata": {},
   "outputs": [
    {
     "name": "stderr",
     "output_type": "stream",
     "text": [
      "<ipython-input-7-c8552962d237>:16: SettingWithCopyWarning: \n",
      "A value is trying to be set on a copy of a slice from a DataFrame\n",
      "\n",
      "See the caveats in the documentation: https://pandas.pydata.org/pandas-docs/stable/user_guide/indexing.html#returning-a-view-versus-a-copy\n",
      "  impact_DF[str(k)][i] = other\n"
     ]
    }
   ],
   "source": [
    "df = topic_and_other(impact_DF,otherdata)"
   ]
  },
  {
   "cell_type": "code",
   "execution_count": 9,
   "metadata": {},
   "outputs": [],
   "source": [
    "def region_code(region):\n",
    "    code = np.nan\n",
    "    if region == 'Latin America & Caribbean ':\n",
    "        code = 'LCN'\n",
    "    if region == 'East Asia & Pacific':\n",
    "        code = 'EAS'\n",
    "    if region == 'South Asia':\n",
    "        code = 'SAS'\n",
    "    if region == 'Middle East & North Africa':\n",
    "        code = 'MEA'\n",
    "    if region == 'Europe & Central Asia':\n",
    "        code = 'ECS'\n",
    "    return code"
   ]
  },
  {
   "cell_type": "code",
   "execution_count": 10,
   "metadata": {},
   "outputs": [
    {
     "data": {
      "text/html": [
       "<div>\n",
       "<style scoped>\n",
       "    .dataframe tbody tr th:only-of-type {\n",
       "        vertical-align: middle;\n",
       "    }\n",
       "\n",
       "    .dataframe tbody tr th {\n",
       "        vertical-align: top;\n",
       "    }\n",
       "\n",
       "    .dataframe thead th {\n",
       "        text-align: right;\n",
       "    }\n",
       "</style>\n",
       "<table border=\"1\" class=\"dataframe\">\n",
       "  <thead>\n",
       "    <tr style=\"text-align: right;\">\n",
       "      <th></th>\n",
       "      <th>index</th>\n",
       "      <th>Country_Code</th>\n",
       "      <th>Region</th>\n",
       "      <th>Year</th>\n",
       "      <th>Amount_sum</th>\n",
       "      <th>-2</th>\n",
       "      <th>-1</th>\n",
       "      <th>0</th>\n",
       "      <th>1</th>\n",
       "      <th>2</th>\n",
       "      <th>3</th>\n",
       "      <th>4</th>\n",
       "      <th>5</th>\n",
       "    </tr>\n",
       "  </thead>\n",
       "  <tbody>\n",
       "    <tr>\n",
       "      <th>0</th>\n",
       "      <td>0</td>\n",
       "      <td>BRA</td>\n",
       "      <td>Latin America &amp; Caribbean</td>\n",
       "      <td>1995.0</td>\n",
       "      <td>2.010000e+08</td>\n",
       "      <td>89.9999</td>\n",
       "      <td>91.5265</td>\n",
       "      <td>91.7286</td>\n",
       "      <td>92.8671</td>\n",
       "      <td>93.3541</td>\n",
       "      <td>94.1938</td>\n",
       "      <td>94.763</td>\n",
       "      <td>94.4128</td>\n",
       "    </tr>\n",
       "    <tr>\n",
       "      <th>1</th>\n",
       "      <td>0</td>\n",
       "      <td>BRA</td>\n",
       "      <td>Latin America &amp; Caribbean</td>\n",
       "      <td>1999.0</td>\n",
       "      <td>1.860000e+08</td>\n",
       "      <td>93.3541</td>\n",
       "      <td>94.1938</td>\n",
       "      <td>94.763</td>\n",
       "      <td>94.4128</td>\n",
       "      <td>96.0165</td>\n",
       "      <td>96.653</td>\n",
       "      <td>96.9801</td>\n",
       "      <td>96.7651</td>\n",
       "    </tr>\n",
       "    <tr>\n",
       "      <th>2</th>\n",
       "      <td>0</td>\n",
       "      <td>BRA</td>\n",
       "      <td>Latin America &amp; Caribbean</td>\n",
       "      <td>2002.0</td>\n",
       "      <td>9.323357e+07</td>\n",
       "      <td>94.4128</td>\n",
       "      <td>96.0165</td>\n",
       "      <td>96.653</td>\n",
       "      <td>96.9801</td>\n",
       "      <td>96.7651</td>\n",
       "      <td>97.0935</td>\n",
       "      <td>97.5943</td>\n",
       "      <td>98.1254</td>\n",
       "    </tr>\n",
       "    <tr>\n",
       "      <th>3</th>\n",
       "      <td>0</td>\n",
       "      <td>BRA</td>\n",
       "      <td>Latin America &amp; Caribbean</td>\n",
       "      <td>2003.0</td>\n",
       "      <td>4.600000e+07</td>\n",
       "      <td>96.0165</td>\n",
       "      <td>96.653</td>\n",
       "      <td>96.9801</td>\n",
       "      <td>96.7651</td>\n",
       "      <td>97.0935</td>\n",
       "      <td>97.5943</td>\n",
       "      <td>98.1254</td>\n",
       "      <td>98.5266</td>\n",
       "    </tr>\n",
       "    <tr>\n",
       "      <th>4</th>\n",
       "      <td>0</td>\n",
       "      <td>BRA</td>\n",
       "      <td>Latin America &amp; Caribbean</td>\n",
       "      <td>2008.0</td>\n",
       "      <td>1.727000e+07</td>\n",
       "      <td>97.5943</td>\n",
       "      <td>98.1254</td>\n",
       "      <td>98.5266</td>\n",
       "      <td>98.8569</td>\n",
       "      <td>98.9767</td>\n",
       "      <td>99.3287</td>\n",
       "      <td>99.5195</td>\n",
       "      <td>99.5752</td>\n",
       "    </tr>\n",
       "    <tr>\n",
       "      <th>...</th>\n",
       "      <td>...</td>\n",
       "      <td>...</td>\n",
       "      <td>...</td>\n",
       "      <td>...</td>\n",
       "      <td>...</td>\n",
       "      <td>...</td>\n",
       "      <td>...</td>\n",
       "      <td>...</td>\n",
       "      <td>...</td>\n",
       "      <td>...</td>\n",
       "      <td>...</td>\n",
       "      <td>...</td>\n",
       "      <td>...</td>\n",
       "    </tr>\n",
       "    <tr>\n",
       "      <th>100</th>\n",
       "      <td>0</td>\n",
       "      <td>MKD</td>\n",
       "      <td>Europe &amp; Central Asia</td>\n",
       "      <td>2019.0</td>\n",
       "      <td>2.933024e+07</td>\n",
       "      <td>100</td>\n",
       "      <td>100</td>\n",
       "      <td>NaN</td>\n",
       "      <td>NaN</td>\n",
       "      <td>NaN</td>\n",
       "      <td>NaN</td>\n",
       "      <td>NaN</td>\n",
       "      <td>NaN</td>\n",
       "    </tr>\n",
       "    <tr>\n",
       "      <th>101</th>\n",
       "      <td>0</td>\n",
       "      <td>TUN</td>\n",
       "      <td>Middle East &amp; North Africa</td>\n",
       "      <td>1998.0</td>\n",
       "      <td>8.694927e+07</td>\n",
       "      <td>90.4</td>\n",
       "      <td>92</td>\n",
       "      <td>93.2</td>\n",
       "      <td>94.2</td>\n",
       "      <td>94.8</td>\n",
       "      <td>97.3</td>\n",
       "      <td>97.8</td>\n",
       "      <td>98.4</td>\n",
       "    </tr>\n",
       "    <tr>\n",
       "      <th>102</th>\n",
       "      <td>0</td>\n",
       "      <td>TUN</td>\n",
       "      <td>Middle East &amp; North Africa</td>\n",
       "      <td>2001.0</td>\n",
       "      <td>3.672081e+07</td>\n",
       "      <td>94.2</td>\n",
       "      <td>94.8</td>\n",
       "      <td>97.3</td>\n",
       "      <td>97.8</td>\n",
       "      <td>98.4</td>\n",
       "      <td>99</td>\n",
       "      <td>99.3</td>\n",
       "      <td>99.4</td>\n",
       "    </tr>\n",
       "    <tr>\n",
       "      <th>103</th>\n",
       "      <td>0</td>\n",
       "      <td>LVA</td>\n",
       "      <td>Europe &amp; Central Asia</td>\n",
       "      <td>2000.0</td>\n",
       "      <td>2.220000e+06</td>\n",
       "      <td>100</td>\n",
       "      <td>100</td>\n",
       "      <td>100</td>\n",
       "      <td>100</td>\n",
       "      <td>100</td>\n",
       "      <td>100</td>\n",
       "      <td>100</td>\n",
       "      <td>100</td>\n",
       "    </tr>\n",
       "    <tr>\n",
       "      <th>104</th>\n",
       "      <td>0</td>\n",
       "      <td>TKM</td>\n",
       "      <td>Europe &amp; Central Asia</td>\n",
       "      <td>1997.0</td>\n",
       "      <td>3.420000e+07</td>\n",
       "      <td>NaN</td>\n",
       "      <td>NaN</td>\n",
       "      <td>NaN</td>\n",
       "      <td>NaN</td>\n",
       "      <td>NaN</td>\n",
       "      <td>99.6</td>\n",
       "      <td>99.5922</td>\n",
       "      <td>99.655</td>\n",
       "    </tr>\n",
       "  </tbody>\n",
       "</table>\n",
       "<p>105 rows × 13 columns</p>\n",
       "</div>"
      ],
      "text/plain": [
       "     index Country_Code                      Region    Year    Amount_sum  \\\n",
       "0        0          BRA  Latin America & Caribbean   1995.0  2.010000e+08   \n",
       "1        0          BRA  Latin America & Caribbean   1999.0  1.860000e+08   \n",
       "2        0          BRA  Latin America & Caribbean   2002.0  9.323357e+07   \n",
       "3        0          BRA  Latin America & Caribbean   2003.0  4.600000e+07   \n",
       "4        0          BRA  Latin America & Caribbean   2008.0  1.727000e+07   \n",
       "..     ...          ...                         ...     ...           ...   \n",
       "100      0          MKD       Europe & Central Asia  2019.0  2.933024e+07   \n",
       "101      0          TUN  Middle East & North Africa  1998.0  8.694927e+07   \n",
       "102      0          TUN  Middle East & North Africa  2001.0  3.672081e+07   \n",
       "103      0          LVA       Europe & Central Asia  2000.0  2.220000e+06   \n",
       "104      0          TKM       Europe & Central Asia  1997.0  3.420000e+07   \n",
       "\n",
       "          -2       -1        0        1        2        3        4        5  \n",
       "0    89.9999  91.5265  91.7286  92.8671  93.3541  94.1938   94.763  94.4128  \n",
       "1    93.3541  94.1938   94.763  94.4128  96.0165   96.653  96.9801  96.7651  \n",
       "2    94.4128  96.0165   96.653  96.9801  96.7651  97.0935  97.5943  98.1254  \n",
       "3    96.0165   96.653  96.9801  96.7651  97.0935  97.5943  98.1254  98.5266  \n",
       "4    97.5943  98.1254  98.5266  98.8569  98.9767  99.3287  99.5195  99.5752  \n",
       "..       ...      ...      ...      ...      ...      ...      ...      ...  \n",
       "100      100      100      NaN      NaN      NaN      NaN      NaN      NaN  \n",
       "101     90.4       92     93.2     94.2     94.8     97.3     97.8     98.4  \n",
       "102     94.2     94.8     97.3     97.8     98.4       99     99.3     99.4  \n",
       "103      100      100      100      100      100      100      100      100  \n",
       "104      NaN      NaN      NaN      NaN      NaN     99.6  99.5922   99.655  \n",
       "\n",
       "[105 rows x 13 columns]"
      ]
     },
     "execution_count": 10,
     "metadata": {},
     "output_type": "execute_result"
    }
   ],
   "source": [
    "df"
   ]
  },
  {
   "cell_type": "code",
   "execution_count": 11,
   "metadata": {},
   "outputs": [
    {
     "name": "stderr",
     "output_type": "stream",
     "text": [
      "<ipython-input-11-b39f1fa15e0a>:10: SettingWithCopyWarning: \n",
      "A value is trying to be set on a copy of a slice from a DataFrame\n",
      "\n",
      "See the caveats in the documentation: https://pandas.pydata.org/pandas-docs/stable/user_guide/indexing.html#returning-a-view-versus-a-copy\n",
      "  df['Delta_country'][i] = del_count\n",
      "<ipython-input-11-b39f1fa15e0a>:11: SettingWithCopyWarning: \n",
      "A value is trying to be set on a copy of a slice from a DataFrame\n",
      "\n",
      "See the caveats in the documentation: https://pandas.pydata.org/pandas-docs/stable/user_guide/indexing.html#returning-a-view-versus-a-copy\n",
      "  df['Delta_region'][i] = del_regi\n"
     ]
    }
   ],
   "source": [
    "df['Delta_country']=None\n",
    "df['Delta_region'] = None\n",
    "\n",
    "for i in df.index:\n",
    "    year = df.Year[i]\n",
    "    region = df.Region[i]\n",
    "    reg_code = region_code(region)\n",
    "    del_regi = (compute_WB_data(otherdata,reg_code,year+2) - compute_WB_data(otherdata,reg_code,year))/compute_WB_data(otherdata,reg_code,year)\n",
    "    del_count = (df.iloc[i,7] - df.iloc[i,5])/df.iloc[i,5]\n",
    "    df['Delta_country'][i] = del_count\n",
    "    df['Delta_region'][i] = del_regi\n",
    "    "
   ]
  },
  {
   "cell_type": "code",
   "execution_count": 12,
   "metadata": {},
   "outputs": [
    {
     "name": "stderr",
     "output_type": "stream",
     "text": [
      "<ipython-input-12-6139b662caf4>:2: SettingWithCopyWarning: \n",
      "A value is trying to be set on a copy of a slice from a DataFrame\n",
      "\n",
      "See the caveats in the documentation: https://pandas.pydata.org/pandas-docs/stable/user_guide/indexing.html#returning-a-view-versus-a-copy\n",
      "  df[\"Amount_sum\"][i] = np.log(df[\"Amount_sum\"][i])\n"
     ]
    }
   ],
   "source": [
    "for i in df.index:\n",
    "    df[\"Amount_sum\"][i] = np.log(df[\"Amount_sum\"][i])"
   ]
  },
  {
   "cell_type": "code",
   "execution_count": 19,
   "metadata": {},
   "outputs": [
    {
     "data": {
      "image/png": "[encoded data removed]",
      "text/plain": [
       "<Figure size 720x576 with 1 Axes>"
      ]
     },
     "metadata": {},
     "output_type": "display_data"
    }
   ],
   "source": [
    "plt.figure(figsize = (10,8))\n",
    "\n",
    "\n",
    "sns.scatterplot(data = df, x=\"Amount_sum\", y = \"Delta_country\", hue = \"Region\")\n",
    "plt.xlabel(\"Loan amount in log scale\", fontsize =16)\n",
    "\n",
    "\n",
    "## place a ylabel\n",
    "plt.ylabel(\"Delta\", fontsize = 16)\n",
    "\n",
    "plt.title(\"Impact of the urban development loans on the mortality rates\")\n",
    "## type this to show the plot\n",
    "plt.show()"
   ]
  },
  {
   "cell_type": "code",
   "execution_count": 14,
   "metadata": {},
   "outputs": [],
   "source": [
    "plt.close()"
   ]
  },
  {
   "cell_type": "code",
   "execution_count": 15,
   "metadata": {},
   "outputs": [],
   "source": [
    "dfdf = df.dropna(subset = [\"Delta_region\",\"Delta_country\"])"
   ]
  },
  {
   "cell_type": "code",
   "execution_count": 16,
   "metadata": {},
   "outputs": [],
   "source": [
    "from sklearn.linear_model import LinearRegression"
   ]
  },
  {
   "cell_type": "code",
   "execution_count": 17,
   "metadata": {},
   "outputs": [
    {
     "ename": "KeyError",
     "evalue": "'Delta'",
     "output_type": "error",
     "traceback": [
      "\u001b[0;31m---------------------------------------------------------------------------\u001b[0m",
      "\u001b[0;31mKeyError\u001b[0m                                  Traceback (most recent call last)",
      "\u001b[0;32m/opt/homebrew/anaconda3/lib/python3.8/site-packages/pandas/core/indexes/base.py\u001b[0m in \u001b[0;36mget_loc\u001b[0;34m(self, key, method, tolerance)\u001b[0m\n\u001b[1;32m   2894\u001b[0m             \u001b[0;32mtry\u001b[0m\u001b[0;34m:\u001b[0m\u001b[0;34m\u001b[0m\u001b[0;34m\u001b[0m\u001b[0m\n\u001b[0;32m-> 2895\u001b[0;31m                 \u001b[0;32mreturn\u001b[0m \u001b[0mself\u001b[0m\u001b[0;34m.\u001b[0m\u001b[0m_engine\u001b[0m\u001b[0;34m.\u001b[0m\u001b[0mget_loc\u001b[0m\u001b[0;34m(\u001b[0m\u001b[0mcasted_key\u001b[0m\u001b[0;34m)\u001b[0m\u001b[0;34m\u001b[0m\u001b[0;34m\u001b[0m\u001b[0m\n\u001b[0m\u001b[1;32m   2896\u001b[0m             \u001b[0;32mexcept\u001b[0m \u001b[0mKeyError\u001b[0m \u001b[0;32mas\u001b[0m \u001b[0merr\u001b[0m\u001b[0;34m:\u001b[0m\u001b[0;34m\u001b[0m\u001b[0;34m\u001b[0m\u001b[0m\n",
      "\u001b[0;32mpandas/_libs/index.pyx\u001b[0m in \u001b[0;36mpandas._libs.index.IndexEngine.get_loc\u001b[0;34m()\u001b[0m\n",
      "\u001b[0;32mpandas/_libs/index.pyx\u001b[0m in \u001b[0;36mpandas._libs.index.IndexEngine.get_loc\u001b[0;34m()\u001b[0m\n",
      "\u001b[0;32mpandas/_libs/hashtable_class_helper.pxi\u001b[0m in \u001b[0;36mpandas._libs.hashtable.PyObjectHashTable.get_item\u001b[0;34m()\u001b[0m\n",
      "\u001b[0;32mpandas/_libs/hashtable_class_helper.pxi\u001b[0m in \u001b[0;36mpandas._libs.hashtable.PyObjectHashTable.get_item\u001b[0;34m()\u001b[0m\n",
      "\u001b[0;31mKeyError\u001b[0m: 'Delta'",
      "\nThe above exception was the direct cause of the following exception:\n",
      "\u001b[0;31mKeyError\u001b[0m                                  Traceback (most recent call last)",
      "\u001b[0;32m<ipython-input-17-18452b02235c>\u001b[0m in \u001b[0;36m<module>\u001b[0;34m\u001b[0m\n\u001b[1;32m      1\u001b[0m \u001b[0mslr\u001b[0m \u001b[0;34m=\u001b[0m \u001b[0mLinearRegression\u001b[0m\u001b[0;34m(\u001b[0m\u001b[0mcopy_X\u001b[0m \u001b[0;34m=\u001b[0m \u001b[0;32mTrue\u001b[0m\u001b[0;34m)\u001b[0m\u001b[0;34m\u001b[0m\u001b[0;34m\u001b[0m\u001b[0m\n\u001b[0;32m----> 2\u001b[0;31m \u001b[0mslr\u001b[0m\u001b[0;34m.\u001b[0m\u001b[0mfit\u001b[0m\u001b[0;34m(\u001b[0m\u001b[0mdfdf\u001b[0m\u001b[0;34m[\u001b[0m\u001b[0;34m\"Amount_sum\"\u001b[0m\u001b[0;34m]\u001b[0m\u001b[0;34m.\u001b[0m\u001b[0mvalues\u001b[0m\u001b[0;34m.\u001b[0m\u001b[0mreshape\u001b[0m\u001b[0;34m(\u001b[0m\u001b[0;34m-\u001b[0m\u001b[0;36m1\u001b[0m\u001b[0;34m,\u001b[0m\u001b[0;36m1\u001b[0m\u001b[0;34m)\u001b[0m\u001b[0;34m,\u001b[0m\u001b[0mdfdf\u001b[0m\u001b[0;34m[\u001b[0m\u001b[0;34m\"Delta\"\u001b[0m\u001b[0;34m]\u001b[0m\u001b[0;34m.\u001b[0m\u001b[0mvalues\u001b[0m\u001b[0;34m)\u001b[0m\u001b[0;34m\u001b[0m\u001b[0;34m\u001b[0m\u001b[0m\n\u001b[0m",
      "\u001b[0;32m/opt/homebrew/anaconda3/lib/python3.8/site-packages/pandas/core/frame.py\u001b[0m in \u001b[0;36m__getitem__\u001b[0;34m(self, key)\u001b[0m\n\u001b[1;32m   2900\u001b[0m             \u001b[0;32mif\u001b[0m \u001b[0mself\u001b[0m\u001b[0;34m.\u001b[0m\u001b[0mcolumns\u001b[0m\u001b[0;34m.\u001b[0m\u001b[0mnlevels\u001b[0m \u001b[0;34m>\u001b[0m \u001b[0;36m1\u001b[0m\u001b[0;34m:\u001b[0m\u001b[0;34m\u001b[0m\u001b[0;34m\u001b[0m\u001b[0m\n\u001b[1;32m   2901\u001b[0m                 \u001b[0;32mreturn\u001b[0m \u001b[0mself\u001b[0m\u001b[0;34m.\u001b[0m\u001b[0m_getitem_multilevel\u001b[0m\u001b[0;34m(\u001b[0m\u001b[0mkey\u001b[0m\u001b[0;34m)\u001b[0m\u001b[0;34m\u001b[0m\u001b[0;34m\u001b[0m\u001b[0m\n\u001b[0;32m-> 2902\u001b[0;31m             \u001b[0mindexer\u001b[0m \u001b[0;34m=\u001b[0m \u001b[0mself\u001b[0m\u001b[0;34m.\u001b[0m\u001b[0mcolumns\u001b[0m\u001b[0;34m.\u001b[0m\u001b[0mget_loc\u001b[0m\u001b[0;34m(\u001b[0m\u001b[0mkey\u001b[0m\u001b[0;34m)\u001b[0m\u001b[0;34m\u001b[0m\u001b[0;34m\u001b[0m\u001b[0m\n\u001b[0m\u001b[1;32m   2903\u001b[0m             \u001b[0;32mif\u001b[0m \u001b[0mis_integer\u001b[0m\u001b[0;34m(\u001b[0m\u001b[0mindexer\u001b[0m\u001b[0;34m)\u001b[0m\u001b[0;34m:\u001b[0m\u001b[0;34m\u001b[0m\u001b[0;34m\u001b[0m\u001b[0m\n\u001b[1;32m   2904\u001b[0m                 \u001b[0mindexer\u001b[0m \u001b[0;34m=\u001b[0m \u001b[0;34m[\u001b[0m\u001b[0mindexer\u001b[0m\u001b[0;34m]\u001b[0m\u001b[0;34m\u001b[0m\u001b[0;34m\u001b[0m\u001b[0m\n",
      "\u001b[0;32m/opt/homebrew/anaconda3/lib/python3.8/site-packages/pandas/core/indexes/base.py\u001b[0m in \u001b[0;36mget_loc\u001b[0;34m(self, key, method, tolerance)\u001b[0m\n\u001b[1;32m   2895\u001b[0m                 \u001b[0;32mreturn\u001b[0m \u001b[0mself\u001b[0m\u001b[0;34m.\u001b[0m\u001b[0m_engine\u001b[0m\u001b[0;34m.\u001b[0m\u001b[0mget_loc\u001b[0m\u001b[0;34m(\u001b[0m\u001b[0mcasted_key\u001b[0m\u001b[0;34m)\u001b[0m\u001b[0;34m\u001b[0m\u001b[0;34m\u001b[0m\u001b[0m\n\u001b[1;32m   2896\u001b[0m             \u001b[0;32mexcept\u001b[0m \u001b[0mKeyError\u001b[0m \u001b[0;32mas\u001b[0m \u001b[0merr\u001b[0m\u001b[0;34m:\u001b[0m\u001b[0;34m\u001b[0m\u001b[0;34m\u001b[0m\u001b[0m\n\u001b[0;32m-> 2897\u001b[0;31m                 \u001b[0;32mraise\u001b[0m \u001b[0mKeyError\u001b[0m\u001b[0;34m(\u001b[0m\u001b[0mkey\u001b[0m\u001b[0;34m)\u001b[0m \u001b[0;32mfrom\u001b[0m \u001b[0merr\u001b[0m\u001b[0;34m\u001b[0m\u001b[0;34m\u001b[0m\u001b[0m\n\u001b[0m\u001b[1;32m   2898\u001b[0m \u001b[0;34m\u001b[0m\u001b[0m\n\u001b[1;32m   2899\u001b[0m         \u001b[0;32mif\u001b[0m \u001b[0mtolerance\u001b[0m \u001b[0;32mis\u001b[0m \u001b[0;32mnot\u001b[0m \u001b[0;32mNone\u001b[0m\u001b[0;34m:\u001b[0m\u001b[0;34m\u001b[0m\u001b[0;34m\u001b[0m\u001b[0m\n",
      "\u001b[0;31mKeyError\u001b[0m: 'Delta'"
     ]
    }
   ],
   "source": [
    "slr = LinearRegression(copy_X = True)\n",
    "slr.fit(dfdf[\"Amount_sum\"].values.reshape(-1,1),dfdf[\"Delta\"].values)"
   ]
  },
  {
   "cell_type": "code",
   "execution_count": null,
   "metadata": {},
   "outputs": [],
   "source": [
    "a = slr.coef_[0]"
   ]
  },
  {
   "cell_type": "code",
   "execution_count": null,
   "metadata": {},
   "outputs": [],
   "source": [
    "b = slr.intercept_"
   ]
  },
  {
   "cell_type": "code",
   "execution_count": null,
   "metadata": {},
   "outputs": [],
   "source": []
  }
 ],
 "metadata": {
  "kernelspec": {
   "display_name": "Python 3",
   "language": "python",
   "name": "python3"
  },
  "language_info": {
   "codemirror_mode": {
    "name": "ipython",
    "version": 3
   },
   "file_extension": ".py",
   "mimetype": "text/x-python",
   "name": "python",
   "nbconvert_exporter": "python",
   "pygments_lexer": "ipython3",
   "version": "3.8.5"
  }
 },
 "nbformat": 4,
 "nbformat_minor": 4
}
