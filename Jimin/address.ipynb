{
 "cells": [
  {
   "cell_type": "code",
   "execution_count": 1,
   "metadata": {},
   "outputs": [],
   "source": [
    "import pandas as pd\n",
    "import numpy as np"
   ]
  },
  {
   "cell_type": "code",
   "execution_count": 2,
   "metadata": {},
   "outputs": [],
   "source": [
    "pdfminer = pd.read_pickle('pdfminer_ables.dat')\n",
    "pytess = pd.read_pickle('pytesseract_results.dat')\n",
    "pdfminer['extracted_text'] = pdfminer['de_headed']\n",
    "pytess['extracted_text'] = pytess['reparse']\n",
    "combined = pytess.combine_first(pdfminer)\n",
    "combined = combined[['filename','extracted_text']]"
   ]
  },
  {
   "cell_type": "code",
   "execution_count": 3,
   "metadata": {},
   "outputs": [],
   "source": [
    "address = []\n",
    "for i in range(len(combined)):\n",
    "    docu = combined.iloc[i,1]\n",
    "    docu = docu.replace('  ',' ')\n",
    "    docu = docu.replace('   ',' ')\n",
    "    start = docu.find('Addresses')\n",
    "    borrower = docu[start:].find('For the Borrower')\n",
    "    colon = docu[start+borrower:].find(':')\n",
    "    bank = docu[start+borrower+colon:].find('For the Bank')\n",
    "    add = docu[start+borrower+colon+1:start+borrower+colon+bank]\n",
    "    address.append(add)\n",
    "\n",
    "    "
   ]
  },
  {
   "cell_type": "code",
   "execution_count": 4,
   "metadata": {},
   "outputs": [],
   "source": [
    "address2 = []\n",
    "for i in range(len(combined)):\n",
    "    docu = combined.iloc[i,1]\n",
    "    docu = docu.replace('  ',' ')\n",
    "    docu = docu.replace('   ',' ')\n",
    "    start = docu.find('ADDRESSES')\n",
    "    borrower = docu[start:].find('Address is')\n",
    "    colon = docu[start+borrower:].find(':')\n",
    "    bank = docu[start+borrower+colon:].find('The Bank')\n",
    "    add = docu[start+borrower+colon+1:start+borrower+colon+bank]\n",
    "    address2.append(add)"
   ]
  },
  {
   "cell_type": "code",
   "execution_count": 5,
   "metadata": {},
   "outputs": [],
   "source": [
    "address3 = []\n",
    "for i in range(len(combined)):\n",
    "    docu = combined.iloc[i,1]\n",
    "    docu = docu.replace('  ',' ')\n",
    "    docu = docu.replace('   ',' ')\n",
    "    start = docu.find('ADDRESSES')\n",
    "    borrower = docu[start:].find('Address is')\n",
    "    colon = docu[start+borrower:].find(':')\n",
    "    bank = docu[start+borrower+colon:].find('the Bank')\n",
    "    add = docu[start+borrower+colon+1:start+borrower+colon+bank]\n",
    "    address3.append(add)"
   ]
  },
  {
   "cell_type": "code",
   "execution_count": 6,
   "metadata": {},
   "outputs": [],
   "source": [
    "for i in range(len(address)):\n",
    "    if len(address[i]) < 5 & len(address2[i]) > 5:\n",
    "        address[i] = address2[i]\n",
    "    if len(address[i]) < 5 & len(address2[i]) < 5 & len(address3[i]) > 5:\n",
    "        address[i] = address3[i]"
   ]
  },
  {
   "cell_type": "code",
   "execution_count": 9,
   "metadata": {},
   "outputs": [],
   "source": [
    "data = pd.read_pickle('../Extracted_Information.dat')"
   ]
  },
  {
   "cell_type": "code",
   "execution_count": 10,
   "metadata": {},
   "outputs": [],
   "source": [
    "data['Address'] = pd.Series(address)"
   ]
  },
  {
   "cell_type": "code",
   "execution_count": 11,
   "metadata": {},
   "outputs": [],
   "source": [
    "data.to_pickle('../Extracted_Information.dat')"
   ]
  },
  {
   "cell_type": "code",
   "execution_count": null,
   "metadata": {},
   "outputs": [],
   "source": []
  }
 ],
 "metadata": {
  "kernelspec": {
   "display_name": "Python 3",
   "language": "python",
   "name": "python3"
  },
  "language_info": {
   "codemirror_mode": {
    "name": "ipython",
    "version": 3
   },
   "file_extension": ".py",
   "mimetype": "text/x-python",
   "name": "python",
   "nbconvert_exporter": "python",
   "pygments_lexer": "ipython3",
   "version": "3.8.5"
  }
 },
 "nbformat": 4,
 "nbformat_minor": 4
}
