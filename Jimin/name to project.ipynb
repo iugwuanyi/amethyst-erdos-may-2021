{
 "cells": [
  {
   "cell_type": "code",
   "execution_count": null,
   "metadata": {},
   "outputs": [],
   "source": [
    "import os\n",
    "import fitz\n",
    "import pandas as pd\n",
    "from pathlib import Path"
   ]
  },
  {
   "cell_type": "code",
   "execution_count": null,
   "metadata": {},
   "outputs": [],
   "source": [
    "#To iterate over all files in the data set\n",
    "#call the folder containing world bank loan agreements\n",
    "\n",
    "directory  = \"dataWBloans\""
   ]
  },
  {
   "cell_type": "code",
   "execution_count": null,
   "metadata": {},
   "outputs": [],
   "source": [
    "#create a list of the file names in the directory\n",
    "#.pdf files only\n",
    "\n",
    "file_name=[]\n",
    "\n",
    "for filename in os.listdir(directory):\n",
    "    if filename.endswith(\".pdf\"):\n",
    "        file_name.append(filename)\n",
    "        continue\n",
    "    else:\n",
    "        continue"
   ]
  },
  {
   "cell_type": "code",
   "execution_count": null,
   "metadata": {},
   "outputs": [],
   "source": [
    "#each element of the list is a string.\n",
    "#for example, file_name[0] ='1995_march_ ...conformed.pdf' and, \n",
    "#type(file_name[0]) = str"
   ]
  },
  {
   "cell_type": "code",
   "execution_count": null,
   "metadata": {},
   "outputs": [],
   "source": [
    "#create a list of the date of the agreements\n",
    "#extract the dates from the first part of the file names.\n",
    "\n",
    "date = []\n",
    "for i in range(len(file_name)):\n",
    "    index = []\n",
    "    for j in range(len(file_name[i])):\n",
    "        if file_name[i][j] == '_':\n",
    "            index.append(j)\n",
    "    date.append(file_name[i][:index[2]].replace(\"_\",\"\"))\n",
    "\n",
    "#date = ['1995march23','1995july7','1997december19',...]"
   ]
  },
  {
   "cell_type": "code",
   "execution_count": null,
   "metadata": {},
   "outputs": [],
   "source": [
    "#replace 'month' by the corresponding number\n",
    "\n",
    "for i in range(len(date)):\n",
    "        date[i] = date[i].replace(\"january\",\"-1-\")\n",
    "        date[i] = date[i].replace(\"february\",\"-2-\")\n",
    "        date[i] = date[i].replace(\"march\",\"-3-\")\n",
    "        date[i] = date[i].replace(\"april\",\"-4-\")\n",
    "        date[i] = date[i].replace(\"may\",\"-5-\")\n",
    "        date[i] = date[i].replace(\"june\",\"-6-\")\n",
    "        date[i] = date[i].replace(\"july\",\"-7-\")\n",
    "        date[i] = date[i].replace(\"august\",\"-8-\")\n",
    "        date[i] = date[i].replace(\"september\",\"-9-\")\n",
    "        date[i] = date[i].replace(\"october\",\"-10-\")\n",
    "        date[i] = date[i].replace(\"november\",\"-11-\")\n",
    "        date[i] = date[i].replace(\"december\",\"-12-\")\n",
    "        \n",
    "#date = ['1995-3-23','1995-7-7','1997-12-19',...]"
   ]
  },
  {
   "cell_type": "code",
   "execution_count": null,
   "metadata": {},
   "outputs": [],
   "source": [
    "#I don't understand how this code works... \n",
    "#this line right below is to iterate over the data set\n",
    "\n",
    "files = Path(directory).glob('*')\n",
    "\n",
    "#create a list of the text of cover pages of the documents\n",
    "cover = []\n",
    "for file in files:\n",
    "    text = \"\"\n",
    "    doc = fitz.open(file)\n",
    "    page_0 = doc.load_page(0)\n",
    "    text += page_0.getText()\n",
    "    cover.append(text)"
   ]
  },
  {
   "cell_type": "code",
   "execution_count": null,
   "metadata": {},
   "outputs": [],
   "source": [
    "LOAN_NUMBER = []\n",
    "for text in cover:\n",
    "    start = text.find('NUMBER')\n",
    "    LOAN_NUMBER.append(text[start+7:start+15].replace(\"\\n\",\"\"))"
   ]
  },
  {
   "cell_type": "code",
   "execution_count": null,
   "metadata": {},
   "outputs": [],
   "source": [
    "project = []\n",
    "\n",
    "#extract a string inside of the fist parenthesis\n",
    "for text in cover:\n",
    "    openup = 0\n",
    "    closedown = 2\n",
    "    for i in range(len(text)): \n",
    "        if text[i] == '(':\n",
    "            openup = i\n",
    "            break\n",
    "    for j in range(len(text)):\n",
    "        if text[j] == ')':\n",
    "            closedown = j\n",
    "            break\n",
    "    project.append(text[openup+1: closedown])"
   ]
  },
  {
   "cell_type": "code",
   "execution_count": null,
   "metadata": {},
   "outputs": [],
   "source": [
    "loan_number = []\n",
    "borrower = []\n",
    "#look for a substring 'LOAN' and 'NUMBER' and\n",
    "#extract the code next to 'LOAN NUMBER'\n",
    "\n",
    "for text in cover:\n",
    "    wordlist = text.split()\n",
    "    dummy_loan = 0\n",
    "    for word in wordlist:\n",
    "        index = wordlist.index(word)\n",
    "        if 'LOAN' in wordlist and wordlist.index(word) ==  wordlist.index('LOAN') + 1:\n",
    "            loan_number.append(wordlist[index+1] + wordlist[index+2])\n",
    "            dummy_loan += 1\n",
    "            break\n",
    "    if dummy_loan == 0:\n",
    "        loan_number.append('N/A')\n",
    "        \n",
    "    dummy_borrower = 0\n",
    "    for word in wordlist:\n",
    "        index = wordlist.index(word)\n",
    "        if 'and' in wordlist and 'between' in wordlist and wordlist.index(word) ==  wordlist.index('between') + 1:\n",
    "            index_and = wordlist.index('and')\n",
    "            borrower_name = ''\n",
    "            for country in range(index,index_and):\n",
    "                    borrower_name += wordlist[country]+' '\n",
    "            borrower.append(borrower_name)\n",
    "            dummy_borrower += 1    \n",
    "            break\n",
    "    if dummy_borrower == 0:\n",
    "        borrower.append('N/A')\n",
    "    "
   ]
  },
  {
   "cell_type": "code",
   "execution_count": null,
   "metadata": {},
   "outputs": [],
   "source": [
    "country_code = []\n",
    "for code in LOAN_NUMBER:\n",
    "    if ' ' in code:\n",
    "        start = code.find(' ')\n",
    "        country_code.append(code[start+1:])\n",
    "    elif '-' in code:\n",
    "        start2 = code.find('-')\n",
    "        country_code.append(code[start2+1:])\n",
    "    else:\n",
    "        country_code.append(code)\n",
    "\n",
    "        "
   ]
  },
  {
   "cell_type": "code",
   "execution_count": null,
   "metadata": {},
   "outputs": [],
   "source": [
    "dictionary = {'loan_number':loan_number,'coundtry_code':country_code, 'loan_number_2':LOAN_NUMBER, 'borrower':borrower, 'date': date, 'project':project}\n",
    "df = pd.DataFrame(data = dictionary)\n",
    "df"
   ]
  },
  {
   "cell_type": "code",
   "execution_count": null,
   "metadata": {},
   "outputs": [],
   "source": [
    "df.to_csv('0512_lbdp_3.csv')"
   ]
  },
  {
   "cell_type": "code",
   "execution_count": null,
   "metadata": {},
   "outputs": [],
   "source": []
  },
  {
   "cell_type": "code",
   "execution_count": null,
   "metadata": {},
   "outputs": [],
   "source": []
  },
  {
   "cell_type": "code",
   "execution_count": null,
   "metadata": {},
   "outputs": [],
   "source": []
  },
  {
   "cell_type": "code",
   "execution_count": 3,
   "metadata": {},
   "outputs": [],
   "source": [
    "import pandas as pd"
   ]
  },
  {
   "cell_type": "code",
   "execution_count": 52,
   "metadata": {},
   "outputs": [],
   "source": [
    "A = pd.read_pickle('pytesseract_results.dat')"
   ]
  },
  {
   "cell_type": "code",
   "execution_count": 53,
   "metadata": {},
   "outputs": [],
   "source": [
    "date_2 = []\n",
    "for i in range(len(A.iloc[:,0])):\n",
    "    index = []\n",
    "    for j in range(len(A.iloc[i,0])):\n",
    "        if A.iloc[i,0][j] == '_':\n",
    "            index.append(j)\n",
    "    date_2.append(A.iloc[i,0][:index[2]].replace(\"_\",\"\"))"
   ]
  },
  {
   "cell_type": "code",
   "execution_count": 54,
   "metadata": {},
   "outputs": [],
   "source": [
    "for i in range(len(date_2)):\n",
    "        date_2[i] = date_2[i].replace(\"january\",\"-1-\")\n",
    "        date_2[i] = date_2[i].replace(\"february\",\"-2-\")\n",
    "        date_2[i] = date_2[i].replace(\"march\",\"-3-\")\n",
    "        date_2[i] = date_2[i].replace(\"april\",\"-4-\")\n",
    "        date_2[i] = date_2[i].replace(\"may\",\"-5-\")\n",
    "        date_2[i] = date_2[i].replace(\"june\",\"-6-\")\n",
    "        date_2[i] = date_2[i].replace(\"july\",\"-7-\")\n",
    "        date_2[i] = date_2[i].replace(\"august\",\"-8-\")\n",
    "        date_2[i] = date_2[i].replace(\"september\",\"-9-\")\n",
    "        date_2[i] = date_2[i].replace(\"october\",\"-10-\")\n",
    "        date_2[i] = date_2[i].replace(\"november\",\"-11-\")\n",
    "        date_2[i] = date_2[i].replace(\"december\",\"-12-\")"
   ]
  },
  {
   "cell_type": "code",
   "execution_count": 55,
   "metadata": {},
   "outputs": [
    {
     "data": {
      "text/html": [
       "<div>\n",
       "<style scoped>\n",
       "    .dataframe tbody tr th:only-of-type {\n",
       "        vertical-align: middle;\n",
       "    }\n",
       "\n",
       "    .dataframe tbody tr th {\n",
       "        vertical-align: top;\n",
       "    }\n",
       "\n",
       "    .dataframe thead th {\n",
       "        text-align: right;\n",
       "    }\n",
       "</style>\n",
       "<table border=\"1\" class=\"dataframe\">\n",
       "  <thead>\n",
       "    <tr style=\"text-align: right;\">\n",
       "      <th></th>\n",
       "      <th>filename</th>\n",
       "      <th>reparse</th>\n",
       "    </tr>\n",
       "  </thead>\n",
       "  <tbody>\n",
       "    <tr>\n",
       "      <th>24</th>\n",
       "      <td>1990_december_4_833971468016863921_china--rura...</td>\n",
       "      <td>Public Disclosure Authorizea\\n\\nLOAN NUMBER 32...</td>\n",
       "    </tr>\n",
       "    <tr>\n",
       "      <th>64</th>\n",
       "      <td>1990_june_12_146771468325288731_pakistan--agri...</td>\n",
       "      <td>Public Disclosure Authorized\\n\\nPublic Disclos...</td>\n",
       "    </tr>\n",
       "    <tr>\n",
       "      <th>84</th>\n",
       "      <td>1990_march_27_681121468040453518_india--hydera...</td>\n",
       "      <td>Public Disclosure Authorized\\n\\n‘.nnmx:.-‘mmmm...</td>\n",
       "    </tr>\n",
       "    <tr>\n",
       "      <th>89</th>\n",
       "      <td>1990_may_15_598881468034838695_india--integrat...</td>\n",
       "      <td>P ] )\\n\\nORI\\n\\n_—\\n\\n- Ay 2T e\\n- pat v R AT\\...</td>\n",
       "    </tr>\n",
       "    <tr>\n",
       "      <th>90</th>\n",
       "      <td>1990_may_15_955111468244536485_india--integrat...</td>\n",
       "      <td>P ] )\\n\\nORI\\n\\n_—\\n\\n- Ay 2T e\\n- pat v R AT\\...</td>\n",
       "    </tr>\n",
       "  </tbody>\n",
       "</table>\n",
       "</div>"
      ],
      "text/plain": [
       "                                             filename  \\\n",
       "24  1990_december_4_833971468016863921_china--rura...   \n",
       "64  1990_june_12_146771468325288731_pakistan--agri...   \n",
       "84  1990_march_27_681121468040453518_india--hydera...   \n",
       "89  1990_may_15_598881468034838695_india--integrat...   \n",
       "90  1990_may_15_955111468244536485_india--integrat...   \n",
       "\n",
       "                                              reparse  \n",
       "24  Public Disclosure Authorizea\\n\\nLOAN NUMBER 32...  \n",
       "64  Public Disclosure Authorized\\n\\nPublic Disclos...  \n",
       "84  Public Disclosure Authorized\\n\\n‘.nnmx:.-‘mmmm...  \n",
       "89  P ] )\\n\\nORI\\n\\n_—\\n\\n- Ay 2T e\\n- pat v R AT\\...  \n",
       "90  P ] )\\n\\nORI\\n\\n_—\\n\\n- Ay 2T e\\n- pat v R AT\\...  "
      ]
     },
     "execution_count": 55,
     "metadata": {},
     "output_type": "execute_result"
    }
   ],
   "source": [
    "A.head()"
   ]
  },
  {
   "cell_type": "code",
   "execution_count": 57,
   "metadata": {},
   "outputs": [],
   "source": [
    "project_2 = []\n",
    "LOAN_NUMBER_2 = []\n",
    "\n",
    "for text in A[\"reparse\"]:\n",
    "    openup = 0\n",
    "    closedown = 2\n",
    "    for i in range(len(text)): \n",
    "        if text[i] == '(':\n",
    "            openup = i\n",
    "            break\n",
    "    for j in range(len(text)):\n",
    "        if text[j] == ')':\n",
    "            closedown = j\n",
    "            break\n",
    "    project_2.append(text[openup+1: closedown])\n",
    "    \n",
    "    start = text.find('NUMBER')\n",
    "    LOAN_NUMBER_2.append(text[start+7:start+15].replace(\"\\n\",\"\"))\n"
   ]
  },
  {
   "cell_type": "code",
   "execution_count": 58,
   "metadata": {},
   "outputs": [],
   "source": [
    "country_code_2 = []\n",
    "\n",
    "for code in LOAN_NUMBER_2:\n",
    "    if ' ' in code:\n",
    "        start = code.find(' ')\n",
    "        country_code_2.append(code[start+1:])\n",
    "    elif '-' in code:\n",
    "        start2 = code.find('-')\n",
    "        country_code_2.append(code[start2+1:])\n",
    "    else:\n",
    "        country_code_2.append(code)\n"
   ]
  },
  {
   "cell_type": "code",
   "execution_count": 59,
   "metadata": {},
   "outputs": [
    {
     "data": {
      "text/html": [
       "<div>\n",
       "<style scoped>\n",
       "    .dataframe tbody tr th:only-of-type {\n",
       "        vertical-align: middle;\n",
       "    }\n",
       "\n",
       "    .dataframe tbody tr th {\n",
       "        vertical-align: top;\n",
       "    }\n",
       "\n",
       "    .dataframe thead th {\n",
       "        text-align: right;\n",
       "    }\n",
       "</style>\n",
       "<table border=\"1\" class=\"dataframe\">\n",
       "  <thead>\n",
       "    <tr style=\"text-align: right;\">\n",
       "      <th></th>\n",
       "      <th>coundtry_code</th>\n",
       "      <th>loan_number</th>\n",
       "      <th>date</th>\n",
       "      <th>project</th>\n",
       "    </tr>\n",
       "  </thead>\n",
       "  <tbody>\n",
       "    <tr>\n",
       "      <th>0</th>\n",
       "      <td>CHA</td>\n",
       "      <td>3274-CHA</td>\n",
       "      <td>1990-12-4</td>\n",
       "      <td>Rural Industrial Technology (Spark</td>\n",
       "    </tr>\n",
       "    <tr>\n",
       "      <th>1</th>\n",
       "      <td>PAK</td>\n",
       "      <td>3226 PAK</td>\n",
       "      <td>1990-6-12</td>\n",
       "      <td>Agricultural Credit Project</td>\n",
       "    </tr>\n",
       "    <tr>\n",
       "      <th>2</th>\n",
       "      <td>IN</td>\n",
       "      <td>3181 IN</td>\n",
       "      <td>1990-3-27</td>\n",
       "      <td>Hyderabad Water Supply and Sanitation Praoject</td>\n",
       "    </tr>\n",
       "    <tr>\n",
       "      <th>3</th>\n",
       "      <td>IN</td>\n",
       "      <td>3197 IN</td>\n",
       "      <td>1990-5-15</td>\n",
       "      <td></td>\n",
       "    </tr>\n",
       "    <tr>\n",
       "      <th>4</th>\n",
       "      <td>IN</td>\n",
       "      <td>3197 IN</td>\n",
       "      <td>1990-5-15</td>\n",
       "      <td></td>\n",
       "    </tr>\n",
       "    <tr>\n",
       "      <th>...</th>\n",
       "      <td>...</td>\n",
       "      <td>...</td>\n",
       "      <td>...</td>\n",
       "      <td>...</td>\n",
       "    </tr>\n",
       "    <tr>\n",
       "      <th>395</th>\n",
       "      <td>EG</td>\n",
       "      <td>8997-EG</td>\n",
       "      <td>2019-9-11</td>\n",
       "      <td>Additional Financing for Strengthening Social ...</td>\n",
       "    </tr>\n",
       "    <tr>\n",
       "      <th>396</th>\n",
       "      <td>CO</td>\n",
       "      <td>8798-CO</td>\n",
       "      <td>2019-9-13</td>\n",
       "      <td>Enhancing Waterway Connectivity and Water Serv...</td>\n",
       "    </tr>\n",
       "    <tr>\n",
       "      <th>397</th>\n",
       "      <td>RO</td>\n",
       "      <td>9005-RO</td>\n",
       "      <td>2019-9-23</td>\n",
       "      <td>Romania Health Program for Results</td>\n",
       "    </tr>\n",
       "    <tr>\n",
       "      <th>398</th>\n",
       "      <td>SR</td>\n",
       "      <td>8985-SR</td>\n",
       "      <td>2019-9-25</td>\n",
       "      <td>Competitiveness and Sector Diversification Pro...</td>\n",
       "    </tr>\n",
       "    <tr>\n",
       "      <th>399</th>\n",
       "      <td>BR</td>\n",
       "      <td>8966- BR</td>\n",
       "      <td>2019-9-6</td>\n",
       "      <td>Mato Grosso Fiscal Adjustment and Environmenta...</td>\n",
       "    </tr>\n",
       "  </tbody>\n",
       "</table>\n",
       "<p>400 rows × 4 columns</p>\n",
       "</div>"
      ],
      "text/plain": [
       "    coundtry_code loan_number       date  \\\n",
       "0             CHA    3274-CHA  1990-12-4   \n",
       "1             PAK    3226 PAK  1990-6-12   \n",
       "2              IN     3181 IN  1990-3-27   \n",
       "3              IN     3197 IN  1990-5-15   \n",
       "4              IN     3197 IN  1990-5-15   \n",
       "..            ...         ...        ...   \n",
       "395            EG     8997-EG  2019-9-11   \n",
       "396            CO     8798-CO  2019-9-13   \n",
       "397            RO     9005-RO  2019-9-23   \n",
       "398            SR     8985-SR  2019-9-25   \n",
       "399            BR    8966- BR   2019-9-6   \n",
       "\n",
       "                                               project  \n",
       "0                   Rural Industrial Technology (Spark  \n",
       "1                          Agricultural Credit Project  \n",
       "2       Hyderabad Water Supply and Sanitation Praoject  \n",
       "3                                                       \n",
       "4                                                       \n",
       "..                                                 ...  \n",
       "395  Additional Financing for Strengthening Social ...  \n",
       "396  Enhancing Waterway Connectivity and Water Serv...  \n",
       "397                 Romania Health Program for Results  \n",
       "398  Competitiveness and Sector Diversification Pro...  \n",
       "399  Mato Grosso Fiscal Adjustment and Environmenta...  \n",
       "\n",
       "[400 rows x 4 columns]"
      ]
     },
     "execution_count": 59,
     "metadata": {},
     "output_type": "execute_result"
    }
   ],
   "source": [
    "dictionary = {'coundtry_code':country_code_2, 'loan_number':LOAN_NUMBER_2,'date': date_2, 'project':project_2}\n",
    "df_2 = pd.DataFrame(data = dictionary)\n",
    "df_2"
   ]
  },
  {
   "cell_type": "code",
   "execution_count": 48,
   "metadata": {},
   "outputs": [
    {
     "ename": "KeyError",
     "evalue": "'Requested level (\\n) does not match index name (None)'",
     "output_type": "error",
     "traceback": [
      "\u001b[0;31m---------------------------------------------------------------------------\u001b[0m",
      "\u001b[0;31mKeyError\u001b[0m                                  Traceback (most recent call last)",
      "\u001b[0;32m<ipython-input-48-59986f4f8049>\u001b[0m in \u001b[0;36m<module>\u001b[0;34m\u001b[0m\n\u001b[0;32m----> 1\u001b[0;31m \u001b[0mdf_2\u001b[0m\u001b[0;34m[\u001b[0m\u001b[0;34m\"project\"\u001b[0m\u001b[0;34m]\u001b[0m\u001b[0;34m.\u001b[0m\u001b[0mcount\u001b[0m\u001b[0;34m(\u001b[0m\u001b[0;34m'\\n'\u001b[0m\u001b[0;34m)\u001b[0m\u001b[0;34m\u001b[0m\u001b[0;34m\u001b[0m\u001b[0m\n\u001b[0m",
      "\u001b[0;32m/opt/homebrew/anaconda3/lib/python3.8/site-packages/pandas/core/series.py\u001b[0m in \u001b[0;36mcount\u001b[0;34m(self, level)\u001b[0m\n\u001b[1;32m   1768\u001b[0m \u001b[0;34m\u001b[0m\u001b[0m\n\u001b[1;32m   1769\u001b[0m         \u001b[0;32mif\u001b[0m \u001b[0misinstance\u001b[0m\u001b[0;34m(\u001b[0m\u001b[0mlevel\u001b[0m\u001b[0;34m,\u001b[0m \u001b[0mstr\u001b[0m\u001b[0;34m)\u001b[0m\u001b[0;34m:\u001b[0m\u001b[0;34m\u001b[0m\u001b[0;34m\u001b[0m\u001b[0m\n\u001b[0;32m-> 1770\u001b[0;31m             \u001b[0mlevel\u001b[0m \u001b[0;34m=\u001b[0m \u001b[0mself\u001b[0m\u001b[0;34m.\u001b[0m\u001b[0mindex\u001b[0m\u001b[0;34m.\u001b[0m\u001b[0m_get_level_number\u001b[0m\u001b[0;34m(\u001b[0m\u001b[0mlevel\u001b[0m\u001b[0;34m)\u001b[0m\u001b[0;34m\u001b[0m\u001b[0;34m\u001b[0m\u001b[0m\n\u001b[0m\u001b[1;32m   1771\u001b[0m \u001b[0;34m\u001b[0m\u001b[0m\n\u001b[1;32m   1772\u001b[0m         \u001b[0mlev\u001b[0m \u001b[0;34m=\u001b[0m \u001b[0mself\u001b[0m\u001b[0;34m.\u001b[0m\u001b[0mindex\u001b[0m\u001b[0;34m.\u001b[0m\u001b[0mlevels\u001b[0m\u001b[0;34m[\u001b[0m\u001b[0mlevel\u001b[0m\u001b[0;34m]\u001b[0m\u001b[0;34m\u001b[0m\u001b[0;34m\u001b[0m\u001b[0m\n",
      "\u001b[0;32m/opt/homebrew/anaconda3/lib/python3.8/site-packages/pandas/core/indexes/base.py\u001b[0m in \u001b[0;36m_get_level_number\u001b[0;34m(self, level)\u001b[0m\n\u001b[1;32m   1413\u001b[0m \u001b[0;34m\u001b[0m\u001b[0m\n\u001b[1;32m   1414\u001b[0m     \u001b[0;32mdef\u001b[0m \u001b[0m_get_level_number\u001b[0m\u001b[0;34m(\u001b[0m\u001b[0mself\u001b[0m\u001b[0;34m,\u001b[0m \u001b[0mlevel\u001b[0m\u001b[0;34m)\u001b[0m \u001b[0;34m->\u001b[0m \u001b[0mint\u001b[0m\u001b[0;34m:\u001b[0m\u001b[0;34m\u001b[0m\u001b[0;34m\u001b[0m\u001b[0m\n\u001b[0;32m-> 1415\u001b[0;31m         \u001b[0mself\u001b[0m\u001b[0;34m.\u001b[0m\u001b[0m_validate_index_level\u001b[0m\u001b[0;34m(\u001b[0m\u001b[0mlevel\u001b[0m\u001b[0;34m)\u001b[0m\u001b[0;34m\u001b[0m\u001b[0;34m\u001b[0m\u001b[0m\n\u001b[0m\u001b[1;32m   1416\u001b[0m         \u001b[0;32mreturn\u001b[0m \u001b[0;36m0\u001b[0m\u001b[0;34m\u001b[0m\u001b[0;34m\u001b[0m\u001b[0m\n\u001b[1;32m   1417\u001b[0m \u001b[0;34m\u001b[0m\u001b[0m\n",
      "\u001b[0;32m/opt/homebrew/anaconda3/lib/python3.8/site-packages/pandas/core/indexes/base.py\u001b[0m in \u001b[0;36m_validate_index_level\u001b[0;34m(self, level)\u001b[0m\n\u001b[1;32m   1408\u001b[0m                 )\n\u001b[1;32m   1409\u001b[0m         \u001b[0;32melif\u001b[0m \u001b[0mlevel\u001b[0m \u001b[0;34m!=\u001b[0m \u001b[0mself\u001b[0m\u001b[0;34m.\u001b[0m\u001b[0mname\u001b[0m\u001b[0;34m:\u001b[0m\u001b[0;34m\u001b[0m\u001b[0;34m\u001b[0m\u001b[0m\n\u001b[0;32m-> 1410\u001b[0;31m             raise KeyError(\n\u001b[0m\u001b[1;32m   1411\u001b[0m                 \u001b[0;34mf\"Requested level ({level}) does not match index name ({self.name})\"\u001b[0m\u001b[0;34m\u001b[0m\u001b[0;34m\u001b[0m\u001b[0m\n\u001b[1;32m   1412\u001b[0m             )\n",
      "\u001b[0;31mKeyError\u001b[0m: 'Requested level (\\n) does not match index name (None)'"
     ]
    }
   ],
   "source": []
  },
  {
   "cell_type": "code",
   "execution_count": 60,
   "metadata": {},
   "outputs": [],
   "source": [
    "df_2.to_csv('pytesseract.csv')"
   ]
  },
  {
   "cell_type": "code",
   "execution_count": 61,
   "metadata": {
    "scrolled": true
   },
   "outputs": [
    {
     "name": "stdout",
     "output_type": "stream",
     "text": [
      "<class 'pandas.core.frame.DataFrame'>\n",
      "RangeIndex: 400 entries, 0 to 399\n",
      "Data columns (total 4 columns):\n",
      " #   Column         Non-Null Count  Dtype \n",
      "---  ------         --------------  ----- \n",
      " 0   coundtry_code  400 non-null    object\n",
      " 1   loan_number    400 non-null    object\n",
      " 2   date           400 non-null    object\n",
      " 3   project        400 non-null    object\n",
      "dtypes: object(4)\n",
      "memory usage: 12.6+ KB\n"
     ]
    }
   ],
   "source": [
    "df_2.info()"
   ]
  },
  {
   "cell_type": "code",
   "execution_count": null,
   "metadata": {},
   "outputs": [],
   "source": []
  }
 ],
 "metadata": {
  "kernelspec": {
   "display_name": "Python 3",
   "language": "python",
   "name": "python3"
  },
  "language_info": {
   "codemirror_mode": {
    "name": "ipython",
    "version": 3
   },
   "file_extension": ".py",
   "mimetype": "text/x-python",
   "name": "python",
   "nbconvert_exporter": "python",
   "pygments_lexer": "ipython3",
   "version": "3.8.5"
  }
 },
 "nbformat": 4,
 "nbformat_minor": 4
}
