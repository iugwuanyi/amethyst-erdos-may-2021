{
 "cells": [
  {
   "cell_type": "code",
   "execution_count": 1,
   "metadata": {},
   "outputs": [],
   "source": [
    "import pandas as pd\n",
    "import numpy as np\n",
    "import matplotlib.pyplot as plt\n",
    "import seaborn as sns\n",
    "sns.set_style(\"whitegrid\")"
   ]
  },
  {
   "cell_type": "code",
   "execution_count": 2,
   "metadata": {},
   "outputs": [],
   "source": [
    "data = pd.read_csv('All_Extracted_Data_From_PDFs.csv')\n",
    "topic = 'Health care'"
   ]
  },
  {
   "cell_type": "code",
   "execution_count": 3,
   "metadata": {},
   "outputs": [],
   "source": [
    "def topic_df(topic):\n",
    "    yearset = set(data.Year)\n",
    "    codeset = set(data.Country_Code)\n",
    "    countryset = set(data.Country)\n",
    "    topic_data = data.loc[lambda data: data['Topic'] == topic]\n",
    "    pre_dict = {'Country':[],'Country_Code':[],'Region':[],'Year':[],'Amount':[]}\n",
    "    pre_DF = pd.DataFrame(pre_dict)\n",
    "    for country in countryset:\n",
    "        for year in yearset:\n",
    "            for i in topic_data.index:\n",
    "                if topic_data.Country[i] == country and topic_data.Year[i] == year:\n",
    "                    df = pd.DataFrame([[country,topic_data.Country_Code[i],topic_data.Region[i],year,topic_data.Amount_in_usd[i]]],columns = pre_DF.columns)\n",
    "                    pre_DF = pre_DF.append(df)\n",
    "    pre_DF.reset_index()\n",
    "    amount_sum_dict={'Country_Code':[],'Region':[],'Year':[],'Amount_sum':[]}\n",
    "    amount_sum_DF =pd.DataFrame(amount_sum_dict)\n",
    "    for code in codeset:\n",
    "        df = pre_DF.loc[lambda pre_DF: pre_DF['Country_Code'] == code]\n",
    "        region = np.nan\n",
    "        if len(df.Region) > 0:\n",
    "            region = list(set(df.Region))[0]\n",
    "        if len(df.Year)>0:\n",
    "            for year in df.Year:\n",
    "                amount_sum = pre_DF.loc[(pre_DF['Country_Code'] == code) & (pre_DF['Year'] == year)]['Amount'].sum()\n",
    "                df2 = pd.DataFrame([[code,region,year,amount_sum]],columns = amount_sum_DF.columns)\n",
    "                amount_sum_DF = amount_sum_DF.append(df2)\n",
    "    amount_sum_DF= amount_sum_DF.drop_duplicates(subset =\"Amount_sum\")\n",
    "    amount_sum_DF = amount_sum_DF.reset_index()\n",
    "    return amount_sum_DF"
   ]
  },
  {
   "cell_type": "code",
   "execution_count": 4,
   "metadata": {},
   "outputs": [],
   "source": [
    "otherdata = pd.read_csv('mortalityrate.csv')"
   ]
  },
  {
   "cell_type": "code",
   "execution_count": 5,
   "metadata": {},
   "outputs": [],
   "source": [
    "def compute_WB_data(wbdata,code,year):\n",
    "    value = np.nan\n",
    "    for j in wbdata.index:\n",
    "            if wbdata.iloc[j,1] == code:\n",
    "                for col in wbdata.columns:\n",
    "                    if wbdata[col].iloc[3] == year:\n",
    "                        value = wbdata[col].iloc[j]\n",
    "                        break\n",
    "    return value"
   ]
  },
  {
   "cell_type": "code",
   "execution_count": 6,
   "metadata": {},
   "outputs": [],
   "source": [
    "impact_DF = topic_df(topic)"
   ]
  },
  {
   "cell_type": "code",
   "execution_count": 7,
   "metadata": {},
   "outputs": [],
   "source": [
    "def topic_and_other(impact_DF,otherdata):\n",
    "    impact_DF['-2'] = None\n",
    "    impact_DF['-1'] = None\n",
    "    impact_DF['0'] = None\n",
    "    impact_DF['1'] = None\n",
    "    impact_DF['2'] = None\n",
    "    impact_DF['3'] = None\n",
    "    impact_DF['4'] = None\n",
    "    impact_DF['5'] = None    \n",
    "    for k in range(-2,6):\n",
    "        for i in impact_DF.index:\n",
    "            code = impact_DF.Country_Code[i]\n",
    "            year = impact_DF.Year[i] + k\n",
    "            other = compute_WB_data(otherdata,code,year)\n",
    "            impact_DF[str(k)][i] = other\n",
    "    return impact_DF\n",
    "    \n",
    "    \n",
    "    \n",
    "    \n",
    "    \n",
    "    \n",
    "    "
   ]
  },
  {
   "cell_type": "code",
   "execution_count": 8,
   "metadata": {},
   "outputs": [
    {
     "name": "stderr",
     "output_type": "stream",
     "text": [
      "<ipython-input-7-5de6e810a56f>:15: SettingWithCopyWarning: \n",
      "A value is trying to be set on a copy of a slice from a DataFrame\n",
      "\n",
      "See the caveats in the documentation: https://pandas.pydata.org/pandas-docs/stable/user_guide/indexing.html#returning-a-view-versus-a-copy\n",
      "  impact_DF[str(k)][i] = other\n"
     ]
    }
   ],
   "source": [
    "df = topic_and_other(impact_DF,otherdata)"
   ]
  },
  {
   "cell_type": "code",
   "execution_count": 9,
   "metadata": {},
   "outputs": [],
   "source": [
    "#def plot_values(df,control,treat):\n",
    "    "
   ]
  },
  {
   "cell_type": "code",
   "execution_count": 10,
   "metadata": {
    "scrolled": false
   },
   "outputs": [
    {
     "data": {
      "text/html": [
       "<div>\n",
       "<style scoped>\n",
       "    .dataframe tbody tr th:only-of-type {\n",
       "        vertical-align: middle;\n",
       "    }\n",
       "\n",
       "    .dataframe tbody tr th {\n",
       "        vertical-align: top;\n",
       "    }\n",
       "\n",
       "    .dataframe thead th {\n",
       "        text-align: right;\n",
       "    }\n",
       "</style>\n",
       "<table border=\"1\" class=\"dataframe\">\n",
       "  <thead>\n",
       "    <tr style=\"text-align: right;\">\n",
       "      <th></th>\n",
       "      <th>index</th>\n",
       "      <th>Country_Code</th>\n",
       "      <th>Region</th>\n",
       "      <th>Year</th>\n",
       "      <th>Amount_sum</th>\n",
       "      <th>-2</th>\n",
       "      <th>-1</th>\n",
       "      <th>0</th>\n",
       "      <th>1</th>\n",
       "      <th>2</th>\n",
       "      <th>3</th>\n",
       "      <th>4</th>\n",
       "      <th>5</th>\n",
       "    </tr>\n",
       "  </thead>\n",
       "  <tbody>\n",
       "    <tr>\n",
       "      <th>0</th>\n",
       "      <td>0</td>\n",
       "      <td>PRY</td>\n",
       "      <td>Latin America &amp; Caribbean</td>\n",
       "      <td>2006.0</td>\n",
       "      <td>22000000.0</td>\n",
       "      <td>25.6</td>\n",
       "      <td>25</td>\n",
       "      <td>24.4</td>\n",
       "      <td>23.8</td>\n",
       "      <td>23.2</td>\n",
       "      <td>22.6</td>\n",
       "      <td>21.9</td>\n",
       "      <td>21.3</td>\n",
       "    </tr>\n",
       "    <tr>\n",
       "      <th>1</th>\n",
       "      <td>0</td>\n",
       "      <td>PRY</td>\n",
       "      <td>Latin America &amp; Caribbean</td>\n",
       "      <td>2019.0</td>\n",
       "      <td>115000000.0</td>\n",
       "      <td>17.8</td>\n",
       "      <td>17.2</td>\n",
       "      <td>16.6</td>\n",
       "      <td>NaN</td>\n",
       "      <td>NaN</td>\n",
       "      <td>NaN</td>\n",
       "      <td>NaN</td>\n",
       "      <td>NaN</td>\n",
       "    </tr>\n",
       "    <tr>\n",
       "      <th>2</th>\n",
       "      <td>0</td>\n",
       "      <td>CHN</td>\n",
       "      <td>East Asia &amp; Pacific</td>\n",
       "      <td>1999.0</td>\n",
       "      <td>20000000.0</td>\n",
       "      <td>35</td>\n",
       "      <td>33.5</td>\n",
       "      <td>31.9</td>\n",
       "      <td>30.1</td>\n",
       "      <td>28.2</td>\n",
       "      <td>26.1</td>\n",
       "      <td>24.1</td>\n",
       "      <td>22.2</td>\n",
       "    </tr>\n",
       "    <tr>\n",
       "      <th>3</th>\n",
       "      <td>0</td>\n",
       "      <td>CHN</td>\n",
       "      <td>East Asia &amp; Pacific</td>\n",
       "      <td>2008.0</td>\n",
       "      <td>50000000.0</td>\n",
       "      <td>18.7</td>\n",
       "      <td>17.2</td>\n",
       "      <td>15.8</td>\n",
       "      <td>14.7</td>\n",
       "      <td>13.6</td>\n",
       "      <td>12.6</td>\n",
       "      <td>11.6</td>\n",
       "      <td>10.8</td>\n",
       "    </tr>\n",
       "    <tr>\n",
       "      <th>4</th>\n",
       "      <td>0</td>\n",
       "      <td>CHN</td>\n",
       "      <td>East Asia &amp; Pacific</td>\n",
       "      <td>2010.0</td>\n",
       "      <td>80000000.0</td>\n",
       "      <td>15.8</td>\n",
       "      <td>14.7</td>\n",
       "      <td>13.6</td>\n",
       "      <td>12.6</td>\n",
       "      <td>11.6</td>\n",
       "      <td>10.8</td>\n",
       "      <td>9.9</td>\n",
       "      <td>9.2</td>\n",
       "    </tr>\n",
       "  </tbody>\n",
       "</table>\n",
       "</div>"
      ],
      "text/plain": [
       "   index Country_Code                      Region    Year   Amount_sum    -2  \\\n",
       "0      0          PRY  Latin America & Caribbean   2006.0   22000000.0  25.6   \n",
       "1      0          PRY  Latin America & Caribbean   2019.0  115000000.0  17.8   \n",
       "2      0          CHN         East Asia & Pacific  1999.0   20000000.0    35   \n",
       "3      0          CHN         East Asia & Pacific  2008.0   50000000.0  18.7   \n",
       "4      0          CHN         East Asia & Pacific  2010.0   80000000.0  15.8   \n",
       "\n",
       "     -1     0     1     2     3     4     5  \n",
       "0    25  24.4  23.8  23.2  22.6  21.9  21.3  \n",
       "1  17.2  16.6   NaN   NaN   NaN   NaN   NaN  \n",
       "2  33.5  31.9  30.1  28.2  26.1  24.1  22.2  \n",
       "3  17.2  15.8  14.7  13.6  12.6  11.6  10.8  \n",
       "4  14.7  13.6  12.6  11.6  10.8   9.9   9.2  "
      ]
     },
     "execution_count": 10,
     "metadata": {},
     "output_type": "execute_result"
    }
   ],
   "source": [
    "df.head()"
   ]
  },
  {
   "cell_type": "code",
   "execution_count": 11,
   "metadata": {},
   "outputs": [],
   "source": [
    "y=2003\n",
    "mortalrate = []\n",
    "for year in range(y,y+8):\n",
    "    a = compute_WB_data(otherdata,'LCN',year)\n",
    "    mortalrate.append(a)\n"
   ]
  },
  {
   "cell_type": "code",
   "execution_count": 12,
   "metadata": {},
   "outputs": [
    {
     "data": {
      "image/png": "[encoded data removed]",
      "text/plain": [
       "<Figure size 432x288 with 1 Axes>"
      ]
     },
     "metadata": {},
     "output_type": "display_data"
    }
   ],
   "source": [
    "x = range(-2,6)\n",
    "y1 = list(df.iloc[1,5:])\n",
    "y2 = mortalrate\n",
    "plt.plot(x,y1,'-')\n",
    "plt.plot(x,y2,'-',color = 'y')\n",
    "#plt.xlabel('Brazil borrowed money in 2009')\n",
    "#plt.ylabel('Literacy rate')\n",
    "#plt.legend(['','Latin america'])\n",
    "plt.show()"
   ]
  },
  {
   "cell_type": "code",
   "execution_count": 13,
   "metadata": {},
   "outputs": [],
   "source": [
    "plt.close()"
   ]
  },
  {
   "cell_type": "code",
   "execution_count": 14,
   "metadata": {},
   "outputs": [],
   "source": [
    "def region_code(region):\n",
    "    code = np.nan\n",
    "    if region == 'Latin America & Caribbean ':\n",
    "        code = 'LCN'\n",
    "    if region == 'East Asia & Pacific':\n",
    "        code = 'EAS'\n",
    "    if region == 'South Asia':\n",
    "        code = 'SAS'\n",
    "    if region == 'Middle East & North Africa':\n",
    "        code = 'MEA'\n",
    "    if region == 'Europe & Central Asia':\n",
    "        code = 'ECS'\n",
    "    return code"
   ]
  },
  {
   "cell_type": "code",
   "execution_count": 25,
   "metadata": {},
   "outputs": [
    {
     "name": "stderr",
     "output_type": "stream",
     "text": [
      "<ipython-input-25-983dfbed7ec0>:9: SettingWithCopyWarning: \n",
      "A value is trying to be set on a copy of a slice from a DataFrame\n",
      "\n",
      "See the caveats in the documentation: https://pandas.pydata.org/pandas-docs/stable/user_guide/indexing.html#returning-a-view-versus-a-copy\n",
      "  df['Delta_country'][i] = -del_count\n",
      "<ipython-input-25-983dfbed7ec0>:10: SettingWithCopyWarning: \n",
      "A value is trying to be set on a copy of a slice from a DataFrame\n",
      "\n",
      "See the caveats in the documentation: https://pandas.pydata.org/pandas-docs/stable/user_guide/indexing.html#returning-a-view-versus-a-copy\n",
      "  df['Delta_region'][i] = -del_regi\n"
     ]
    }
   ],
   "source": [
    "df['Delta_country'] = None\n",
    "df['Delta_region'] = None\n",
    "for i in df.index:\n",
    "    year = df.Year[i]\n",
    "    region = df.Region[i]\n",
    "    reg_code = region_code(region)\n",
    "    del_regi = (compute_WB_data(otherdata,reg_code,year+2) - compute_WB_data(otherdata,reg_code,year))/compute_WB_data(otherdata,reg_code,year)\n",
    "    del_count = (df.iloc[i,10] - df.iloc[i,5])/df.iloc[i,5]\n",
    "    df['Delta_country'][i] = -del_count\n",
    "    df['Delta_region'][i] = -del_regi"
   ]
  },
  {
   "cell_type": "code",
   "execution_count": null,
   "metadata": {},
   "outputs": [],
   "source": [
    "plt.figure(figsize = (10,8))\n",
    "\n",
    "\n",
    "sns.scatterplot(data = df, x=\"Delta_region\", y = \"Delta_country\", hue ='Region', size = 'Amount_sum')\n",
    "plt.xlabel(\"delta of region\", fontsize =16)\n",
    "\n",
    "## place a ylabel\n",
    "plt.ylabel(\"delta of country\", fontsize = 16)\n",
    "x1 = np.linspace(0.03,.12)\n",
    "y1 = a*x1 + b\n",
    "plt.plot(x1,y1)\n",
    "plt.title(\"Impact of the health care loans on the mortality rates\")\n",
    "## type this to show the plot\n",
    "plt.show()"
   ]
  },
  {
   "cell_type": "code",
   "execution_count": 17,
   "metadata": {},
   "outputs": [
    {
     "data": {
      "text/plain": [
       "Index(['index', 'Country_Code', 'Region', 'Year', 'Amount_sum', '-2', '-1',\n",
       "       '0', '1', '2', '3', '4', '5', 'Delta_country', 'Delta_region'],\n",
       "      dtype='object')"
      ]
     },
     "execution_count": 17,
     "metadata": {},
     "output_type": "execute_result"
    }
   ],
   "source": [
    "df.columns"
   ]
  },
  {
   "cell_type": "code",
   "execution_count": 42,
   "metadata": {},
   "outputs": [],
   "source": [
    "dfdf = df.dropna(subset = [\"Delta_region\",\"Delta_country\"])"
   ]
  },
  {
   "cell_type": "code",
   "execution_count": 39,
   "metadata": {},
   "outputs": [],
   "source": [
    "from sklearn.linear_model import LinearRegression"
   ]
  },
  {
   "cell_type": "code",
   "execution_count": 43,
   "metadata": {},
   "outputs": [
    {
     "data": {
      "text/plain": [
       "LinearRegression()"
      ]
     },
     "execution_count": 43,
     "metadata": {},
     "output_type": "execute_result"
    }
   ],
   "source": [
    "slr = LinearRegression(copy_X = True)\n",
    "slr.fit(dfdf[\"Delta_region\"].values.reshape(-1,1),dfdf[\"Delta_country\"].values)"
   ]
  },
  {
   "cell_type": "code",
   "execution_count": 52,
   "metadata": {},
   "outputs": [],
   "source": [
    "a = slr.coef_[0]"
   ]
  },
  {
   "cell_type": "code",
   "execution_count": 53,
   "metadata": {},
   "outputs": [],
   "source": [
    "b = slr.intercept_"
   ]
  },
  {
   "cell_type": "code",
   "execution_count": null,
   "metadata": {},
   "outputs": [],
   "source": []
  }
 ],
 "metadata": {
  "kernelspec": {
   "display_name": "Python 3",
   "language": "python",
   "name": "python3"
  },
  "language_info": {
   "codemirror_mode": {
    "name": "ipython",
    "version": 3
   },
   "file_extension": ".py",
   "mimetype": "text/x-python",
   "name": "python",
   "nbconvert_exporter": "python",
   "pygments_lexer": "ipython3",
   "version": "3.8.5"
  }
 },
 "nbformat": 4,
 "nbformat_minor": 4
}
