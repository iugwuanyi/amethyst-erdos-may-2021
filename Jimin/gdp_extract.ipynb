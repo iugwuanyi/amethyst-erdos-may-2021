{
 "cells": [
  {
   "cell_type": "code",
   "execution_count": 6,
   "metadata": {},
   "outputs": [],
   "source": [
    "import pandas as pd\n",
    "import numpy as np"
   ]
  },
  {
   "cell_type": "code",
   "execution_count": 29,
   "metadata": {},
   "outputs": [],
   "source": [
    "data = pd.read_pickle('Extracted_Information.dat')\n",
    "gdp_historical = pd.read_csv('gdpWB.csv')"
   ]
  },
  {
   "cell_type": "code",
   "execution_count": 30,
   "metadata": {},
   "outputs": [
    {
     "data": {
      "text/html": [
       "<div>\n",
       "<style scoped>\n",
       "    .dataframe tbody tr th:only-of-type {\n",
       "        vertical-align: middle;\n",
       "    }\n",
       "\n",
       "    .dataframe tbody tr th {\n",
       "        vertical-align: top;\n",
       "    }\n",
       "\n",
       "    .dataframe thead th {\n",
       "        text-align: right;\n",
       "    }\n",
       "</style>\n",
       "<table border=\"1\" class=\"dataframe\">\n",
       "  <thead>\n",
       "    <tr style=\"text-align: right;\">\n",
       "      <th></th>\n",
       "      <th>filename</th>\n",
       "      <th>Date</th>\n",
       "      <th>Project_name</th>\n",
       "      <th>Currency</th>\n",
       "      <th>Amount_loan</th>\n",
       "      <th>Amount_in_usd</th>\n",
       "      <th>Project_desc</th>\n",
       "      <th>Country_code</th>\n",
       "      <th>Address</th>\n",
       "      <th>Country3code</th>\n",
       "      <th>Country_name</th>\n",
       "      <th>Income_level</th>\n",
       "      <th>Region</th>\n",
       "    </tr>\n",
       "  </thead>\n",
       "  <tbody>\n",
       "    <tr>\n",
       "      <th>0</th>\n",
       "      <td>1990_april_24_587321468019152780_conformed-cop...</td>\n",
       "      <td>1990-04-24 00:00:00</td>\n",
       "      <td>forestry sector project</td>\n",
       "      <td>$</td>\n",
       "      <td>80000000</td>\n",
       "      <td>80000000</td>\n",
       "      <td>Description of the Project The objectives of t...</td>\n",
       "      <td>IVC</td>\n",
       "      <td>\\n\\nministry of economy, finance and budget\\np...</td>\n",
       "      <td>CIV</td>\n",
       "      <td>Cote d'Ivoire</td>\n",
       "      <td>Lower middle income</td>\n",
       "      <td>Sub-Saharan Africa (excluding high income)</td>\n",
       "    </tr>\n",
       "    <tr>\n",
       "      <th>1</th>\n",
       "      <td>1990_april_24_668811468165272290_conformed-cop...</td>\n",
       "      <td>1990-04-24 00:00:00</td>\n",
       "      <td>water supply project</td>\n",
       "      <td>$</td>\n",
       "      <td>2500000</td>\n",
       "      <td>2500000</td>\n",
       "      <td></td>\n",
       "      <td>SLU</td>\n",
       "      <td>\\n\\n  ministry of planning, personnel,\\n   est...</td>\n",
       "      <td>LCA</td>\n",
       "      <td>St. Lucia</td>\n",
       "      <td>Upper middle income</td>\n",
       "      <td>Latin America &amp; Caribbean (excluding high income)</td>\n",
       "    </tr>\n",
       "    <tr>\n",
       "      <th>2</th>\n",
       "      <td>1990_april_25_904191468298750561_conformed-cop...</td>\n",
       "      <td>1990-04-25 00:00:00</td>\n",
       "      <td>environment management project</td>\n",
       "      <td>$</td>\n",
       "      <td>18000000</td>\n",
       "      <td>18000000</td>\n",
       "      <td>Description of the Project The objectives of t...</td>\n",
       "      <td>POL</td>\n",
       "      <td>\\n\\n  ministry of environmental protection,\\n ...</td>\n",
       "      <td>POL</td>\n",
       "      <td>Poland</td>\n",
       "      <td>High income</td>\n",
       "      <td>NaN</td>\n",
       "    </tr>\n",
       "    <tr>\n",
       "      <th>3</th>\n",
       "      <td>1990_april_30_410811468040573756_conformed-cop...</td>\n",
       "      <td>1990-04-30 00:00:00</td>\n",
       "      <td>rural electrification project</td>\n",
       "      <td>$</td>\n",
       "      <td>329000000</td>\n",
       "      <td>329000000</td>\n",
       "      <td>Description of the Project The objective of th...</td>\n",
       "      <td>IND</td>\n",
       "      <td>\\n\\n   ministry of finance\\n   c/o directorate...</td>\n",
       "      <td>IDN</td>\n",
       "      <td>Indonesia</td>\n",
       "      <td>Upper middle income</td>\n",
       "      <td>East Asia &amp; Pacific (excluding high income)</td>\n",
       "    </tr>\n",
       "    <tr>\n",
       "      <th>4</th>\n",
       "      <td>1990_april_30_725911468042268845_conformed-cop...</td>\n",
       "      <td>1990-04-30 00:00:00</td>\n",
       "      <td>third telecommunications project</td>\n",
       "      <td>$</td>\n",
       "      <td>350000000</td>\n",
       "      <td>350000000</td>\n",
       "      <td>Description of the Project The objectives of t...</td>\n",
       "      <td>IND</td>\n",
       "      <td>\\n\\n   ministry of finance\\n   c/o director ge...</td>\n",
       "      <td>IDN</td>\n",
       "      <td>Indonesia</td>\n",
       "      <td>Upper middle income</td>\n",
       "      <td>East Asia &amp; Pacific (excluding high income)</td>\n",
       "    </tr>\n",
       "  </tbody>\n",
       "</table>\n",
       "</div>"
      ],
      "text/plain": [
       "                                            filename                 Date  \\\n",
       "0  1990_april_24_587321468019152780_conformed-cop...  1990-04-24 00:00:00   \n",
       "1  1990_april_24_668811468165272290_conformed-cop...  1990-04-24 00:00:00   \n",
       "2  1990_april_25_904191468298750561_conformed-cop...  1990-04-25 00:00:00   \n",
       "3  1990_april_30_410811468040573756_conformed-cop...  1990-04-30 00:00:00   \n",
       "4  1990_april_30_725911468042268845_conformed-cop...  1990-04-30 00:00:00   \n",
       "\n",
       "                       Project_name Currency Amount_loan Amount_in_usd  \\\n",
       "0           forestry sector project        $    80000000      80000000   \n",
       "1              water supply project        $     2500000       2500000   \n",
       "2    environment management project        $    18000000      18000000   \n",
       "3     rural electrification project        $   329000000     329000000   \n",
       "4  third telecommunications project        $   350000000     350000000   \n",
       "\n",
       "                                        Project_desc Country_code  \\\n",
       "0  Description of the Project The objectives of t...          IVC   \n",
       "1                                                             SLU   \n",
       "2  Description of the Project The objectives of t...          POL   \n",
       "3  Description of the Project The objective of th...          IND   \n",
       "4  Description of the Project The objectives of t...          IND   \n",
       "\n",
       "                                             Address Country3code  \\\n",
       "0  \\n\\nministry of economy, finance and budget\\np...          CIV   \n",
       "1  \\n\\n  ministry of planning, personnel,\\n   est...          LCA   \n",
       "2  \\n\\n  ministry of environmental protection,\\n ...          POL   \n",
       "3  \\n\\n   ministry of finance\\n   c/o directorate...          IDN   \n",
       "4  \\n\\n   ministry of finance\\n   c/o director ge...          IDN   \n",
       "\n",
       "    Country_name         Income_level  \\\n",
       "0  Cote d'Ivoire  Lower middle income   \n",
       "1      St. Lucia  Upper middle income   \n",
       "2         Poland          High income   \n",
       "3      Indonesia  Upper middle income   \n",
       "4      Indonesia  Upper middle income   \n",
       "\n",
       "                                              Region  \n",
       "0         Sub-Saharan Africa (excluding high income)  \n",
       "1  Latin America & Caribbean (excluding high income)  \n",
       "2                                                NaN  \n",
       "3        East Asia & Pacific (excluding high income)  \n",
       "4        East Asia & Pacific (excluding high income)  "
      ]
     },
     "execution_count": 30,
     "metadata": {},
     "output_type": "execute_result"
    }
   ],
   "source": [
    "data.head()"
   ]
  },
  {
   "cell_type": "code",
   "execution_count": 26,
   "metadata": {},
   "outputs": [
    {
     "data": {
      "text/plain": [
       "'IDN'"
      ]
     },
     "execution_count": 26,
     "metadata": {},
     "output_type": "execute_result"
    }
   ],
   "source": [
    "data.Country3code[3]"
   ]
  },
  {
   "cell_type": "code",
   "execution_count": 17,
   "metadata": {},
   "outputs": [
    {
     "data": {
      "text/plain": [
       "Index(['Data Source', 'World Development Indicators', 'Unnamed: 2',\n",
       "       'Unnamed: 3', 'Unnamed: 4', 'Unnamed: 5', 'Unnamed: 6', 'Unnamed: 7',\n",
       "       'Unnamed: 8', 'Unnamed: 9', 'Unnamed: 10', 'Unnamed: 11', 'Unnamed: 12',\n",
       "       'Unnamed: 13', 'Unnamed: 14', 'Unnamed: 15', 'Unnamed: 16',\n",
       "       'Unnamed: 17', 'Unnamed: 18', 'Unnamed: 19', 'Unnamed: 20',\n",
       "       'Unnamed: 21', 'Unnamed: 22', 'Unnamed: 23', 'Unnamed: 24',\n",
       "       'Unnamed: 25', 'Unnamed: 26', 'Unnamed: 27', 'Unnamed: 28',\n",
       "       'Unnamed: 29', 'Unnamed: 30', 'Unnamed: 31', 'Unnamed: 32',\n",
       "       'Unnamed: 33', 'Unnamed: 34', 'Unnamed: 35', 'Unnamed: 36',\n",
       "       'Unnamed: 37', 'Unnamed: 38', 'Unnamed: 39', 'Unnamed: 40',\n",
       "       'Unnamed: 41', 'Unnamed: 42', 'Unnamed: 43', 'Unnamed: 44',\n",
       "       'Unnamed: 45', 'Unnamed: 46', 'Unnamed: 47', 'Unnamed: 48',\n",
       "       'Unnamed: 49', 'Unnamed: 50', 'Unnamed: 51', 'Unnamed: 52',\n",
       "       'Unnamed: 53', 'Unnamed: 54', 'Unnamed: 55', 'Unnamed: 56',\n",
       "       'Unnamed: 57', 'Unnamed: 58', 'Unnamed: 59', 'Unnamed: 60',\n",
       "       'Unnamed: 61', 'Unnamed: 62', 'Unnamed: 63', 'Unnamed: 64',\n",
       "       'Unnamed: 65'],\n",
       "      dtype='object')"
      ]
     },
     "execution_count": 17,
     "metadata": {},
     "output_type": "execute_result"
    }
   ],
   "source": [
    "gdp.columns[]"
   ]
  },
  {
   "cell_type": "code",
   "execution_count": 28,
   "metadata": {},
   "outputs": [
    {
     "ename": "AttributeError",
     "evalue": "'int' object has no attribute 'index'",
     "output_type": "error",
     "traceback": [
      "\u001b[0;31m---------------------------------------------------------------------------\u001b[0m",
      "\u001b[0;31mAttributeError\u001b[0m                            Traceback (most recent call last)",
      "\u001b[0;32m<ipython-input-28-1ce0da062f3b>\u001b[0m in \u001b[0;36m<module>\u001b[0;34m\u001b[0m\n\u001b[0;32m----> 1\u001b[0;31m \u001b[0mgdp\u001b[0m\u001b[0;34m.\u001b[0m\u001b[0mindex\u001b[0m\u001b[0;34m\u001b[0m\u001b[0;34m\u001b[0m\u001b[0m\n\u001b[0m",
      "\u001b[0;31mAttributeError\u001b[0m: 'int' object has no attribute 'index'"
     ]
    }
   ],
   "source": [
    "gdp.index"
   ]
  },
  {
   "cell_type": "code",
   "execution_count": 32,
   "metadata": {},
   "outputs": [],
   "source": [
    "gdp_value = []\n",
    "for i in data.index:\n",
    "    country = data.Country3code[i]\n",
    "    time = data.Date[i].year\n",
    "    gdp = 0\n",
    "    for j in gdp_historical.index:\n",
    "        if gdp_historical.iloc[j,1] == country:\n",
    "            for col in gdp_historical.columns:\n",
    "                if gdp_historical[col].iloc[3] == time:\n",
    "                    gdp = gdp_historical[col].iloc[j]\n",
    "                    break\n",
    "    gdp_value.append(gdp)\n",
    "        \n",
    "    "
   ]
  },
  {
   "cell_type": "code",
   "execution_count": 38,
   "metadata": {},
   "outputs": [],
   "source": [
    "a = 0\n",
    "for i in range(len(gdp_value)):\n",
    "    if gdp_value[i] == 0:\n",
    "        a = a+1\n",
    "        gdp_value[i] = None"
   ]
  },
  {
   "cell_type": "code",
   "execution_count": 34,
   "metadata": {},
   "outputs": [
    {
     "data": {
      "text/plain": [
       "3205"
      ]
     },
     "execution_count": 34,
     "metadata": {},
     "output_type": "execute_result"
    }
   ],
   "source": [
    "len(gdp_value)"
   ]
  },
  {
   "cell_type": "code",
   "execution_count": 35,
   "metadata": {},
   "outputs": [],
   "source": [
    "data[\"GDP_historic\"] = pd.Series(gdp_value)"
   ]
  },
  {
   "cell_type": "code",
   "execution_count": 37,
   "metadata": {},
   "outputs": [],
   "source": [
    "data.to_csv('gdp_data_WB.csv')"
   ]
  },
  {
   "cell_type": "code",
   "execution_count": 39,
   "metadata": {},
   "outputs": [
    {
     "data": {
      "text/plain": [
       "0"
      ]
     },
     "execution_count": 39,
     "metadata": {},
     "output_type": "execute_result"
    }
   ],
   "source": [
    "a"
   ]
  },
  {
   "cell_type": "code",
   "execution_count": 40,
   "metadata": {},
   "outputs": [],
   "source": [
    "a = 0\n",
    "for i in range(len(gdp_value)):\n",
    "    if gdp_value[i] == None:\n",
    "        a = a+1"
   ]
  },
  {
   "cell_type": "code",
   "execution_count": 41,
   "metadata": {},
   "outputs": [
    {
     "data": {
      "text/plain": [
       "532"
      ]
     },
     "execution_count": 41,
     "metadata": {},
     "output_type": "execute_result"
    }
   ],
   "source": [
    "a"
   ]
  },
  {
   "cell_type": "code",
   "execution_count": 42,
   "metadata": {},
   "outputs": [
    {
     "data": {
      "text/html": [
       "<div>\n",
       "<style scoped>\n",
       "    .dataframe tbody tr th:only-of-type {\n",
       "        vertical-align: middle;\n",
       "    }\n",
       "\n",
       "    .dataframe tbody tr th {\n",
       "        vertical-align: top;\n",
       "    }\n",
       "\n",
       "    .dataframe thead th {\n",
       "        text-align: right;\n",
       "    }\n",
       "</style>\n",
       "<table border=\"1\" class=\"dataframe\">\n",
       "  <thead>\n",
       "    <tr style=\"text-align: right;\">\n",
       "      <th></th>\n",
       "      <th>filename</th>\n",
       "      <th>Date</th>\n",
       "      <th>Project_name</th>\n",
       "      <th>Currency</th>\n",
       "      <th>Amount_loan</th>\n",
       "      <th>Amount_in_usd</th>\n",
       "      <th>Project_desc</th>\n",
       "      <th>Country_code</th>\n",
       "      <th>Address</th>\n",
       "      <th>Country3code</th>\n",
       "      <th>Country_name</th>\n",
       "      <th>Income_level</th>\n",
       "      <th>Region</th>\n",
       "      <th>GDP_historic</th>\n",
       "    </tr>\n",
       "  </thead>\n",
       "  <tbody>\n",
       "    <tr>\n",
       "      <th>0</th>\n",
       "      <td>1990_april_24_587321468019152780_conformed-cop...</td>\n",
       "      <td>1990-04-24 00:00:00</td>\n",
       "      <td>forestry sector project</td>\n",
       "      <td>$</td>\n",
       "      <td>80000000</td>\n",
       "      <td>80000000</td>\n",
       "      <td>Description of the Project The objectives of t...</td>\n",
       "      <td>IVC</td>\n",
       "      <td>\\n\\nministry of economy, finance and budget\\np...</td>\n",
       "      <td>CIV</td>\n",
       "      <td>Cote d'Ivoire</td>\n",
       "      <td>Lower middle income</td>\n",
       "      <td>Sub-Saharan Africa (excluding high income)</td>\n",
       "      <td>1.079585e+10</td>\n",
       "    </tr>\n",
       "    <tr>\n",
       "      <th>1</th>\n",
       "      <td>1990_april_24_668811468165272290_conformed-cop...</td>\n",
       "      <td>1990-04-24 00:00:00</td>\n",
       "      <td>water supply project</td>\n",
       "      <td>$</td>\n",
       "      <td>2500000</td>\n",
       "      <td>2500000</td>\n",
       "      <td></td>\n",
       "      <td>SLU</td>\n",
       "      <td>\\n\\n  ministry of planning, personnel,\\n   est...</td>\n",
       "      <td>LCA</td>\n",
       "      <td>St. Lucia</td>\n",
       "      <td>Upper middle income</td>\n",
       "      <td>Latin America &amp; Caribbean (excluding high income)</td>\n",
       "      <td>5.796296e+08</td>\n",
       "    </tr>\n",
       "    <tr>\n",
       "      <th>2</th>\n",
       "      <td>1990_april_25_904191468298750561_conformed-cop...</td>\n",
       "      <td>1990-04-25 00:00:00</td>\n",
       "      <td>environment management project</td>\n",
       "      <td>$</td>\n",
       "      <td>18000000</td>\n",
       "      <td>18000000</td>\n",
       "      <td>Description of the Project The objectives of t...</td>\n",
       "      <td>POL</td>\n",
       "      <td>\\n\\n  ministry of environmental protection,\\n ...</td>\n",
       "      <td>POL</td>\n",
       "      <td>Poland</td>\n",
       "      <td>High income</td>\n",
       "      <td>NaN</td>\n",
       "      <td>6.597775e+10</td>\n",
       "    </tr>\n",
       "    <tr>\n",
       "      <th>3</th>\n",
       "      <td>1990_april_30_410811468040573756_conformed-cop...</td>\n",
       "      <td>1990-04-30 00:00:00</td>\n",
       "      <td>rural electrification project</td>\n",
       "      <td>$</td>\n",
       "      <td>329000000</td>\n",
       "      <td>329000000</td>\n",
       "      <td>Description of the Project The objective of th...</td>\n",
       "      <td>IND</td>\n",
       "      <td>\\n\\n   ministry of finance\\n   c/o directorate...</td>\n",
       "      <td>IDN</td>\n",
       "      <td>Indonesia</td>\n",
       "      <td>Upper middle income</td>\n",
       "      <td>East Asia &amp; Pacific (excluding high income)</td>\n",
       "      <td>1.061407e+11</td>\n",
       "    </tr>\n",
       "    <tr>\n",
       "      <th>4</th>\n",
       "      <td>1990_april_30_725911468042268845_conformed-cop...</td>\n",
       "      <td>1990-04-30 00:00:00</td>\n",
       "      <td>third telecommunications project</td>\n",
       "      <td>$</td>\n",
       "      <td>350000000</td>\n",
       "      <td>350000000</td>\n",
       "      <td>Description of the Project The objectives of t...</td>\n",
       "      <td>IND</td>\n",
       "      <td>\\n\\n   ministry of finance\\n   c/o director ge...</td>\n",
       "      <td>IDN</td>\n",
       "      <td>Indonesia</td>\n",
       "      <td>Upper middle income</td>\n",
       "      <td>East Asia &amp; Pacific (excluding high income)</td>\n",
       "      <td>1.061407e+11</td>\n",
       "    </tr>\n",
       "  </tbody>\n",
       "</table>\n",
       "</div>"
      ],
      "text/plain": [
       "                                            filename                 Date  \\\n",
       "0  1990_april_24_587321468019152780_conformed-cop...  1990-04-24 00:00:00   \n",
       "1  1990_april_24_668811468165272290_conformed-cop...  1990-04-24 00:00:00   \n",
       "2  1990_april_25_904191468298750561_conformed-cop...  1990-04-25 00:00:00   \n",
       "3  1990_april_30_410811468040573756_conformed-cop...  1990-04-30 00:00:00   \n",
       "4  1990_april_30_725911468042268845_conformed-cop...  1990-04-30 00:00:00   \n",
       "\n",
       "                       Project_name Currency Amount_loan Amount_in_usd  \\\n",
       "0           forestry sector project        $    80000000      80000000   \n",
       "1              water supply project        $     2500000       2500000   \n",
       "2    environment management project        $    18000000      18000000   \n",
       "3     rural electrification project        $   329000000     329000000   \n",
       "4  third telecommunications project        $   350000000     350000000   \n",
       "\n",
       "                                        Project_desc Country_code  \\\n",
       "0  Description of the Project The objectives of t...          IVC   \n",
       "1                                                             SLU   \n",
       "2  Description of the Project The objectives of t...          POL   \n",
       "3  Description of the Project The objective of th...          IND   \n",
       "4  Description of the Project The objectives of t...          IND   \n",
       "\n",
       "                                             Address Country3code  \\\n",
       "0  \\n\\nministry of economy, finance and budget\\np...          CIV   \n",
       "1  \\n\\n  ministry of planning, personnel,\\n   est...          LCA   \n",
       "2  \\n\\n  ministry of environmental protection,\\n ...          POL   \n",
       "3  \\n\\n   ministry of finance\\n   c/o directorate...          IDN   \n",
       "4  \\n\\n   ministry of finance\\n   c/o director ge...          IDN   \n",
       "\n",
       "    Country_name         Income_level  \\\n",
       "0  Cote d'Ivoire  Lower middle income   \n",
       "1      St. Lucia  Upper middle income   \n",
       "2         Poland          High income   \n",
       "3      Indonesia  Upper middle income   \n",
       "4      Indonesia  Upper middle income   \n",
       "\n",
       "                                              Region  GDP_historic  \n",
       "0         Sub-Saharan Africa (excluding high income)  1.079585e+10  \n",
       "1  Latin America & Caribbean (excluding high income)  5.796296e+08  \n",
       "2                                                NaN  6.597775e+10  \n",
       "3        East Asia & Pacific (excluding high income)  1.061407e+11  \n",
       "4        East Asia & Pacific (excluding high income)  1.061407e+11  "
      ]
     },
     "execution_count": 42,
     "metadata": {},
     "output_type": "execute_result"
    }
   ],
   "source": [
    "data.head()"
   ]
  },
  {
   "cell_type": "code",
   "execution_count": 45,
   "metadata": {},
   "outputs": [],
   "source": [
    "data.to_pickle('Extracted_Information.dat')"
   ]
  },
  {
   "cell_type": "code",
   "execution_count": null,
   "metadata": {},
   "outputs": [],
   "source": []
  }
 ],
 "metadata": {
  "kernelspec": {
   "display_name": "Python 3",
   "language": "python",
   "name": "python3"
  },
  "language_info": {
   "codemirror_mode": {
    "name": "ipython",
    "version": 3
   },
   "file_extension": ".py",
   "mimetype": "text/x-python",
   "name": "python",
   "nbconvert_exporter": "python",
   "pygments_lexer": "ipython3",
   "version": "3.8.5"
  }
 },
 "nbformat": 4,
 "nbformat_minor": 4
}
