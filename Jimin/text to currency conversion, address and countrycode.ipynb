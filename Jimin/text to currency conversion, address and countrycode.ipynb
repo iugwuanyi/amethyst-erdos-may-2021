{
 "cells": [
  {
   "cell_type": "code",
   "execution_count": 1,
   "metadata": {},
   "outputs": [],
   "source": [
    "import pandas as pd\n",
    "import numpy as np"
   ]
  },
  {
   "cell_type": "code",
   "execution_count": 2,
   "metadata": {},
   "outputs": [],
   "source": [
    "data = pd.read_pickle('startingdata_filename_date_currency_loanamount.dat')"
   ]
  },
  {
   "cell_type": "markdown",
   "metadata": {},
   "source": [
    "Convert the loan amounts in US dollars."
   ]
  },
  {
   "cell_type": "code",
   "execution_count": 3,
   "metadata": {},
   "outputs": [
    {
     "name": "stdout",
     "output_type": "stream",
     "text": [
      "{'eur', 'jpy', 'usd', 'us', 'gbp', 'uss', 'dem', 'y', '$', None, 'c', '€', '£', '¥', 'sdr', 'e', 'egp', 'frf', 's'}\n"
     ]
    }
   ],
   "source": [
    "currency_set = set(data['Currency'].values)\n",
    "print(currency_set)"
   ]
  },
  {
   "cell_type": "code",
   "execution_count": 4,
   "metadata": {},
   "outputs": [],
   "source": [
    "exchangerate = pd.read_csv('../exchangerates.csv')"
   ]
  },
  {
   "cell_type": "code",
   "execution_count": 5,
   "metadata": {},
   "outputs": [],
   "source": [
    "#cut out the historical data of the exchange rates for \n",
    "#euro, dem, yen, gbp, frf\n",
    "euro= exchangerate.loc[exchangerate['LOCATION'] == 'EU27_2020']\n",
    "dem = exchangerate.loc[exchangerate['LOCATION'] == 'DEU']\n",
    "yen = exchangerate.loc[exchangerate['LOCATION'] == 'JPN']\n",
    "gbp = exchangerate.loc[exchangerate['LOCATION'] == 'GBR']\n",
    "frf = exchangerate.loc[exchangerate['LOCATION'] == 'FRA']"
   ]
  },
  {
   "cell_type": "code",
   "execution_count": 6,
   "metadata": {},
   "outputs": [],
   "source": [
    "#create a list of the loan amounts coverted to usd\n",
    "#call it to_usd\n",
    "#for each loan, find the year & the currency \n",
    "#from 'Extracted_Information.dat',\n",
    "#\n",
    "\n",
    "to_usd = []\n",
    "for i in range(len(data)):\n",
    "    amount = 0\n",
    "    if data['Currency'].iloc[i] == 'usd' or data['Currency'].iloc[i] == '$' or data['Currency'].iloc[i] == 'sdr':\n",
    "        amount = data['Amount_loan'].iloc[i]\n",
    "    elif data.iloc[i,3] == 'eur' or data.iloc[i,3] == 'e' or data.iloc[i,3] == '€':\n",
    "        yearnumber = data.iloc[i,1].year\n",
    "        for j in range(len(euro)):\n",
    "            if euro['TIME'].iloc[j] == yearnumber:\n",
    "                value = euro['Value'].iloc[j]\n",
    "                break\n",
    "        amount = data['Amount_loan'].iloc[i]*value\n",
    "    elif data.iloc[i,3] == 'dem':\n",
    "        yearnumber = data.iloc[i,1].year\n",
    "        for d in range(len(dem)):\n",
    "            if dem['TIME'].iloc[d] == yearnumber:\n",
    "                value = dem['Value'].iloc[d]\n",
    "                break\n",
    "        amount = data['Amount_loan'].iloc[i]*value\n",
    "    elif data.iloc[i,3] == 'jpy':\n",
    "        yearnumber = data.iloc[i,1].year\n",
    "        for y in range(len(yen)):\n",
    "            if yen['TIME'].iloc[y] == yearnumber:\n",
    "                value = yen['Value'].iloc[y]\n",
    "                break\n",
    "        amount = data1['Amount_loan'].iloc[i]*value\n",
    "    elif data.iloc[i,3] == 'gbp' or data.iloc[i,3] == '£':\n",
    "        yearnumber = data1.iloc[i,1].year\n",
    "        for g in range(len(gbp)):\n",
    "            if gbp['TIME'].iloc[g] == yearnumber:\n",
    "                value = gbp['Value'].iloc[g]\n",
    "                break\n",
    "        amount = data['Amount_loan'].iloc[i]*value\n",
    "    elif data.iloc[i,3] == 'frf':\n",
    "        yearnumber = data1.iloc[i,1].year\n",
    "        for f in range(len(frf)):\n",
    "            if frf['TIME'].iloc[f] == yearnumber:\n",
    "                value = frf['Value'].iloc[f]\n",
    "                break\n",
    "        amount = data['Amount_loan'].iloc[i]*value\n",
    "        \n",
    "    to_usd.append(int(amount))"
   ]
  },
  {
   "cell_type": "code",
   "execution_count": 7,
   "metadata": {},
   "outputs": [],
   "source": [
    "data[\"Amount_in_usd\"] = pd.Series(to_usd)"
   ]
  },
  {
   "cell_type": "code",
   "execution_count": 8,
   "metadata": {},
   "outputs": [
    {
     "name": "stderr",
     "output_type": "stream",
     "text": [
      "/opt/homebrew/anaconda3/lib/python3.8/site-packages/pandas/core/indexing.py:670: SettingWithCopyWarning: \n",
      "A value is trying to be set on a copy of a slice from a DataFrame\n",
      "\n",
      "See the caveats in the documentation: https://pandas.pydata.org/pandas-docs/stable/user_guide/indexing.html#returning-a-view-versus-a-copy\n",
      "  iloc._setitem_with_indexer(indexer, value)\n"
     ]
    }
   ],
   "source": [
    "for i in data.index:\n",
    "    if data[\"Amount_in_usd\"].iloc[i] == 0:\n",
    "        data[\"Amount_in_usd\"].iloc[i] = None"
   ]
  },
  {
   "cell_type": "markdown",
   "metadata": {},
   "source": [
    "Read the text files extracted by 'pdfminer' and 'pytesseract' and combine them in one dataframe.\n",
    "Call the combined dataframe by 'combined' whose columns are 'filename' and 'extracted_text'."
   ]
  },
  {
   "cell_type": "code",
   "execution_count": 9,
   "metadata": {},
   "outputs": [],
   "source": [
    "pdfminer = pd.read_pickle('pdfminer_ables.dat')\n",
    "pytess = pd.read_pickle('pytesseract_results.dat')\n",
    "pdfminer['extracted_text'] = pdfminer['de_headed']\n",
    "pytess['extracted_text'] = pytess['reparse']\n",
    "combined = pytess.combine_first(pdfminer)\n",
    "combined = combined[['filename','extracted_text']]"
   ]
  },
  {
   "cell_type": "markdown",
   "metadata": {},
   "source": [
    "Define two functions called 'spacing_and_lower' and 'read_address'. 'spacing_and_lower' of a string returns the string replaced all spaces by no space and makes the all upper charaters of the given string into lowercase. 'read_address' extracts the part containing the address of the borrower given a text file. "
   ]
  },
  {
   "cell_type": "code",
   "execution_count": 10,
   "metadata": {},
   "outputs": [],
   "source": [
    "def spacing_and_lower(docu):\n",
    "    docu = docu.replace('  ',' ')\n",
    "    docu = docu.replace('   ',' ')\n",
    "    docu = docu.lower()\n",
    "    return docu"
   ]
  },
  {
   "cell_type": "markdown",
   "metadata": {},
   "source": [
    "We search a string 'addresses' and then look for some starting point and end point to cut off the part containing the address of the borower. For example, the addresses appears after a substring 'For the borrower:' and before 'For the bank'."
   ]
  },
  {
   "cell_type": "code",
   "execution_count": 11,
   "metadata": {},
   "outputs": [],
   "source": [
    "def read_address(docu, pin0= 'addresses', pin1 = 'start', pin2 = 'end'):\n",
    "    start = docu.find(pin0)\n",
    "    borrower = docu[start:].find(pin1)\n",
    "    colon = docu[start+borrower:].find(':')\n",
    "    bank = docu[start+borrower+colon:].find(pin2)\n",
    "    add = docu[start+borrower+colon+1:start+borrower+colon+bank]\n",
    "    if 'in witness' in add:\n",
    "        end2 = docu[start+borrower+colon+1:].find('in witness')\n",
    "        add = add[:end2]\n",
    "    return add   "
   ]
  },
  {
   "cell_type": "code",
   "execution_count": 12,
   "metadata": {},
   "outputs": [],
   "source": [
    "address1 = []\n",
    "for i in range(len(combined)):\n",
    "    docu = combined.iloc[i,1]\n",
    "    docu = spacing_and_lower(docu)\n",
    "    address = read_address(docu, pin0 = 'addresses', pin1 = 'for the borrower', pin2 = 'for the bank')\n",
    "    if len(address) < 8:\n",
    "        address = read_address(docu, pin0 = 'addresses', pin1 = 'for the borrower', pin2 = 'international bank')\n",
    "    address1.append(address)"
   ]
  },
  {
   "cell_type": "code",
   "execution_count": 13,
   "metadata": {},
   "outputs": [],
   "source": [
    "address2 = []\n",
    "for i in range(len(combined)):\n",
    "    docu = combined.iloc[i,1]\n",
    "    docu = spacing_and_lower(docu)\n",
    "    address = read_address(docu, pin0 = 'addresses', pin1 = 'address is', pin2 = 'the bank')\n",
    "    address2.append(address)\n"
   ]
  },
  {
   "cell_type": "code",
   "execution_count": 14,
   "metadata": {},
   "outputs": [],
   "source": [
    "address3 = []\n",
    "for i in range(len(combined)):\n",
    "    docu = combined.iloc[i,1]\n",
    "    docu = spacing_and_lower(docu)\n",
    "    address = read_address(docu, pin0 = 'addresses', pin1 = 'the borrower', pin2 = 'the world bank')\n",
    "    address3.append(address)"
   ]
  },
  {
   "cell_type": "code",
   "execution_count": 15,
   "metadata": {},
   "outputs": [],
   "source": [
    "for i in range(len(address1)):\n",
    "    if len(address1[i]) < 8 & len(address2[i]) > 8:\n",
    "        address1[i] = address2[i]\n",
    "    elif len(address1[i]) > 500:\n",
    "        address1[i] = address2[i]"
   ]
  },
  {
   "cell_type": "code",
   "execution_count": 16,
   "metadata": {},
   "outputs": [],
   "source": [
    "for i in range(len(address1)):\n",
    "    if len(address1[i]) < 8 & len(address3[i]) > 8:\n",
    "        address1[i] = address3[i]"
   ]
  },
  {
   "cell_type": "code",
   "execution_count": 17,
   "metadata": {},
   "outputs": [],
   "source": [
    "data = pd.read_pickle('startingdata_filename_date_currency_loanamount.dat')"
   ]
  },
  {
   "cell_type": "code",
   "execution_count": 18,
   "metadata": {},
   "outputs": [],
   "source": [
    "data['Address'] = pd.Series(address1)"
   ]
  },
  {
   "cell_type": "code",
   "execution_count": 19,
   "metadata": {},
   "outputs": [],
   "source": [
    "a = 0\n",
    "for i in range(len(address1)):\n",
    "    if len(address1[i]) < 8:\n",
    "        data['Address'] = None\n",
    "        a = a+1"
   ]
  },
  {
   "cell_type": "code",
   "execution_count": 20,
   "metadata": {},
   "outputs": [],
   "source": [
    "data['Address'] = pd.Series(address1)"
   ]
  },
  {
   "cell_type": "code",
   "execution_count": 22,
   "metadata": {},
   "outputs": [],
   "source": [
    "data.to_pickle('data_after_extracting_address.dat')"
   ]
  },
  {
   "cell_type": "markdown",
   "metadata": {},
   "source": [
    "There are 113 missing values in 'Address'."
   ]
  },
  {
   "cell_type": "code",
   "execution_count": 23,
   "metadata": {},
   "outputs": [
    {
     "data": {
      "text/plain": [
       "113"
      ]
     },
     "execution_count": 23,
     "metadata": {},
     "output_type": "execute_result"
    }
   ],
   "source": [
    "a"
   ]
  },
  {
   "cell_type": "markdown",
   "metadata": {},
   "source": [
    "Now we extract the country codes from 'Address'. I edited my code after comparing the country codes extracted from the cover page."
   ]
  },
  {
   "cell_type": "code",
   "execution_count": 24,
   "metadata": {},
   "outputs": [],
   "source": [
    "worldmap = pd.read_csv('../world_bank_country_mappings.csv')"
   ]
  },
  {
   "cell_type": "code",
   "execution_count": 25,
   "metadata": {},
   "outputs": [],
   "source": [
    "country_name = []\n",
    "country_code = []\n",
    "income_level = []\n",
    "region = []\n",
    "for i in range(len(data)):\n",
    "    address = data[\"Address\"].iloc[i]\n",
    "    address = address.replace('\\n','')\n",
    "    address = address.replace(' ','')\n",
    "    address = address.replace('  ','')\n",
    "    address = address.replace(\"’\",\"\")\n",
    "    address = address.lower()\n",
    "    for j in range(len(worldmap['name'])):\n",
    "        \n",
    "        if worldmap['name'][j] == 'Africa':\n",
    "            continue\n",
    "            \n",
    "        if worldmap['name'][j] == 'United States':\n",
    "            continue\n",
    "            \n",
    "        if worldmap['name'][j] == 'World':\n",
    "            continue\n",
    "            \n",
    "        if worldmap['name'][j] == 'Niger' and address.find('nigeria') > -1:\n",
    "            continue\n",
    "            \n",
    "        if worldmap['name'][j] == 'Oman' and address.find('romania') > -1:\n",
    "            continue\n",
    "        \n",
    "        if worldmap ['name'][j] == 'Oman' and address.find('phi') > -1:\n",
    "            continue\n",
    "            \n",
    "        if worldmap ['name'][j] == 'Mali' and address.find('turkey') > -1:\n",
    "            continue\n",
    "        \n",
    "        if worldmap['name'][j] == 'Guinea' and address.find('papua') > -1:\n",
    "            countryname = 'Papua New Guinea'\n",
    "            countrycode = 'PNG'\n",
    "            incomelevel = 'Lower middle income'\n",
    "            regi = 'East Asia & Pacific'\n",
    "            break\n",
    "        \n",
    "        if worldmap['name'][j] == 'Spain' and address.find('trinidad')> -1:\n",
    "            countryname = 'Trinidad and Tobago'\n",
    "            countrycode = 'TTO'\n",
    "            incomelevel = 'High income'\n",
    "            regi = 'Latin America & Caribbean '\n",
    "            break\n",
    "        \n",
    "        if worldmap['name'][j] == 'Chile' and address.find('paraguay')> -1:\n",
    "            countryname = 'Paraguay'\n",
    "            countrycode = 'PRY'\n",
    "            incomelevel = 'Upper middle income'\n",
    "            regi = 'Latin America & Caribbean '\n",
    "            break\n",
    "        \n",
    "        else:    \n",
    "            name = worldmap['name'][j]\n",
    "            name = name.replace(' ','')\n",
    "            name = name.replace(\"'\",\"\")\n",
    "            name = name.replace('  ','')\n",
    "            name = name.lower()\n",
    "            cut = name.find(',')\n",
    "            if cut > 0:\n",
    "                name = name[:cut]\n",
    "            countryname = ''\n",
    "            countrycode = ''\n",
    "            incomelevel = ''\n",
    "            regi = ''\n",
    "            \n",
    "            \n",
    "                \n",
    "            if address.find(name) > -1:\n",
    "                if name == 'congo' and address.find('brazzaville')>-1:\n",
    "                    countryname = 'Congo,Rep.'\n",
    "                    countrycode = 'COG'\n",
    "                    incomelevel = 'Lower middle income'\n",
    "                    regi = 'Sub-Saharan Africa'\n",
    "                    break\n",
    "                    \n",
    "                else:  \n",
    "                    countryname = worldmap['name'][j]\n",
    "                    countrycode = worldmap['id'][j]\n",
    "                    incomelevel = worldmap['incomeLevel.value'][j]\n",
    "                    regi = worldmap['region.value'][j]\n",
    "                    break            \n",
    "            \n",
    "            \n",
    "            city = worldmap['capitalCity'][j]\n",
    "            if type(city) == str:\n",
    "                city = city.replace(' ','')\n",
    "                city = city.replace(\"'\",\"\")\n",
    "                city = city.replace('  ','')\n",
    "                city = city.lower()\n",
    "                if address.find(name) == -1 and address.find(city) >-1:\n",
    "                    countryname = worldmap['name'][j]\n",
    "                    countrycode = worldmap['id'][j]\n",
    "                    incomelevel = worldmap['incomeLevel.value'][j]\n",
    "                    regi = worldmap['region.value'][j]\n",
    "                    break                       \n",
    "                    \n",
    "                    \n",
    "    if countryname == '':\n",
    "        if address.find('méxico') > -1 or address.find('mexican') > -1:\n",
    "            countryname = 'Mexico'\n",
    "            countrycode = 'MEX'\n",
    "            incomelevel = 'Upper middle income'\n",
    "            regi = 'Latin America & Caribbean '\n",
    "    \n",
    "    if address.find('yugoslavia') > -1:\n",
    "            countryname = 'Yugoslavia'\n",
    "            countrycode = 'YUGOS'\n",
    "            incomelevel = 'Upper middle income'\n",
    "            regi = 'Europe & Central Asia'\n",
    "    \n",
    "    if countryname == '':\n",
    "        countryname = None\n",
    "        countrycode = None\n",
    "        incomelevel = None\n",
    "        regi = None\n",
    "        \n",
    "        \n",
    "            \n",
    "    country_name.append(countryname)\n",
    "    country_code.append(countrycode)\n",
    "    income_level.append(incomelevel)\n",
    "    region.append(regi)"
   ]
  },
  {
   "cell_type": "code",
   "execution_count": 26,
   "metadata": {},
   "outputs": [],
   "source": [
    "data['Address_to_countrycode'] = pd.Series(country_code)\n",
    "data['Country_name'] = pd.Series(country_name)\n",
    "data['Income_level'] = pd.Series(income_level)\n",
    "data['Region'] = pd.Series(region)"
   ]
  },
  {
   "cell_type": "code",
   "execution_count": 27,
   "metadata": {},
   "outputs": [],
   "source": [
    "a = 0\n",
    "for i in data.index:\n",
    "    if data['Address_to_countrycode'][i] == None:\n",
    "        a = a+1"
   ]
  },
  {
   "cell_type": "code",
   "execution_count": 28,
   "metadata": {},
   "outputs": [
    {
     "data": {
      "text/plain": [
       "201"
      ]
     },
     "execution_count": 28,
     "metadata": {},
     "output_type": "execute_result"
    }
   ],
   "source": [
    "a"
   ]
  },
  {
   "cell_type": "code",
   "execution_count": 29,
   "metadata": {},
   "outputs": [],
   "source": [
    "code_from_cover = pd.read_csv('Includes_Country_Name.csv')"
   ]
  },
  {
   "cell_type": "code",
   "execution_count": 30,
   "metadata": {},
   "outputs": [],
   "source": [
    "cover_code = code_from_cover[\"Country_Code\"]\n",
    "address_code = data[\"Address_to_countrycode\"]"
   ]
  },
  {
   "cell_type": "code",
   "execution_count": 31,
   "metadata": {},
   "outputs": [],
   "source": [
    "same = []\n",
    "nan = []\n",
    "none = []\n",
    "twonulls = []\n",
    "twodiff = []\n",
    "\n",
    "\n",
    "for i in range(3205):\n",
    "    if cover_code[i] != address_code[i] and type(cover_code[i])== float:\n",
    "        if address_code[i] == None:\n",
    "            twonulls.append(i)\n",
    "        else:\n",
    "            nan.append(i)\n",
    "    elif cover_code[i] != address_code[i] and type(cover_code[i])== str:\n",
    "        if address_code[i] == None:\n",
    "            none.append(i)\n",
    "        else:\n",
    "            twodiff.append(i)\n",
    "    else:\n",
    "        same.append(i)"
   ]
  },
  {
   "cell_type": "code",
   "execution_count": 32,
   "metadata": {},
   "outputs": [
    {
     "name": "stdout",
     "output_type": "stream",
     "text": [
      "2460 425 136 65 119\n"
     ]
    }
   ],
   "source": [
    "print(len(same),len(nan),len(none),len(twonulls),len(twodiff))"
   ]
  },
  {
   "cell_type": "code",
   "execution_count": 33,
   "metadata": {},
   "outputs": [],
   "source": [
    "bettercode = []\n",
    "for i in twodiff:\n",
    "    address = data[\"Address\"][i]\n",
    "    address = address.replace('\\n','')\n",
    "    address = address.replace(' ','')\n",
    "    address = address.replace('  ','')\n",
    "    address = address.replace(\"’\",\"\")\n",
    "    address = address.lower()\n",
    "    \n",
    "    if address_code[i] == 'BRA' and address.find('brazil')> -1:\n",
    "        bettercode.append(i)\n",
    "        continue\n",
    "        \n",
    "    if address_code[i] != 'YUGOS':\n",
    "    \n",
    "        ind = int(worldmap[worldmap['id'] == address_code[i]].index.values)\n",
    "    \n",
    "        country = worldmap['name'][ind]\n",
    "        country = country.lower()\n",
    "        \n",
    "        if address.find(country) >-1:\n",
    "            bettercode.append(i)\n",
    "            continue\n",
    "                \n",
    "        city = worldmap['capitalCity'][ind]\n",
    "    \n",
    "        if type(city) == str:\n",
    "            city = city.replace(' ','')\n",
    "            city = city.replace(\"'\",\"\")\n",
    "            city = city.replace('  ','')\n",
    "            city = city.lower()\n",
    "            if address.find(city) >-1:\n",
    "                bettercode.append(i)"
   ]
  },
  {
   "cell_type": "code",
   "execution_count": 34,
   "metadata": {},
   "outputs": [
    {
     "data": {
      "text/plain": [
       "105"
      ]
     },
     "execution_count": 34,
     "metadata": {},
     "output_type": "execute_result"
    }
   ],
   "source": [
    "len(bettercode)"
   ]
  },
  {
   "cell_type": "code",
   "execution_count": 35,
   "metadata": {},
   "outputs": [],
   "source": [
    "rest_twodiff = list(set(twodiff) - set(bettercode))"
   ]
  },
  {
   "cell_type": "code",
   "execution_count": 36,
   "metadata": {},
   "outputs": [],
   "source": [
    "for i in rest_twodiff:\n",
    "    if address_code[i] == 'Yugoslavia':\n",
    "        continue\n",
    "    if cover_code[i] == 'THA' or cover_code[i] == 'ALB':\n",
    "        address_code[i] = cover_code[i]       "
   ]
  },
  {
   "cell_type": "code",
   "execution_count": 37,
   "metadata": {},
   "outputs": [],
   "source": [
    "for i in none:\n",
    "    address_code[i] = cover_code[i]"
   ]
  },
  {
   "cell_type": "code",
   "execution_count": 38,
   "metadata": {},
   "outputs": [],
   "source": [
    "a = 0\n",
    "for i in data.index:\n",
    "    if address_code[i] == None:\n",
    "        a = a+1"
   ]
  },
  {
   "cell_type": "code",
   "execution_count": 39,
   "metadata": {},
   "outputs": [
    {
     "data": {
      "text/plain": [
       "65"
      ]
     },
     "execution_count": 39,
     "metadata": {},
     "output_type": "execute_result"
    }
   ],
   "source": [
    "a"
   ]
  },
  {
   "cell_type": "code",
   "execution_count": 40,
   "metadata": {},
   "outputs": [],
   "source": [
    "data.to_pickle('finaldata_after_editting_countrycode.dat')"
   ]
  },
  {
   "cell_type": "code",
   "execution_count": null,
   "metadata": {},
   "outputs": [],
   "source": []
  }
 ],
 "metadata": {
  "kernelspec": {
   "display_name": "Python 3",
   "language": "python",
   "name": "python3"
  },
  "language_info": {
   "codemirror_mode": {
    "name": "ipython",
    "version": 3
   },
   "file_extension": ".py",
   "mimetype": "text/x-python",
   "name": "python",
   "nbconvert_exporter": "python",
   "pygments_lexer": "ipython3",
   "version": "3.8.5"
  }
 },
 "nbformat": 4,
 "nbformat_minor": 4
}
