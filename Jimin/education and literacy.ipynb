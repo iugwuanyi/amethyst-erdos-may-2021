{
 "cells": [
  {
   "cell_type": "code",
   "execution_count": 1,
   "metadata": {},
   "outputs": [],
   "source": [
    "import pandas as pd\n",
    "import numpy as np"
   ]
  },
  {
   "cell_type": "code",
   "execution_count": 2,
   "metadata": {},
   "outputs": [],
   "source": [
    "data = pd.read_csv('All_Extracted_Data_From_PDFs.csv')"
   ]
  },
  {
   "cell_type": "code",
   "execution_count": 3,
   "metadata": {
    "scrolled": true
   },
   "outputs": [
    {
     "data": {
      "text/html": [
       "<div>\n",
       "<style scoped>\n",
       "    .dataframe tbody tr th:only-of-type {\n",
       "        vertical-align: middle;\n",
       "    }\n",
       "\n",
       "    .dataframe tbody tr th {\n",
       "        vertical-align: top;\n",
       "    }\n",
       "\n",
       "    .dataframe thead th {\n",
       "        text-align: right;\n",
       "    }\n",
       "</style>\n",
       "<table border=\"1\" class=\"dataframe\">\n",
       "  <thead>\n",
       "    <tr style=\"text-align: right;\">\n",
       "      <th></th>\n",
       "      <th>Filename</th>\n",
       "      <th>Date</th>\n",
       "      <th>Year</th>\n",
       "      <th>Amount_in_usd</th>\n",
       "      <th>Country</th>\n",
       "      <th>Country_Code</th>\n",
       "      <th>Income_level</th>\n",
       "      <th>Region</th>\n",
       "      <th>Topic</th>\n",
       "    </tr>\n",
       "  </thead>\n",
       "  <tbody>\n",
       "    <tr>\n",
       "      <th>0</th>\n",
       "      <td>1990_april_24_587321468019152780_conformed-cop...</td>\n",
       "      <td>1990-04-24</td>\n",
       "      <td>1990</td>\n",
       "      <td>80000000.0</td>\n",
       "      <td>Cote d'Ivoire</td>\n",
       "      <td>CIV</td>\n",
       "      <td>Lower middle income</td>\n",
       "      <td>Sub-Saharan Africa</td>\n",
       "      <td>Agriculture</td>\n",
       "    </tr>\n",
       "    <tr>\n",
       "      <th>1</th>\n",
       "      <td>1990_april_24_668811468165272290_conformed-cop...</td>\n",
       "      <td>1990-04-24</td>\n",
       "      <td>1990</td>\n",
       "      <td>2500000.0</td>\n",
       "      <td>St. Lucia</td>\n",
       "      <td>LCA</td>\n",
       "      <td>Upper middle income</td>\n",
       "      <td>Latin America &amp; Caribbean</td>\n",
       "      <td>Water Works</td>\n",
       "    </tr>\n",
       "    <tr>\n",
       "      <th>2</th>\n",
       "      <td>1990_april_25_904191468298750561_conformed-cop...</td>\n",
       "      <td>1990-04-25</td>\n",
       "      <td>1990</td>\n",
       "      <td>18000000.0</td>\n",
       "      <td>Poland</td>\n",
       "      <td>POL</td>\n",
       "      <td>High income</td>\n",
       "      <td>Europe &amp; Central Asia</td>\n",
       "      <td>Other</td>\n",
       "    </tr>\n",
       "    <tr>\n",
       "      <th>3</th>\n",
       "      <td>1990_april_30_410811468040573756_conformed-cop...</td>\n",
       "      <td>1990-04-30</td>\n",
       "      <td>1990</td>\n",
       "      <td>329000000.0</td>\n",
       "      <td>Indonesia</td>\n",
       "      <td>IDN</td>\n",
       "      <td>Upper middle income</td>\n",
       "      <td>East Asia &amp; Pacific</td>\n",
       "      <td>Rural Development</td>\n",
       "    </tr>\n",
       "    <tr>\n",
       "      <th>4</th>\n",
       "      <td>1990_april_30_725911468042268845_conformed-cop...</td>\n",
       "      <td>1990-04-30</td>\n",
       "      <td>1990</td>\n",
       "      <td>350000000.0</td>\n",
       "      <td>Indonesia</td>\n",
       "      <td>IDN</td>\n",
       "      <td>Upper middle income</td>\n",
       "      <td>East Asia &amp; Pacific</td>\n",
       "      <td>Other</td>\n",
       "    </tr>\n",
       "  </tbody>\n",
       "</table>\n",
       "</div>"
      ],
      "text/plain": [
       "                                            Filename        Date  Year  \\\n",
       "0  1990_april_24_587321468019152780_conformed-cop...  1990-04-24  1990   \n",
       "1  1990_april_24_668811468165272290_conformed-cop...  1990-04-24  1990   \n",
       "2  1990_april_25_904191468298750561_conformed-cop...  1990-04-25  1990   \n",
       "3  1990_april_30_410811468040573756_conformed-cop...  1990-04-30  1990   \n",
       "4  1990_april_30_725911468042268845_conformed-cop...  1990-04-30  1990   \n",
       "\n",
       "   Amount_in_usd        Country Country_Code         Income_level  \\\n",
       "0     80000000.0  Cote d'Ivoire          CIV  Lower middle income   \n",
       "1      2500000.0      St. Lucia          LCA  Upper middle income   \n",
       "2     18000000.0         Poland          POL          High income   \n",
       "3    329000000.0      Indonesia          IDN  Upper middle income   \n",
       "4    350000000.0      Indonesia          IDN  Upper middle income   \n",
       "\n",
       "                       Region              Topic  \n",
       "0         Sub-Saharan Africa         Agriculture  \n",
       "1  Latin America & Caribbean         Water Works  \n",
       "2       Europe & Central Asia              Other  \n",
       "3         East Asia & Pacific  Rural Development  \n",
       "4         East Asia & Pacific              Other  "
      ]
     },
     "execution_count": 3,
     "metadata": {},
     "output_type": "execute_result"
    }
   ],
   "source": [
    "data.head()"
   ]
  },
  {
   "cell_type": "code",
   "execution_count": 4,
   "metadata": {},
   "outputs": [],
   "source": [
    "edu_data = data.loc[lambda data: data['Topic'] == 'Education']"
   ]
  },
  {
   "cell_type": "code",
   "execution_count": 5,
   "metadata": {},
   "outputs": [
    {
     "data": {
      "text/html": [
       "<div>\n",
       "<style scoped>\n",
       "    .dataframe tbody tr th:only-of-type {\n",
       "        vertical-align: middle;\n",
       "    }\n",
       "\n",
       "    .dataframe tbody tr th {\n",
       "        vertical-align: top;\n",
       "    }\n",
       "\n",
       "    .dataframe thead th {\n",
       "        text-align: right;\n",
       "    }\n",
       "</style>\n",
       "<table border=\"1\" class=\"dataframe\">\n",
       "  <thead>\n",
       "    <tr style=\"text-align: right;\">\n",
       "      <th></th>\n",
       "      <th>Filename</th>\n",
       "      <th>Date</th>\n",
       "      <th>Year</th>\n",
       "      <th>Amount_in_usd</th>\n",
       "      <th>Country</th>\n",
       "      <th>Country_Code</th>\n",
       "      <th>Income_level</th>\n",
       "      <th>Region</th>\n",
       "      <th>Topic</th>\n",
       "    </tr>\n",
       "  </thead>\n",
       "  <tbody>\n",
       "    <tr>\n",
       "      <th>6</th>\n",
       "      <td>1990_august_10_460651468271855106_conformed-co...</td>\n",
       "      <td>1990-08-10</td>\n",
       "      <td>1990</td>\n",
       "      <td>45000000.0</td>\n",
       "      <td>Korea, Rep.</td>\n",
       "      <td>KOR</td>\n",
       "      <td>High income</td>\n",
       "      <td>East Asia &amp; Pacific</td>\n",
       "      <td>Education</td>\n",
       "    </tr>\n",
       "    <tr>\n",
       "      <th>9</th>\n",
       "      <td>1990_august_13_930351468250521631_conformed-co...</td>\n",
       "      <td>1990-08-13</td>\n",
       "      <td>1990</td>\n",
       "      <td>25000000.0</td>\n",
       "      <td>India</td>\n",
       "      <td>IND</td>\n",
       "      <td>Lower middle income</td>\n",
       "      <td>South Asia</td>\n",
       "      <td>Education</td>\n",
       "    </tr>\n",
       "    <tr>\n",
       "      <th>25</th>\n",
       "      <td>1990_february_12_603871468052164505_conformed-...</td>\n",
       "      <td>1990-02-12</td>\n",
       "      <td>1990</td>\n",
       "      <td>154200000.0</td>\n",
       "      <td>Indonesia</td>\n",
       "      <td>IDN</td>\n",
       "      <td>Upper middle income</td>\n",
       "      <td>East Asia &amp; Pacific</td>\n",
       "      <td>Education</td>\n",
       "    </tr>\n",
       "    <tr>\n",
       "      <th>60</th>\n",
       "      <td>1990_july_9_673731468058475489_conformed-copy-...</td>\n",
       "      <td>1990-07-09</td>\n",
       "      <td>1990</td>\n",
       "      <td>200000000.0</td>\n",
       "      <td>Philippines</td>\n",
       "      <td>PHL</td>\n",
       "      <td>Lower middle income</td>\n",
       "      <td>East Asia &amp; Pacific</td>\n",
       "      <td>Education</td>\n",
       "    </tr>\n",
       "    <tr>\n",
       "      <th>91</th>\n",
       "      <td>1990_may_18_631461468313480210_conformed-copy-...</td>\n",
       "      <td>1990-05-18</td>\n",
       "      <td>1990</td>\n",
       "      <td>90200000.0</td>\n",
       "      <td>Mali</td>\n",
       "      <td>MLI</td>\n",
       "      <td>Low income</td>\n",
       "      <td>Sub-Saharan Africa</td>\n",
       "      <td>Education</td>\n",
       "    </tr>\n",
       "  </tbody>\n",
       "</table>\n",
       "</div>"
      ],
      "text/plain": [
       "                                             Filename        Date  Year  \\\n",
       "6   1990_august_10_460651468271855106_conformed-co...  1990-08-10  1990   \n",
       "9   1990_august_13_930351468250521631_conformed-co...  1990-08-13  1990   \n",
       "25  1990_february_12_603871468052164505_conformed-...  1990-02-12  1990   \n",
       "60  1990_july_9_673731468058475489_conformed-copy-...  1990-07-09  1990   \n",
       "91  1990_may_18_631461468313480210_conformed-copy-...  1990-05-18  1990   \n",
       "\n",
       "    Amount_in_usd      Country Country_Code         Income_level  \\\n",
       "6      45000000.0  Korea, Rep.          KOR          High income   \n",
       "9      25000000.0        India          IND  Lower middle income   \n",
       "25    154200000.0    Indonesia          IDN  Upper middle income   \n",
       "60    200000000.0  Philippines          PHL  Lower middle income   \n",
       "91     90200000.0         Mali          MLI           Low income   \n",
       "\n",
       "                 Region      Topic  \n",
       "6   East Asia & Pacific  Education  \n",
       "9            South Asia  Education  \n",
       "25  East Asia & Pacific  Education  \n",
       "60  East Asia & Pacific  Education  \n",
       "91  Sub-Saharan Africa   Education  "
      ]
     },
     "execution_count": 5,
     "metadata": {},
     "output_type": "execute_result"
    }
   ],
   "source": [
    "edu_data.head()"
   ]
  },
  {
   "cell_type": "code",
   "execution_count": 6,
   "metadata": {},
   "outputs": [],
   "source": [
    "countryset = set(data.Country)"
   ]
  },
  {
   "cell_type": "code",
   "execution_count": 7,
   "metadata": {},
   "outputs": [
    {
     "name": "stdout",
     "output_type": "stream",
     "text": [
      "{1990, 1991, 1992, 1993, 1994, 1995, 1996, 1997, 1998, 1999, 2000, 2001, 2002, 2003, 2004, 2005, 2006, 2007, 2008, 2009, 2010, 2011, 2012, 2013, 2014, 2015, 2016, 2017, 2018, 2019}\n"
     ]
    }
   ],
   "source": [
    "yearset = set(data.Year)\n",
    "print(yearset)"
   ]
  },
  {
   "cell_type": "code",
   "execution_count": 8,
   "metadata": {},
   "outputs": [],
   "source": [
    "codeset = set(data.Country_Code)"
   ]
  },
  {
   "cell_type": "code",
   "execution_count": 9,
   "metadata": {},
   "outputs": [
    {
     "data": {
      "text/plain": [
       "Index(['Country', 'Country_Code', 'Year', 'Amount'], dtype='object')"
      ]
     },
     "execution_count": 9,
     "metadata": {},
     "output_type": "execute_result"
    }
   ],
   "source": [
    "edu_dict = {'Country':[],'Country_Code':[],'Year':[],'Amount':[]}\n",
    "edu_DF = pd.DataFrame(edu_dict)\n",
    "edu_DF.columns"
   ]
  },
  {
   "cell_type": "code",
   "execution_count": 10,
   "metadata": {},
   "outputs": [],
   "source": [
    "for country in countryset:\n",
    "    for year in yearset:\n",
    "        for i in edu_data.index:\n",
    "            if edu_data.Country[i] == country and edu_data.Year[i] == year:\n",
    "                df = pd.DataFrame([[country,edu_data.Country_Code[i],year,edu_data.Amount_in_usd[i]]],columns = edu_DF.columns)\n",
    "                edu_DF = edu_DF.append(df)\n",
    "                \n",
    "            \n",
    "        \n",
    "            \n",
    "    "
   ]
  },
  {
   "cell_type": "code",
   "execution_count": 11,
   "metadata": {},
   "outputs": [],
   "source": [
    "edu_DF.to_csv('edudf.csv')"
   ]
  },
  {
   "cell_type": "code",
   "execution_count": 12,
   "metadata": {
    "scrolled": true
   },
   "outputs": [
    {
     "data": {
      "text/html": [
       "<div>\n",
       "<style scoped>\n",
       "    .dataframe tbody tr th:only-of-type {\n",
       "        vertical-align: middle;\n",
       "    }\n",
       "\n",
       "    .dataframe tbody tr th {\n",
       "        vertical-align: top;\n",
       "    }\n",
       "\n",
       "    .dataframe thead th {\n",
       "        text-align: right;\n",
       "    }\n",
       "</style>\n",
       "<table border=\"1\" class=\"dataframe\">\n",
       "  <thead>\n",
       "    <tr style=\"text-align: right;\">\n",
       "      <th></th>\n",
       "      <th>index</th>\n",
       "      <th>Country</th>\n",
       "      <th>Country_Code</th>\n",
       "      <th>Year</th>\n",
       "      <th>Amount</th>\n",
       "    </tr>\n",
       "  </thead>\n",
       "  <tbody>\n",
       "    <tr>\n",
       "      <th>0</th>\n",
       "      <td>0</td>\n",
       "      <td>Belarus</td>\n",
       "      <td>BLR</td>\n",
       "      <td>2015.0</td>\n",
       "      <td>5.000000e+07</td>\n",
       "    </tr>\n",
       "    <tr>\n",
       "      <th>1</th>\n",
       "      <td>0</td>\n",
       "      <td>Belarus</td>\n",
       "      <td>BLR</td>\n",
       "      <td>2019.0</td>\n",
       "      <td>1.007527e+08</td>\n",
       "    </tr>\n",
       "    <tr>\n",
       "      <th>2</th>\n",
       "      <td>0</td>\n",
       "      <td>Costa Rica</td>\n",
       "      <td>CRI</td>\n",
       "      <td>1991.0</td>\n",
       "      <td>2.300000e+07</td>\n",
       "    </tr>\n",
       "    <tr>\n",
       "      <th>3</th>\n",
       "      <td>0</td>\n",
       "      <td>Costa Rica</td>\n",
       "      <td>CRI</td>\n",
       "      <td>2012.0</td>\n",
       "      <td>2.000000e+08</td>\n",
       "    </tr>\n",
       "    <tr>\n",
       "      <th>4</th>\n",
       "      <td>0</td>\n",
       "      <td>St. Kitts and Nevis</td>\n",
       "      <td>KNA</td>\n",
       "      <td>2002.0</td>\n",
       "      <td>5.000000e+06</td>\n",
       "    </tr>\n",
       "    <tr>\n",
       "      <th>...</th>\n",
       "      <td>...</td>\n",
       "      <td>...</td>\n",
       "      <td>...</td>\n",
       "      <td>...</td>\n",
       "      <td>...</td>\n",
       "    </tr>\n",
       "    <tr>\n",
       "      <th>162</th>\n",
       "      <td>0</td>\n",
       "      <td>Algeria</td>\n",
       "      <td>DZA</td>\n",
       "      <td>1994.0</td>\n",
       "      <td>5.100000e+07</td>\n",
       "    </tr>\n",
       "    <tr>\n",
       "      <th>163</th>\n",
       "      <td>0</td>\n",
       "      <td>Guatemala</td>\n",
       "      <td>GTM</td>\n",
       "      <td>2002.0</td>\n",
       "      <td>6.216000e+07</td>\n",
       "    </tr>\n",
       "    <tr>\n",
       "      <th>164</th>\n",
       "      <td>0</td>\n",
       "      <td>Guatemala</td>\n",
       "      <td>GTM</td>\n",
       "      <td>2008.0</td>\n",
       "      <td>8.000000e+07</td>\n",
       "    </tr>\n",
       "    <tr>\n",
       "      <th>165</th>\n",
       "      <td>0</td>\n",
       "      <td>North Macedonia</td>\n",
       "      <td>MKD</td>\n",
       "      <td>2004.0</td>\n",
       "      <td>5.000000e+06</td>\n",
       "    </tr>\n",
       "    <tr>\n",
       "      <th>166</th>\n",
       "      <td>0</td>\n",
       "      <td>North Macedonia</td>\n",
       "      <td>MKD</td>\n",
       "      <td>2014.0</td>\n",
       "      <td>2.351447e+07</td>\n",
       "    </tr>\n",
       "  </tbody>\n",
       "</table>\n",
       "<p>167 rows × 5 columns</p>\n",
       "</div>"
      ],
      "text/plain": [
       "     index              Country Country_Code    Year        Amount\n",
       "0        0              Belarus          BLR  2015.0  5.000000e+07\n",
       "1        0              Belarus          BLR  2019.0  1.007527e+08\n",
       "2        0           Costa Rica          CRI  1991.0  2.300000e+07\n",
       "3        0           Costa Rica          CRI  2012.0  2.000000e+08\n",
       "4        0  St. Kitts and Nevis          KNA  2002.0  5.000000e+06\n",
       "..     ...                  ...          ...     ...           ...\n",
       "162      0              Algeria          DZA  1994.0  5.100000e+07\n",
       "163      0            Guatemala          GTM  2002.0  6.216000e+07\n",
       "164      0            Guatemala          GTM  2008.0  8.000000e+07\n",
       "165      0      North Macedonia          MKD  2004.0  5.000000e+06\n",
       "166      0      North Macedonia          MKD  2014.0  2.351447e+07\n",
       "\n",
       "[167 rows x 5 columns]"
      ]
     },
     "execution_count": 12,
     "metadata": {},
     "output_type": "execute_result"
    }
   ],
   "source": [
    "edu_DF.reset_index()"
   ]
  },
  {
   "cell_type": "code",
   "execution_count": 13,
   "metadata": {},
   "outputs": [],
   "source": [
    "for country in countryset:\n",
    "    for year in yearset:\n",
    "        amount_sum = edu_DF.loc[(edu_DF['Country'] == country) & (edu_DF['Year'] == year)]['Amount'].sum()\n",
    "        edu_DF['Sum'] = amount_sum\n",
    "        \n",
    "        "
   ]
  },
  {
   "cell_type": "code",
   "execution_count": 14,
   "metadata": {},
   "outputs": [
    {
     "name": "stdout",
     "output_type": "stream",
     "text": [
      "Belarus {2019.0, 2015.0}\n",
      "Costa Rica {2012.0, 1991.0}\n",
      "St. Kitts and Nevis {2002.0}\n",
      "Egypt, Arab Rep. {2002.0, 2018.0}\n",
      "Jamaica {2008.0, 2014.0}\n",
      "Dominica {2019.0, 1995.0, 2002.0, 2006.0, 2015.0}\n",
      "Hungary {1997.0, 1998.0}\n",
      "Trinidad and Tobago {1995.0}\n",
      "China {2017.0, 2018.0, 1996.0, 1999.0, 2003.0, 2010.0, 2012.0, 2013.0, 2015.0}\n",
      "Sri Lanka {2017.0}\n",
      "India {2017.0, 1990.0}\n",
      "St. Lucia {2002.0, 1995.0}\n",
      "Romania {1994.0, 1996.0, 1997.0}\n",
      "St. Vincent and the Grenadines {2004.0}\n",
      "Brazil {2018.0, 2002.0, 2009.0, 2010.0, 2012.0}\n",
      "Belize {1992.0}\n",
      "Paraguay {1995.0, 2003.0}\n",
      "El Salvador {1995.0, 2012.0, 2006.0, 1999.0}\n",
      "Russian Federation {2002.0, 2004.0, 1996.0, 1997.0}\n",
      "Panama {2008.0, 2001.0, 2007.0}\n",
      "Armenia {2014.0}\n",
      "Croatia {2005.0}\n",
      "Uruguay {2002.0, 1994.0, 2017.0}\n",
      "Jordan {2000.0, 2017.0, 1995.0, 2003.0}\n",
      "Philippines {1992.0, 1996.0, 2006.0, 1990.0}\n",
      "Argentina {2019.0, 1995.0, 1998.0, 2001.0, 2006.0}\n",
      "Chile {2013.0, 2002.0, 1995.0, 2005.0}\n",
      "Turkey {2002.0, 2019.0, 2006.0}\n",
      "Lithuania {2002.0}\n",
      "Georgia {2019.0}\n",
      "Serbia {2017.0}\n",
      "Mauritius {1993.0, 1995.0}\n",
      "Lebanon {2000.0, 1998.0}\n",
      "Indonesia {2019.0, 1990.0, 1991.0, 1992.0, 1994.0, 1995.0, 1996.0, 1998.0, 1999.0, 2005.0, 2007.0, 2008.0}\n",
      "Peru {1994.0, 2003.0, 2013.0, 2014.0}\n",
      "Morocco {2019.0, 1996.0, 1991.0}\n",
      "Ecuador {1992.0, 2016.0}\n",
      "Grenada {1995.0, 2003.0}\n",
      "Papua New Guinea {1993.0}\n",
      "Korea, Rep. {1992.0, 1994.0, 1990.0}\n",
      "Latvia {1999.0}\n",
      "Kazakhstan {2010.0, 2015.0}\n",
      "Mali {1990.0}\n",
      "Mexico {1994.0, 2002.0, 2004.0, 2006.0, 2015.0}\n",
      "Tunisia {2016.0, 2018.0, 1992.0, 1994.0, 2000.0, 2004.0, 2006.0}\n",
      "Colombia {2008.0, 2017.0, 2018.0, 2014.0}\n",
      "Malaysia {1992.0, 1999.0}\n",
      "Ukraine {2005.0}\n",
      "Algeria {1993.0, 1994.0, 1991.0}\n",
      "Guatemala {2008.0, 2002.0}\n",
      "North Macedonia {2004.0, 2014.0}\n"
     ]
    }
   ],
   "source": [
    "for country in countryset:\n",
    "    df = edu_DF.loc[lambda edu_DF: edu_DF['Country'] == country]\n",
    "    #print(country,min(df.Year),max(df.Year))\n",
    "    if len(df.Year)>0:\n",
    "        print(country,set(df.Year))\n",
    "    #else:\n",
    "        #print('empty',country)\n",
    "    "
   ]
  },
  {
   "cell_type": "code",
   "execution_count": null,
   "metadata": {},
   "outputs": [],
   "source": []
  },
  {
   "cell_type": "code",
   "execution_count": null,
   "metadata": {},
   "outputs": [],
   "source": []
  },
  {
   "cell_type": "code",
   "execution_count": 15,
   "metadata": {},
   "outputs": [],
   "source": [
    "amount_sum_dict={'Country_Code':[],'Year':[],'Amount_sum':[]}\n",
    "amount_sum_DF =pd.DataFrame(amount_sum_dict)"
   ]
  },
  {
   "cell_type": "code",
   "execution_count": 16,
   "metadata": {},
   "outputs": [],
   "source": [
    "for code in codeset:\n",
    "    df = edu_DF.loc[lambda edu_DF: edu_DF['Country_Code'] == code]\n",
    "    if len(df.Year)>0:\n",
    "        for year in df.Year:\n",
    "            amount_sum = edu_DF.loc[(edu_DF['Country_Code'] == code) & (edu_DF['Year'] == year)]['Amount'].sum()\n",
    "            df2 = pd.DataFrame([[code,year,amount_sum]],columns = amount_sum_DF.columns)\n",
    "            amount_sum_DF = amount_sum_DF.append(df2)\n",
    "\n",
    "            \n",
    "\n",
    "     "
   ]
  },
  {
   "cell_type": "code",
   "execution_count": 17,
   "metadata": {},
   "outputs": [],
   "source": [
    "amount_sum_DF= amount_sum_DF.drop_duplicates(subset =\"Amount_sum\")"
   ]
  },
  {
   "cell_type": "code",
   "execution_count": 18,
   "metadata": {},
   "outputs": [],
   "source": [
    "amount_sum_DF = amount_sum_DF.reset_index()"
   ]
  },
  {
   "cell_type": "code",
   "execution_count": 19,
   "metadata": {
    "scrolled": true
   },
   "outputs": [
    {
     "data": {
      "text/html": [
       "<div>\n",
       "<style scoped>\n",
       "    .dataframe tbody tr th:only-of-type {\n",
       "        vertical-align: middle;\n",
       "    }\n",
       "\n",
       "    .dataframe tbody tr th {\n",
       "        vertical-align: top;\n",
       "    }\n",
       "\n",
       "    .dataframe thead th {\n",
       "        text-align: right;\n",
       "    }\n",
       "</style>\n",
       "<table border=\"1\" class=\"dataframe\">\n",
       "  <thead>\n",
       "    <tr style=\"text-align: right;\">\n",
       "      <th></th>\n",
       "      <th>index</th>\n",
       "      <th>Country_Code</th>\n",
       "      <th>Year</th>\n",
       "      <th>Amount_sum</th>\n",
       "    </tr>\n",
       "  </thead>\n",
       "  <tbody>\n",
       "    <tr>\n",
       "      <th>0</th>\n",
       "      <td>0</td>\n",
       "      <td>TUR</td>\n",
       "      <td>2002.0</td>\n",
       "      <td>3.000000e+08</td>\n",
       "    </tr>\n",
       "    <tr>\n",
       "      <th>1</th>\n",
       "      <td>0</td>\n",
       "      <td>TUR</td>\n",
       "      <td>2006.0</td>\n",
       "      <td>1.004479e+08</td>\n",
       "    </tr>\n",
       "    <tr>\n",
       "      <th>2</th>\n",
       "      <td>0</td>\n",
       "      <td>TUR</td>\n",
       "      <td>2019.0</td>\n",
       "      <td>2.995715e+08</td>\n",
       "    </tr>\n",
       "    <tr>\n",
       "      <th>3</th>\n",
       "      <td>0</td>\n",
       "      <td>BRA</td>\n",
       "      <td>2002.0</td>\n",
       "      <td>1.728509e+08</td>\n",
       "    </tr>\n",
       "    <tr>\n",
       "      <th>4</th>\n",
       "      <td>0</td>\n",
       "      <td>BRA</td>\n",
       "      <td>2009.0</td>\n",
       "      <td>1.540000e+08</td>\n",
       "    </tr>\n",
       "  </tbody>\n",
       "</table>\n",
       "</div>"
      ],
      "text/plain": [
       "   index Country_Code    Year    Amount_sum\n",
       "0      0          TUR  2002.0  3.000000e+08\n",
       "1      0          TUR  2006.0  1.004479e+08\n",
       "2      0          TUR  2019.0  2.995715e+08\n",
       "3      0          BRA  2002.0  1.728509e+08\n",
       "4      0          BRA  2009.0  1.540000e+08"
      ]
     },
     "execution_count": 19,
     "metadata": {},
     "output_type": "execute_result"
    }
   ],
   "source": [
    "amount_sum_DF.head()"
   ]
  },
  {
   "cell_type": "code",
   "execution_count": 27,
   "metadata": {},
   "outputs": [],
   "source": [
    "indicator_dict = {'Country_Code':[],'Year':[],'-2':[],'-1':[],'0':[],'1':[],'2':[],'3':[],'4':[],'5':[]}\n",
    "indicator_DF = pd.DataFrame(indicator_dict)\n",
    "literacy = pd.read_csv('literacy.csv')"
   ]
  },
  {
   "cell_type": "code",
   "execution_count": 44,
   "metadata": {},
   "outputs": [],
   "source": [
    "amount_sum_DF['-2'] = None\n",
    "amount_sum_DF['-1'] = None\n",
    "amount_sum_DF['0'] = None\n",
    "amount_sum_DF['1'] = None\n",
    "amount_sum_DF['2'] = None\n",
    "amount_sum_DF['3'] = None\n",
    "amount_sum_DF['4'] = None\n",
    "amount_sum_DF['5'] = None\n",
    "\n"
   ]
  },
  {
   "cell_type": "code",
   "execution_count": 46,
   "metadata": {},
   "outputs": [],
   "source": [
    "def compute_WB_data(wbdata,code,year):\n",
    "    value = np.nan\n",
    "    for j in wbdata.index:\n",
    "            if wbdata.iloc[j,1] == code:\n",
    "                for col in wbdata.columns:\n",
    "                    if wbdata[col].iloc[3] == year:\n",
    "                        value = wbdata[col].iloc[j]\n",
    "                        break\n",
    "    return value\n",
    "    "
   ]
  },
  {
   "cell_type": "code",
   "execution_count": 47,
   "metadata": {},
   "outputs": [
    {
     "name": "stderr",
     "output_type": "stream",
     "text": [
      "<ipython-input-47-2c61e9dd39cd>:6: SettingWithCopyWarning: \n",
      "A value is trying to be set on a copy of a slice from a DataFrame\n",
      "\n",
      "See the caveats in the documentation: https://pandas.pydata.org/pandas-docs/stable/user_guide/indexing.html#returning-a-view-versus-a-copy\n",
      "  amount_sum_DF[str(k)][i] = literacy_rate\n"
     ]
    }
   ],
   "source": [
    "for k in range(-2,6):\n",
    "    for i in amount_sum_DF.index:\n",
    "        code = amount_sum_DF.Country_Code[i]\n",
    "        year = amount_sum_DF.Year[i] + k\n",
    "        literacy_rate = compute_WB_data(literacy,code,year)\n",
    "        amount_sum_DF[str(k)][i] = literacy_rate "
   ]
  },
  {
   "cell_type": "code",
   "execution_count": 48,
   "metadata": {},
   "outputs": [],
   "source": [
    "amount_sum_DF.to_csv('yearliteracy.csv')"
   ]
  },
  {
   "cell_type": "code",
   "execution_count": 85,
   "metadata": {},
   "outputs": [
    {
     "data": {
      "text/html": [
       "<div>\n",
       "<style scoped>\n",
       "    .dataframe tbody tr th:only-of-type {\n",
       "        vertical-align: middle;\n",
       "    }\n",
       "\n",
       "    .dataframe tbody tr th {\n",
       "        vertical-align: top;\n",
       "    }\n",
       "\n",
       "    .dataframe thead th {\n",
       "        text-align: right;\n",
       "    }\n",
       "</style>\n",
       "<table border=\"1\" class=\"dataframe\">\n",
       "  <thead>\n",
       "    <tr style=\"text-align: right;\">\n",
       "      <th></th>\n",
       "      <th>index</th>\n",
       "      <th>Country_Code</th>\n",
       "      <th>Year</th>\n",
       "      <th>Amount_sum</th>\n",
       "      <th>-2</th>\n",
       "      <th>-1</th>\n",
       "      <th>0</th>\n",
       "      <th>1</th>\n",
       "      <th>2</th>\n",
       "      <th>3</th>\n",
       "      <th>4</th>\n",
       "      <th>5</th>\n",
       "    </tr>\n",
       "  </thead>\n",
       "  <tbody>\n",
       "    <tr>\n",
       "      <th>0</th>\n",
       "      <td>0</td>\n",
       "      <td>TUR</td>\n",
       "      <td>2002.0</td>\n",
       "      <td>3.000000e+08</td>\n",
       "      <td>NaN</td>\n",
       "      <td>NaN</td>\n",
       "      <td>NaN</td>\n",
       "      <td>NaN</td>\n",
       "      <td>87.3655</td>\n",
       "      <td>88.2291</td>\n",
       "      <td>88.1194</td>\n",
       "      <td>88.6559</td>\n",
       "    </tr>\n",
       "    <tr>\n",
       "      <th>1</th>\n",
       "      <td>0</td>\n",
       "      <td>TUR</td>\n",
       "      <td>2006.0</td>\n",
       "      <td>1.004479e+08</td>\n",
       "      <td>87.3655</td>\n",
       "      <td>88.2291</td>\n",
       "      <td>88.1194</td>\n",
       "      <td>88.6559</td>\n",
       "      <td>NaN</td>\n",
       "      <td>90.8167</td>\n",
       "      <td>92.6606</td>\n",
       "      <td>94.1061</td>\n",
       "    </tr>\n",
       "    <tr>\n",
       "      <th>2</th>\n",
       "      <td>0</td>\n",
       "      <td>TUR</td>\n",
       "      <td>2019.0</td>\n",
       "      <td>2.995715e+08</td>\n",
       "      <td>96.1505</td>\n",
       "      <td>NaN</td>\n",
       "      <td>NaN</td>\n",
       "      <td>NaN</td>\n",
       "      <td>NaN</td>\n",
       "      <td>NaN</td>\n",
       "      <td>NaN</td>\n",
       "      <td>NaN</td>\n",
       "    </tr>\n",
       "    <tr>\n",
       "      <th>3</th>\n",
       "      <td>0</td>\n",
       "      <td>BRA</td>\n",
       "      <td>2002.0</td>\n",
       "      <td>1.728509e+08</td>\n",
       "      <td>86.3679</td>\n",
       "      <td>NaN</td>\n",
       "      <td>NaN</td>\n",
       "      <td>NaN</td>\n",
       "      <td>88.6162</td>\n",
       "      <td>NaN</td>\n",
       "      <td>89.6152</td>\n",
       "      <td>90.0094</td>\n",
       "    </tr>\n",
       "    <tr>\n",
       "      <th>4</th>\n",
       "      <td>0</td>\n",
       "      <td>BRA</td>\n",
       "      <td>2009.0</td>\n",
       "      <td>1.540000e+08</td>\n",
       "      <td>90.0094</td>\n",
       "      <td>90.0366</td>\n",
       "      <td>90.2982</td>\n",
       "      <td>90.3792</td>\n",
       "      <td>91.4112</td>\n",
       "      <td>91.3379</td>\n",
       "      <td>91.4842</td>\n",
       "      <td>91.7294</td>\n",
       "    </tr>\n",
       "  </tbody>\n",
       "</table>\n",
       "</div>"
      ],
      "text/plain": [
       "   index Country_Code    Year    Amount_sum       -2       -1        0  \\\n",
       "0      0          TUR  2002.0  3.000000e+08      NaN      NaN      NaN   \n",
       "1      0          TUR  2006.0  1.004479e+08  87.3655  88.2291  88.1194   \n",
       "2      0          TUR  2019.0  2.995715e+08  96.1505      NaN      NaN   \n",
       "3      0          BRA  2002.0  1.728509e+08  86.3679      NaN      NaN   \n",
       "4      0          BRA  2009.0  1.540000e+08  90.0094  90.0366  90.2982   \n",
       "\n",
       "         1        2        3        4        5  \n",
       "0      NaN  87.3655  88.2291  88.1194  88.6559  \n",
       "1  88.6559      NaN  90.8167  92.6606  94.1061  \n",
       "2      NaN      NaN      NaN      NaN      NaN  \n",
       "3      NaN  88.6162      NaN  89.6152  90.0094  \n",
       "4  90.3792  91.4112  91.3379  91.4842  91.7294  "
      ]
     },
     "execution_count": 85,
     "metadata": {},
     "output_type": "execute_result"
    }
   ],
   "source": [
    "brazil2009 = list(amount_sum_DF.iloc[4,4:])\n",
    "mexico2006 = list(amount_sum_DF.iloc[48,4:])\n",
    "amount_sum_DF.head()"
   ]
  },
  {
   "cell_type": "code",
   "execution_count": 86,
   "metadata": {},
   "outputs": [],
   "source": [
    "import matplotlib.pyplot as plt\n",
    "plt.style.use('seaborn-whitegrid')\n",
    "import seaborn as sns"
   ]
  },
  {
   "cell_type": "code",
   "execution_count": 95,
   "metadata": {},
   "outputs": [],
   "source": [
    "latinliteracy = []\n",
    "for year in range(2007,2015):\n",
    "    ll = compute_WB_data(literacy,'LCN',year)\n",
    "    latinliteracy.append(ll)\n"
   ]
  },
  {
   "cell_type": "code",
   "execution_count": 69,
   "metadata": {},
   "outputs": [
    {
     "data": {
      "text/plain": [
       "[<matplotlib.lines.Line2D at 0x7fbb002c8a30>]"
      ]
     },
     "execution_count": 69,
     "metadata": {},
     "output_type": "execute_result"
    },
    {
     "data": {
      "image/png": "[encoded data removed]",
      "text/plain": [
       "<Figure size 432x288 with 1 Axes>"
      ]
     },
     "metadata": {},
     "output_type": "display_data"
    }
   ],
   "source": [
    "plt.plot(latinliteracy)\n",
    "plt.plot(brazil2009)"
   ]
  },
  {
   "cell_type": "code",
   "execution_count": 70,
   "metadata": {},
   "outputs": [],
   "source": [
    "plt.close()"
   ]
  },
  {
   "cell_type": "code",
   "execution_count": 96,
   "metadata": {},
   "outputs": [
    {
     "data": {
      "image/png": "[encoded data removed]",
      "text/plain": [
       "<Figure size 432x288 with 1 Axes>"
      ]
     },
     "metadata": {},
     "output_type": "display_data"
    }
   ],
   "source": [
    "x = range(2007,2015)\n",
    "y1 = brazil2009\n",
    "y2 = latinliteracy\n",
    "plt.plot(x,y1,'-')\n",
    "plt.plot(x,y2,'-',color = 'y')\n",
    "plt.xlabel('Brazil borrowed money in 2009')\n",
    "plt.ylabel('Literacy rate')\n",
    "plt.legend(['Brazil','Latin america'])\n",
    "plt.show()"
   ]
  },
  {
   "cell_type": "code",
   "execution_count": 75,
   "metadata": {},
   "outputs": [],
   "source": [
    "plt.close()"
   ]
  },
  {
   "cell_type": "code",
   "execution_count": 94,
   "metadata": {},
   "outputs": [
    {
     "data": {
      "image/png": "[encoded data removed]",
      "text/plain": [
       "<Figure size 432x288 with 1 Axes>"
      ]
     },
     "metadata": {},
     "output_type": "display_data"
    }
   ],
   "source": [
    "x = range(2004,2012)\n",
    "y1 = mexico2006\n",
    "y2 = latinliteracy\n",
    "plt.plot(x,y1,'-',color = 'r')\n",
    "plt.plot(x,y2,'-',color = 'y')\n",
    "plt.xlabel('Mexico borrowed money in 2006')\n",
    "plt.ylabel('Literacy rate')\n",
    "plt.legend(['Mexico','Latin america'])\n",
    "plt.show()"
   ]
  },
  {
   "cell_type": "code",
   "execution_count": null,
   "metadata": {},
   "outputs": [],
   "source": []
  }
 ],
 "metadata": {
  "kernelspec": {
   "display_name": "Python 3",
   "language": "python",
   "name": "python3"
  },
  "language_info": {
   "codemirror_mode": {
    "name": "ipython",
    "version": 3
   },
   "file_extension": ".py",
   "mimetype": "text/x-python",
   "name": "python",
   "nbconvert_exporter": "python",
   "pygments_lexer": "ipython3",
   "version": "3.8.5"
  }
 },
 "nbformat": 4,
 "nbformat_minor": 4
}
