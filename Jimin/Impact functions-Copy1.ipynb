{
 "cells": [
  {
   "cell_type": "code",
   "execution_count": 1,
   "metadata": {},
   "outputs": [],
   "source": [
    "import pandas as pd\n",
    "import numpy as np\n",
    "import matplotlib.pyplot as plt\n",
    "import seaborn as sns\n",
    "sns.set_style(\"whitegrid\")"
   ]
  },
  {
   "cell_type": "code",
   "execution_count": 2,
   "metadata": {},
   "outputs": [],
   "source": [
    "data = pd.read_csv('All_Extracted_Data_From_PDFs.csv')\n",
    "topic = 'Health care'"
   ]
  },
  {
   "cell_type": "code",
   "execution_count": 3,
   "metadata": {},
   "outputs": [],
   "source": [
    "def topic_df(topic):\n",
    "    yearset = set(data.Year)\n",
    "    codeset = set(data.Country_Code)\n",
    "    countryset = set(data.Country)\n",
    "    topic_data = data.loc[lambda data: data['Topic'] == topic]\n",
    "    pre_dict = {'Country':[],'Country_Code':[],'Region':[],'Year':[],'Amount':[]}\n",
    "    pre_DF = pd.DataFrame(pre_dict)\n",
    "    for country in countryset:\n",
    "        for year in yearset:\n",
    "            for i in topic_data.index:\n",
    "                if topic_data.Country[i] == country and topic_data.Year[i] == year:\n",
    "                    df = pd.DataFrame([[country,topic_data.Country_Code[i],topic_data.Region[i],year,topic_data.Amount_in_usd[i]]],columns = pre_DF.columns)\n",
    "                    pre_DF = pre_DF.append(df)\n",
    "    pre_DF.reset_index()\n",
    "    amount_sum_dict={'Country_Code':[],'Region':[],'Year':[],'Amount_sum':[]}\n",
    "    amount_sum_DF =pd.DataFrame(amount_sum_dict)\n",
    "    for code in codeset:\n",
    "        df = pre_DF.loc[lambda pre_DF: pre_DF['Country_Code'] == code]\n",
    "        region = np.nan\n",
    "        if len(df.Region) > 0:\n",
    "            region = list(set(df.Region))[0]\n",
    "        if len(df.Year)>0:\n",
    "            for year in df.Year:\n",
    "                amount_sum = pre_DF.loc[(pre_DF['Country_Code'] == code) & (pre_DF['Year'] == year)]['Amount'].sum()\n",
    "                df2 = pd.DataFrame([[code,region,year,amount_sum]],columns = amount_sum_DF.columns)\n",
    "                amount_sum_DF = amount_sum_DF.append(df2)\n",
    "    amount_sum_DF= amount_sum_DF.drop_duplicates(subset =\"Amount_sum\")\n",
    "    amount_sum_DF = amount_sum_DF.reset_index()\n",
    "    return amount_sum_DF"
   ]
  },
  {
   "cell_type": "code",
   "execution_count": null,
   "metadata": {},
   "outputs": [],
   "source": []
  },
  {
   "cell_type": "code",
   "execution_count": 4,
   "metadata": {},
   "outputs": [],
   "source": [
    "otherdata = pd.read_csv('mortalityrate.csv')"
   ]
  },
  {
   "cell_type": "code",
   "execution_count": 5,
   "metadata": {},
   "outputs": [],
   "source": [
    "def compute_WB_data(wbdata,code,year):\n",
    "    value = np.nan\n",
    "    for j in wbdata.index:\n",
    "            if wbdata.iloc[j,1] == code:\n",
    "                for col in wbdata.columns:\n",
    "                    if wbdata[col].iloc[3] == year:\n",
    "                        value = wbdata[col].iloc[j]\n",
    "                        break\n",
    "    return value"
   ]
  },
  {
   "cell_type": "code",
   "execution_count": 6,
   "metadata": {},
   "outputs": [],
   "source": [
    "impact_DF = topic_df(topic)"
   ]
  },
  {
   "cell_type": "code",
   "execution_count": 7,
   "metadata": {},
   "outputs": [
    {
     "data": {
      "text/html": [
       "<div>\n",
       "<style scoped>\n",
       "    .dataframe tbody tr th:only-of-type {\n",
       "        vertical-align: middle;\n",
       "    }\n",
       "\n",
       "    .dataframe tbody tr th {\n",
       "        vertical-align: top;\n",
       "    }\n",
       "\n",
       "    .dataframe thead th {\n",
       "        text-align: right;\n",
       "    }\n",
       "</style>\n",
       "<table border=\"1\" class=\"dataframe\">\n",
       "  <thead>\n",
       "    <tr style=\"text-align: right;\">\n",
       "      <th></th>\n",
       "      <th>index</th>\n",
       "      <th>Country_Code</th>\n",
       "      <th>Region</th>\n",
       "      <th>Year</th>\n",
       "      <th>Amount_sum</th>\n",
       "    </tr>\n",
       "  </thead>\n",
       "  <tbody>\n",
       "    <tr>\n",
       "      <th>0</th>\n",
       "      <td>0</td>\n",
       "      <td>ECU</td>\n",
       "      <td>Latin America &amp; Caribbean</td>\n",
       "      <td>1993.0</td>\n",
       "      <td>70000000.0</td>\n",
       "    </tr>\n",
       "    <tr>\n",
       "      <th>1</th>\n",
       "      <td>0</td>\n",
       "      <td>GTM</td>\n",
       "      <td>Latin America &amp; Caribbean</td>\n",
       "      <td>2007.0</td>\n",
       "      <td>49000000.0</td>\n",
       "    </tr>\n",
       "    <tr>\n",
       "      <th>2</th>\n",
       "      <td>0</td>\n",
       "      <td>GTM</td>\n",
       "      <td>Latin America &amp; Caribbean</td>\n",
       "      <td>2019.0</td>\n",
       "      <td>100000000.0</td>\n",
       "    </tr>\n",
       "    <tr>\n",
       "      <th>3</th>\n",
       "      <td>0</td>\n",
       "      <td>KAZ</td>\n",
       "      <td>Europe &amp; Central Asia</td>\n",
       "      <td>1999.0</td>\n",
       "      <td>42500000.0</td>\n",
       "    </tr>\n",
       "    <tr>\n",
       "      <th>4</th>\n",
       "      <td>0</td>\n",
       "      <td>KAZ</td>\n",
       "      <td>Europe &amp; Central Asia</td>\n",
       "      <td>2008.0</td>\n",
       "      <td>117700000.0</td>\n",
       "    </tr>\n",
       "    <tr>\n",
       "      <th>...</th>\n",
       "      <td>...</td>\n",
       "      <td>...</td>\n",
       "      <td>...</td>\n",
       "      <td>...</td>\n",
       "      <td>...</td>\n",
       "    </tr>\n",
       "    <tr>\n",
       "      <th>86</th>\n",
       "      <td>0</td>\n",
       "      <td>IRN</td>\n",
       "      <td>Middle East &amp; North Africa</td>\n",
       "      <td>1993.0</td>\n",
       "      <td>141400000.0</td>\n",
       "    </tr>\n",
       "    <tr>\n",
       "      <th>87</th>\n",
       "      <td>0</td>\n",
       "      <td>IRN</td>\n",
       "      <td>Middle East &amp; North Africa</td>\n",
       "      <td>2000.0</td>\n",
       "      <td>87000000.0</td>\n",
       "    </tr>\n",
       "    <tr>\n",
       "      <th>88</th>\n",
       "      <td>0</td>\n",
       "      <td>CHN</td>\n",
       "      <td>East Asia &amp; Pacific</td>\n",
       "      <td>2017.0</td>\n",
       "      <td>600000000.0</td>\n",
       "    </tr>\n",
       "    <tr>\n",
       "      <th>89</th>\n",
       "      <td>0</td>\n",
       "      <td>CHN</td>\n",
       "      <td>East Asia &amp; Pacific</td>\n",
       "      <td>2018.0</td>\n",
       "      <td>118000000.0</td>\n",
       "    </tr>\n",
       "    <tr>\n",
       "      <th>90</th>\n",
       "      <td>0</td>\n",
       "      <td>POL</td>\n",
       "      <td>Europe &amp; Central Asia</td>\n",
       "      <td>1992.0</td>\n",
       "      <td>130000000.0</td>\n",
       "    </tr>\n",
       "  </tbody>\n",
       "</table>\n",
       "<p>91 rows × 5 columns</p>\n",
       "</div>"
      ],
      "text/plain": [
       "    index Country_Code                      Region    Year   Amount_sum\n",
       "0       0          ECU  Latin America & Caribbean   1993.0   70000000.0\n",
       "1       0          GTM  Latin America & Caribbean   2007.0   49000000.0\n",
       "2       0          GTM  Latin America & Caribbean   2019.0  100000000.0\n",
       "3       0          KAZ       Europe & Central Asia  1999.0   42500000.0\n",
       "4       0          KAZ       Europe & Central Asia  2008.0  117700000.0\n",
       "..    ...          ...                         ...     ...          ...\n",
       "86      0          IRN  Middle East & North Africa  1993.0  141400000.0\n",
       "87      0          IRN  Middle East & North Africa  2000.0   87000000.0\n",
       "88      0          CHN         East Asia & Pacific  2017.0  600000000.0\n",
       "89      0          CHN         East Asia & Pacific  2018.0  118000000.0\n",
       "90      0          POL       Europe & Central Asia  1992.0  130000000.0\n",
       "\n",
       "[91 rows x 5 columns]"
      ]
     },
     "execution_count": 7,
     "metadata": {},
     "output_type": "execute_result"
    }
   ],
   "source": [
    "impact_DF"
   ]
  },
  {
   "cell_type": "code",
   "execution_count": 8,
   "metadata": {},
   "outputs": [],
   "source": [
    "def topic_and_other(impact_DF,otherdata):\n",
    "    impact_DF['-2'] = None\n",
    "    impact_DF['-1'] = None\n",
    "    impact_DF['0'] = None\n",
    "    impact_DF['1'] = None\n",
    "    impact_DF['2'] = None\n",
    "    impact_DF['3'] = None\n",
    "    impact_DF['4'] = None\n",
    "    impact_DF['5'] = None    \n",
    "    for k in range(-2,6):\n",
    "        for i in impact_DF.index:\n",
    "            code = impact_DF.Country_Code[i]\n",
    "            year = impact_DF.Year[i] + k\n",
    "            other = compute_WB_data(otherdata,code,year)\n",
    "            impact_DF[str(k)][i] = other\n",
    "    return impact_DF   "
   ]
  },
  {
   "cell_type": "code",
   "execution_count": 9,
   "metadata": {},
   "outputs": [
    {
     "name": "stderr",
     "output_type": "stream",
     "text": [
      "<ipython-input-8-74b1e620eb15>:15: SettingWithCopyWarning: \n",
      "A value is trying to be set on a copy of a slice from a DataFrame\n",
      "\n",
      "See the caveats in the documentation: https://pandas.pydata.org/pandas-docs/stable/user_guide/indexing.html#returning-a-view-versus-a-copy\n",
      "  impact_DF[str(k)][i] = other\n"
     ]
    }
   ],
   "source": [
    "df = topic_and_other(impact_DF,otherdata)"
   ]
  },
  {
   "cell_type": "code",
   "execution_count": 10,
   "metadata": {},
   "outputs": [],
   "source": [
    "def region_code(region):\n",
    "    code = np.nan\n",
    "    if region == 'Latin America & Caribbean ':\n",
    "        code = 'LCN'\n",
    "    if region == 'East Asia & Pacific':\n",
    "        code = 'EAS'\n",
    "    if region == 'South Asia':\n",
    "        code = 'SAS'\n",
    "    if region == 'Middle East & North Africa':\n",
    "        code = 'MEA'\n",
    "    if region == 'Europe & Central Asia':\n",
    "        code = 'ECS'\n",
    "    return code"
   ]
  },
  {
   "cell_type": "code",
   "execution_count": 18,
   "metadata": {},
   "outputs": [
    {
     "name": "stderr",
     "output_type": "stream",
     "text": [
      "<ipython-input-18-a75783fa007a>:10: SettingWithCopyWarning: \n",
      "A value is trying to be set on a copy of a slice from a DataFrame\n",
      "\n",
      "See the caveats in the documentation: https://pandas.pydata.org/pandas-docs/stable/user_guide/indexing.html#returning-a-view-versus-a-copy\n",
      "  df['Delta_country'][i] = -del_count\n",
      "<ipython-input-18-a75783fa007a>:11: SettingWithCopyWarning: \n",
      "A value is trying to be set on a copy of a slice from a DataFrame\n",
      "\n",
      "See the caveats in the documentation: https://pandas.pydata.org/pandas-docs/stable/user_guide/indexing.html#returning-a-view-versus-a-copy\n",
      "  df['Delta_region'][i] = -del_regi\n",
      "<ipython-input-18-a75783fa007a>:12: SettingWithCopyWarning: \n",
      "A value is trying to be set on a copy of a slice from a DataFrame\n",
      "\n",
      "See the caveats in the documentation: https://pandas.pydata.org/pandas-docs/stable/user_guide/indexing.html#returning-a-view-versus-a-copy\n",
      "  df['Delta'][i] = - del_regi + del_count\n"
     ]
    }
   ],
   "source": [
    "df['Delta_country'] = None\n",
    "df['Delta_region'] = None\n",
    "df['Delta']=None\n",
    "for i in df.index:\n",
    "    year = df.Year[i]\n",
    "    region = df.Region[i]\n",
    "    reg_code = region_code(region)\n",
    "    del_regi = (compute_WB_data(otherdata,reg_code,year+2) - compute_WB_data(otherdata,reg_code,year))/compute_WB_data(otherdata,reg_code,year)\n",
    "    del_count = (df.iloc[i,10] - df.iloc[i,5])/df.iloc[i,5]\n",
    "    df['Delta_country'][i] = -del_count\n",
    "    df['Delta_region'][i] = -del_regi\n",
    "    df['Delta'][i] = - del_regi + del_count"
   ]
  },
  {
   "cell_type": "code",
   "execution_count": 31,
   "metadata": {},
   "outputs": [
    {
     "data": {
      "image/png": "[encoded data removed]",
      "text/plain": [
       "<Figure size 720x576 with 1 Axes>"
      ]
     },
     "metadata": {},
     "output_type": "display_data"
    }
   ],
   "source": [
    "plt.figure(figsize = (10,8))\n",
    "\n",
    "\n",
    "sns.scatterplot(data = df, x=\"Amount_sum\", y = \"Delta\")\n",
    "plt.xlabel(\"Amount_sum\", fontsize =16)\n",
    "plt.xscale(\"log\")\n",
    "\n",
    "## place a ylabel\n",
    "plt.ylabel(\"Delta\", fontsize = 16)\n",
    "\n",
    "plt.title(\"Impact of the health care loans on the mortality rates\")\n",
    "## type this to show the plot\n",
    "plt.show()"
   ]
  },
  {
   "cell_type": "code",
   "execution_count": 16,
   "metadata": {},
   "outputs": [],
   "source": [
    "plt.close()"
   ]
  },
  {
   "cell_type": "code",
   "execution_count": 21,
   "metadata": {},
   "outputs": [],
   "source": [
    "dfdf = df.dropna(subset = [\"Delta_region\",\"Delta_country\"])"
   ]
  },
  {
   "cell_type": "code",
   "execution_count": 22,
   "metadata": {},
   "outputs": [],
   "source": [
    "from sklearn.linear_model import LinearRegression"
   ]
  },
  {
   "cell_type": "code",
   "execution_count": 23,
   "metadata": {},
   "outputs": [
    {
     "data": {
      "text/plain": [
       "LinearRegression()"
      ]
     },
     "execution_count": 23,
     "metadata": {},
     "output_type": "execute_result"
    }
   ],
   "source": [
    "slr = LinearRegression(copy_X = True)\n",
    "slr.fit(dfdf[\"Amount_sum\"].values.reshape(-1,1),dfdf[\"Delta\"].values)"
   ]
  },
  {
   "cell_type": "code",
   "execution_count": 29,
   "metadata": {},
   "outputs": [
    {
     "data": {
      "text/plain": [
       "1.7780328021859564e-11"
      ]
     },
     "execution_count": 29,
     "metadata": {},
     "output_type": "execute_result"
    }
   ],
   "source": [
    "a = slr.coef_[0]\n",
    "a"
   ]
  },
  {
   "cell_type": "code",
   "execution_count": 30,
   "metadata": {},
   "outputs": [
    {
     "data": {
      "text/plain": [
       "-0.11433940182953303"
      ]
     },
     "execution_count": 30,
     "metadata": {},
     "output_type": "execute_result"
    }
   ],
   "source": [
    "b = slr.intercept_\n",
    "b"
   ]
  },
  {
   "cell_type": "code",
   "execution_count": null,
   "metadata": {},
   "outputs": [],
   "source": []
  }
 ],
 "metadata": {
  "kernelspec": {
   "display_name": "Python 3",
   "language": "python",
   "name": "python3"
  },
  "language_info": {
   "codemirror_mode": {
    "name": "ipython",
    "version": 3
   },
   "file_extension": ".py",
   "mimetype": "text/x-python",
   "name": "python",
   "nbconvert_exporter": "python",
   "pygments_lexer": "ipython3",
   "version": "3.8.5"
  }
 },
 "nbformat": 4,
 "nbformat_minor": 4
}
