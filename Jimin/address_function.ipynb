{
 "cells": [
  {
   "cell_type": "code",
   "execution_count": 78,
   "metadata": {},
   "outputs": [],
   "source": [
    "import pandas as pd\n",
    "import numpy as np"
   ]
  },
  {
   "cell_type": "code",
   "execution_count": 79,
   "metadata": {},
   "outputs": [],
   "source": [
    "pdfminer = pd.read_pickle('pdfminer_ables.dat')\n",
    "pytess = pd.read_pickle('pytesseract_results.dat')\n",
    "pdfminer['extracted_text'] = pdfminer['de_headed']\n",
    "pytess['extracted_text'] = pytess['reparse']\n",
    "combined = pytess.combine_first(pdfminer)\n",
    "combined = combined[['filename','extracted_text']]"
   ]
  },
  {
   "cell_type": "code",
   "execution_count": 80,
   "metadata": {},
   "outputs": [],
   "source": [
    "def spacing(docu):\n",
    "    docu = docu.replace('  ',' ')\n",
    "    docu = docu.replace('   ',' ')\n",
    "    return docu"
   ]
  },
  {
   "cell_type": "code",
   "execution_count": 81,
   "metadata": {},
   "outputs": [],
   "source": [
    "def lower(docu):\n",
    "    docu = docu.lower()\n",
    "    return docu"
   ]
  },
  {
   "cell_type": "code",
   "execution_count": 82,
   "metadata": {},
   "outputs": [],
   "source": [
    "def read_address(docu, pin0= 'addresses', pin1 = 'start', pin2 = 'end'):\n",
    "    start = docu.find(pin0)\n",
    "    borrower = docu[start:].find(pin1)\n",
    "    colon = docu[start+borrower:].find(':')\n",
    "    bank = docu[start+borrower+colon:].find(pin2)\n",
    "    add = docu[start+borrower+colon+1:start+borrower+colon+bank]\n",
    "    if 'in witness' in add:\n",
    "        end2 = docu[start+borrower+colon+1:].find('in witness')\n",
    "        add = add[:end2]\n",
    "    return add   "
   ]
  },
  {
   "cell_type": "code",
   "execution_count": 83,
   "metadata": {},
   "outputs": [],
   "source": [
    "address1 = []\n",
    "for i in range(len(combined)):\n",
    "    docu = combined.iloc[i,1]\n",
    "    docu = spacing(docu)\n",
    "    docu = lower(docu)\n",
    "    address = read_address(docu, pin0 = 'addresses', pin1 = 'for the borrower', pin2 = 'for the bank')\n",
    "    if len(address) < 8:\n",
    "        address = read_address(docu, pin0 = 'addresses', pin1 = 'for the borrower', pin2 = 'international bank')\n",
    "    address1.append(address)"
   ]
  },
  {
   "cell_type": "code",
   "execution_count": 84,
   "metadata": {},
   "outputs": [],
   "source": [
    "address2 = []\n",
    "for i in range(len(combined)):\n",
    "    docu = combined.iloc[i,1]\n",
    "    docu = spacing(docu)\n",
    "    docu = lower(docu)\n",
    "    address = read_address(docu, pin0 = 'addresses', pin1 = 'address is', pin2 = 'the bank')\n",
    "    address2.append(address)\n"
   ]
  },
  {
   "cell_type": "code",
   "execution_count": 85,
   "metadata": {},
   "outputs": [],
   "source": [
    "address3 = []\n",
    "for i in range(len(combined)):\n",
    "    docu = combined.iloc[i,1]\n",
    "    docu = spacing(docu)\n",
    "    docu = lower(docu)\n",
    "    address = read_address(docu, pin0 = 'addresses', pin1 = 'the borrower', pin2 = 'the world bank')\n",
    "    address3.append(address)"
   ]
  },
  {
   "cell_type": "code",
   "execution_count": 86,
   "metadata": {},
   "outputs": [],
   "source": [
    "for i in range(len(address1)):\n",
    "    if len(address1[i]) < 8 & len(address2[i]) > 8:\n",
    "        address1[i] = address2[i]\n",
    "    elif len(address1[i]) > 500:\n",
    "        address1[i] = address2[i]"
   ]
  },
  {
   "cell_type": "code",
   "execution_count": 87,
   "metadata": {},
   "outputs": [],
   "source": [
    "for i in range(len(address1)):\n",
    "    if len(address1[i]) < 8 & len(address3[i]) > 8:\n",
    "        address1[i] = address3[i]"
   ]
  },
  {
   "cell_type": "code",
   "execution_count": 88,
   "metadata": {},
   "outputs": [],
   "source": [
    "data = pd.read_pickle('../Extracted_Information.dat')\n",
    "data['Address'] = pd.Series(address1)"
   ]
  },
  {
   "cell_type": "code",
   "execution_count": 94,
   "metadata": {},
   "outputs": [],
   "source": [
    "data.to_pickle('Extracted_Information.dat')"
   ]
  },
  {
   "cell_type": "code",
   "execution_count": 97,
   "metadata": {},
   "outputs": [],
   "source": [
    "a = 0\n",
    "for i in range(len(address1)):\n",
    "    if len(address1[i]) < 8:\n",
    "        a = a+1"
   ]
  },
  {
   "cell_type": "code",
   "execution_count": 98,
   "metadata": {},
   "outputs": [
    {
     "data": {
      "text/plain": [
       "113"
      ]
     },
     "execution_count": 98,
     "metadata": {},
     "output_type": "execute_result"
    }
   ],
   "source": [
    "a"
   ]
  },
  {
   "cell_type": "code",
   "execution_count": 100,
   "metadata": {},
   "outputs": [],
   "source": [
    "b = data['Address'].iloc[0]"
   ]
  },
  {
   "cell_type": "code",
   "execution_count": 101,
   "metadata": {},
   "outputs": [
    {
     "data": {
      "text/plain": [
       "133"
      ]
     },
     "execution_count": 101,
     "metadata": {},
     "output_type": "execute_result"
    }
   ],
   "source": [
    "len(b)"
   ]
  },
  {
   "cell_type": "code",
   "execution_count": null,
   "metadata": {},
   "outputs": [],
   "source": []
  }
 ],
 "metadata": {
  "kernelspec": {
   "display_name": "Python 3",
   "language": "python",
   "name": "python3"
  },
  "language_info": {
   "codemirror_mode": {
    "name": "ipython",
    "version": 3
   },
   "file_extension": ".py",
   "mimetype": "text/x-python",
   "name": "python",
   "nbconvert_exporter": "python",
   "pygments_lexer": "ipython3",
   "version": "3.8.5"
  }
 },
 "nbformat": 4,
 "nbformat_minor": 4
}
