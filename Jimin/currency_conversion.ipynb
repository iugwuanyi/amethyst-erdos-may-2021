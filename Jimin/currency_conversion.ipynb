{
 "cells": [
  {
   "cell_type": "code",
   "execution_count": 1,
   "metadata": {},
   "outputs": [],
   "source": [
    "import pandas as pd\n",
    "import numpy as np"
   ]
  },
  {
   "cell_type": "code",
   "execution_count": 2,
   "metadata": {},
   "outputs": [],
   "source": [
    "data1 = pd.read_pickle('../Extracted_Information.dat')"
   ]
  },
  {
   "cell_type": "code",
   "execution_count": 3,
   "metadata": {},
   "outputs": [
    {
     "name": "stdout",
     "output_type": "stream",
     "text": [
      "{'dem', 'uss', '€', 'y', 'us', None, '¥', 'c', '$', 'sdr', 'gbp', 'frf', 'egp', 'jpy', '£', 'eur', 's', 'e', 'usd'}\n"
     ]
    }
   ],
   "source": [
    "currency_set = set(data1['Currency'].values)\n",
    "print(currency_set)"
   ]
  },
  {
   "cell_type": "code",
   "execution_count": 4,
   "metadata": {},
   "outputs": [],
   "source": [
    "exchangerate = pd.read_csv('../exchangerates.csv')"
   ]
  },
  {
   "cell_type": "code",
   "execution_count": null,
   "metadata": {},
   "outputs": [],
   "source": [
    "#cut out the historical data of the exchange rates for \n",
    "#euro, dem, yen, gbp, frf\n",
    "euro= exchangerate.loc[exchangerate['LOCATION'] == 'EU27_2020']\n",
    "dem = exchangerate.loc[exchangerate['LOCATION'] == 'DEU']\n",
    "yen = exchangerate.loc[exchangerate['LOCATION'] == 'JPN']\n",
    "gbp = exchangerate.loc[exchangerate['LOCATION'] == 'GBR']\n",
    "frf = exchangerate.loc[exchangerate['LOCATION'] == 'FRA']"
   ]
  },
  {
   "cell_type": "code",
   "execution_count": null,
   "metadata": {},
   "outputs": [],
   "source": [
    "#create a list of the loan amounts coverted to usd\n",
    "#call it to_usd\n",
    "#for each loan, find the year & the currency \n",
    "#from 'Extracted_Information.dat',\n",
    "#\n",
    "\n",
    "to_usd = []\n",
    "for i in range(len(data1)):\n",
    "    amount = 0\n",
    "    if data1['Currency'].iloc[i] == 'usd' or data1['Currency'].iloc[i] == '$' or data1['Currency'].iloc[i] == 'sdr':\n",
    "        amount = data1['Amount_loan'].iloc[i]\n",
    "    elif data1.iloc[i,3] == 'eur' or data1.iloc[i,3] == 'e' or data1.iloc[i,3] == '€':\n",
    "        yearnumber = data1.iloc[i,1].year\n",
    "        for j in range(len(euro)):\n",
    "            if euro['TIME'].iloc[j] == yearnumber:\n",
    "                value = euro['Value'].iloc[j]\n",
    "                break\n",
    "        amount = data1['Amount_loan'].iloc[i]*value\n",
    "    elif data1.iloc[i,3] == 'dem':\n",
    "        yearnumber = data1.iloc[i,1].year\n",
    "        for d in range(len(dem)):\n",
    "            if dem['TIME'].iloc[d] == yearnumber:\n",
    "                value = dem['Value'].iloc[d]\n",
    "                break\n",
    "        amount = data1['Amount_loan'].iloc[i]*value\n",
    "    elif data1.iloc[i,3] == 'jpy':\n",
    "        yearnumber = data1.iloc[i,1].year\n",
    "        for y in range(len(yen)):\n",
    "            if yen['TIME'].iloc[y] == yearnumber:\n",
    "                value = yen['Value'].iloc[y]\n",
    "                break\n",
    "        amount = data1['Amount_loan'].iloc[i]*value\n",
    "    elif data1.iloc[i,3] == 'gbp' or data1.iloc[i,3] == '£':\n",
    "        yearnumber = data1.iloc[i,1].year\n",
    "        for g in range(len(gbp)):\n",
    "            if gbp['TIME'].iloc[g] == yearnumber:\n",
    "                value = gbp['Value'].iloc[g]\n",
    "                break\n",
    "        amount = data1['Amount_loan'].iloc[i]*value\n",
    "    elif data1.iloc[i,3] == 'frf':\n",
    "        yearnumber = data1.iloc[i,1].year\n",
    "        for f in range(len(frf)):\n",
    "            if frf['TIME'].iloc[f] == yearnumber:\n",
    "                value = frf['Value'].iloc[f]\n",
    "                break\n",
    "        amount = data1['Amount_loan'].iloc[i]*value\n",
    "        \n",
    "    to_usd.append(int(amount))"
   ]
  },
  {
   "cell_type": "code",
   "execution_count": null,
   "metadata": {},
   "outputs": [],
   "source": [
    "data1[\"Amount_in_usd\"] = pd.Series(to_usd)"
   ]
  },
  {
   "cell_type": "code",
   "execution_count": null,
   "metadata": {},
   "outputs": [],
   "source": [
    "for i in range(len(data1[\"Amount_in_usd\"])):\n",
    "    if data1[\"Amount_in_usd\"].iloc[i] == 0:\n",
    "        data1[\"Amount_in_usd\"].iloc[i] = ''"
   ]
  },
  {
   "cell_type": "code",
   "execution_count": null,
   "metadata": {},
   "outputs": [],
   "source": [
    "data1"
   ]
  },
  {
   "cell_type": "code",
   "execution_count": null,
   "metadata": {},
   "outputs": [],
   "source": []
  }
 ],
 "metadata": {
  "kernelspec": {
   "display_name": "Python 3",
   "language": "python",
   "name": "python3"
  },
  "language_info": {
   "codemirror_mode": {
    "name": "ipython",
    "version": 3
   },
   "file_extension": ".py",
   "mimetype": "text/x-python",
   "name": "python",
   "nbconvert_exporter": "python",
   "pygments_lexer": "ipython3",
   "version": "3.8.5"
  }
 },
 "nbformat": 4,
 "nbformat_minor": 4
}
