{
 "cells": [
  {
   "cell_type": "code",
   "execution_count": 1,
   "metadata": {},
   "outputs": [],
   "source": [
    "import pandas as pd\n",
    "import numpy as np"
   ]
  },
  {
   "cell_type": "code",
   "execution_count": 2,
   "metadata": {},
   "outputs": [],
   "source": [
    "data = pd.read_pickle('../Extracted_Information.dat')\n",
    "worldmap = pd.read_csv('../world_bank_country_mappings.csv')"
   ]
  },
  {
   "cell_type": "code",
   "execution_count": 10,
   "metadata": {},
   "outputs": [],
   "source": [
    "country_name = []\n",
    "country_code = []\n",
    "income_level = []\n",
    "region = []\n",
    "for i in range(len(data)):\n",
    "    address = data[\"Address\"].iloc[i]\n",
    "    address = address.replace('\\n','')\n",
    "    address = address.replace(' ','')\n",
    "    address = address.replace('  ','')\n",
    "    address = address.replace(\"’\",\"\")\n",
    "    address = address.lower()\n",
    "    for j in range(len(worldmap['name'])):\n",
    "        \n",
    "        if worldmap['name'][j] == 'Africa':\n",
    "            continue\n",
    "            \n",
    "        if worldmap['name'][j] == 'United States':\n",
    "            continue\n",
    "            \n",
    "        if worldmap['name'][j] == 'World':\n",
    "            continue\n",
    "            \n",
    "        if worldmap['name'][j] == 'Niger' and address.find('nigeria') > -1:\n",
    "            continue\n",
    "            \n",
    "        if worldmap['name'][j] == 'Oman' and address.find('romania') > -1:\n",
    "            continue\n",
    "        \n",
    "        if worldmap ['name'][j] == 'Oman' and address.find('phi') > -1:\n",
    "            continue\n",
    "            \n",
    "        if worldmap ['name'][j] == 'Mali' and address.find('turkey') > -1:\n",
    "            continue\n",
    "        \n",
    "        if worldmap['name'][j] == 'Guinea' and address.find('papua') > -1:\n",
    "            countryname = 'Papua New Guinea'\n",
    "            countrycode = 'PNG'\n",
    "            incomelevel = 'Lower middle income'\n",
    "            regi = 'East Asia & Pacific'\n",
    "            break\n",
    "        \n",
    "        if worldmap['name'][j] == 'Spain' and address.find('trinidad')> -1:\n",
    "            countryname = 'Trinidad and Tobago'\n",
    "            countrycode = 'TTO'\n",
    "            incomelevel = 'High income'\n",
    "            regi = 'Latin America & Caribbean '\n",
    "            break\n",
    "        \n",
    "        if worldmap['name'][j] == 'Chile' and address.find('paraguay')> -1:\n",
    "            countryname = 'Paraguay'\n",
    "            countrycode = 'PRY'\n",
    "            incomelevel = 'Upper middle income'\n",
    "            regi = 'Latin America & Caribbean '\n",
    "            break\n",
    "        \n",
    "        else:    \n",
    "            name = worldmap['name'][j]\n",
    "            name = name.replace(' ','')\n",
    "            name = name.replace(\"'\",\"\")\n",
    "            name = name.replace('  ','')\n",
    "            name = name.lower()\n",
    "            cut = name.find(',')\n",
    "            if cut > 0:\n",
    "                name = name[:cut]\n",
    "            countryname = ''\n",
    "            countrycode = ''\n",
    "            incomelevel = ''\n",
    "            regi = ''\n",
    "        \n",
    "            if address.find(name) > -1:\n",
    "                countryname = worldmap['name'][j]\n",
    "                countrycode = worldmap['id'][j]\n",
    "                incomelevel = worldmap['incomeLevel.value'][j]\n",
    "                regi = worldmap['region.value'][j]\n",
    "                break\n",
    "            \n",
    "            \n",
    "            city = worldmap['capitalCity'][j]\n",
    "            if type(city) == str:\n",
    "                city = city.replace(' ','')\n",
    "                city = city.replace(\"'\",\"\")\n",
    "                city = city.replace('  ','')\n",
    "                city = city.lower()\n",
    "                if address.find(name) == -1 and address.find(city) >-1:\n",
    "                    countryname = worldmap['name'][j]\n",
    "                    countrycode = worldmap['id'][j]\n",
    "                    incomelevel = worldmap['incomeLevel.value'][j]\n",
    "                    regi = worldmap['region.value'][j]\n",
    "                    break\n",
    "                \n",
    "                       \n",
    "                    \n",
    "    if countryname == '':\n",
    "        if address.find('méxico') > -1 or address.find('mexican') > -1:\n",
    "            countryname = 'Mexico'\n",
    "            countrycode = 'MEX'\n",
    "            incomelevel = 'Upper middle income'\n",
    "            regi = 'Latin America & Caribbean '\n",
    "            \n",
    "        \n",
    "            \n",
    "    country_name.append(countryname)\n",
    "    country_code.append(countrycode)\n",
    "    income_level.append(incomelevel)\n",
    "    region.append(regi)"
   ]
  },
  {
   "cell_type": "code",
   "execution_count": 11,
   "metadata": {},
   "outputs": [],
   "source": [
    "data['Country3code'] = pd.Series(country_code)\n",
    "data['Country_name'] = pd.Series(country_name)\n",
    "data['Income_level'] = pd.Series(income_level)\n",
    "data['Region'] = pd.Series(region)"
   ]
  },
  {
   "cell_type": "code",
   "execution_count": 12,
   "metadata": {},
   "outputs": [],
   "source": [
    "a = 0\n",
    "for i in data.index:\n",
    "    if data['Country3code'][i] == '':\n",
    "        a = a+1\n",
    "        data.iloc[i,9:13] = None\n",
    "    if data['Country3code'][i] == float('nan'):\n",
    "        a = a+1\n",
    "        data.iloc[i,9:13] = None"
   ]
  },
  {
   "cell_type": "code",
   "execution_count": 13,
   "metadata": {},
   "outputs": [
    {
     "data": {
      "text/plain": [
       "204"
      ]
     },
     "execution_count": 13,
     "metadata": {},
     "output_type": "execute_result"
    }
   ],
   "source": [
    "a"
   ]
  },
  {
   "cell_type": "code",
   "execution_count": null,
   "metadata": {},
   "outputs": [],
   "source": [
    "b=0\n",
    "for i in data.index:\n",
    "    if data['Address'][i] == '':\n",
    "        b = b+1"
   ]
  },
  {
   "cell_type": "code",
   "execution_count": null,
   "metadata": {
    "scrolled": true
   },
   "outputs": [],
   "source": [
    "b"
   ]
  },
  {
   "cell_type": "code",
   "execution_count": null,
   "metadata": {},
   "outputs": [],
   "source": [
    "data = data.drop(\n",
    "    labels = [\"Country_code\"],\n",
    "    axis = 1)"
   ]
  },
  {
   "cell_type": "code",
   "execution_count": null,
   "metadata": {},
   "outputs": [],
   "source": [
    "data.to_pickle('Extracted_Information.dat')"
   ]
  },
  {
   "cell_type": "code",
   "execution_count": 7,
   "metadata": {},
   "outputs": [],
   "source": [
    "data.to_csv('afterfran.csv')"
   ]
  },
  {
   "cell_type": "code",
   "execution_count": null,
   "metadata": {},
   "outputs": [],
   "source": []
  }
 ],
 "metadata": {
  "kernelspec": {
   "display_name": "Python 3",
   "language": "python",
   "name": "python3"
  },
  "language_info": {
   "codemirror_mode": {
    "name": "ipython",
    "version": 3
   },
   "file_extension": ".py",
   "mimetype": "text/x-python",
   "name": "python",
   "nbconvert_exporter": "python",
   "pygments_lexer": "ipython3",
   "version": "3.8.5"
  }
 },
 "nbformat": 4,
 "nbformat_minor": 4
}
