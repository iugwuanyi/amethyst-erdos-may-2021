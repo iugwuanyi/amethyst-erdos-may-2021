{
 "cells": [
  {
   "cell_type": "code",
   "execution_count": 1,
   "metadata": {},
   "outputs": [],
   "source": [
    "import pandas as pd\n",
    "import numpy as np"
   ]
  },
  {
   "cell_type": "code",
   "execution_count": 2,
   "metadata": {},
   "outputs": [],
   "source": [
    "data = pd.read_pickle('../Extracted_Information.dat')\n",
    "worldmap = pd.read_csv('../world_bank_country_mappings.csv')"
   ]
  },
  {
   "cell_type": "code",
   "execution_count": 9,
   "metadata": {},
   "outputs": [],
   "source": [
    "country_name = []\n",
    "country_code = []\n",
    "income_level = []\n",
    "region = []\n",
    "for i in range(len(data)):\n",
    "    address = data[\"Address\"].iloc[i]\n",
    "    address = address.replace('\\n','')\n",
    "    address = address.replace(' ','')\n",
    "    address = address.replace('  ','')\n",
    "    address = address.replace(\"’\",\"\")\n",
    "    address = address.lower()\n",
    "    for j in range(len(worldmap['name'])):\n",
    "        \n",
    "        if worldmap['name'][j] == 'Africa':\n",
    "            continue\n",
    "            \n",
    "        if worldmap['name'][j] == 'United States':\n",
    "            continue\n",
    "            \n",
    "        if worldmap['name'][j] == 'World':\n",
    "            continue\n",
    "            \n",
    "        if worldmap['name'][j] == 'Niger' and address.find('nigeria') > -1:\n",
    "            continue\n",
    "        \n",
    "        else:    \n",
    "            name = worldmap['name'][j]\n",
    "            name = name.replace(' ','')\n",
    "            name = name.replace(\"'\",\"\")\n",
    "            name = name.replace('  ','')\n",
    "            name = name.lower()\n",
    "            cut = name.find(',')\n",
    "            if cut > 0:\n",
    "                name = name[:cut]\n",
    "            countryname = ''\n",
    "            countrycode = ''\n",
    "            incomelevel = ''\n",
    "            regi = ''\n",
    "        \n",
    "            if address.find(name) > -1:\n",
    "                countryname = worldmap['name'][j]\n",
    "                countrycode = worldmap['id'][j]\n",
    "                incomelevel = worldmap['incomeLevel.value'][j]\n",
    "                regi = worldmap['region.value'][j]\n",
    "                break\n",
    "            \n",
    "            \n",
    "            else:\n",
    "                city = worldmap['capitalCity'][j]\n",
    "                if type(city) == str and address.find(city) >-1:\n",
    "                    countryname = worldmap['name'][j]\n",
    "                    countrycode = worldmap['id'][j]\n",
    "                    incomelevel = worldmap['incomeLevel.value'][j]\n",
    "                    regi = worldmap['region.value'][j]\n",
    "                    break\n",
    "                       \n",
    "                    \n",
    "    if countryname == '':\n",
    "        if address.find('méxico') > -1 or address.find('mexican') > -1:\n",
    "            countryname = 'Mexico'\n",
    "            countrycode = 'MEX'\n",
    "            incomelevel = 'Upper middle income'\n",
    "            regi = 'Latin America & Caribbean '\n",
    "        \n",
    "            \n",
    "    country_name.append(countryname)\n",
    "    country_code.append(countrycode)\n",
    "    income_level.append(incomelevel)\n",
    "    region.append(regi)"
   ]
  },
  {
   "cell_type": "code",
   "execution_count": 10,
   "metadata": {},
   "outputs": [],
   "source": [
    "data['Country3code'] = pd.Series(country_code)\n",
    "data['Country_name'] = pd.Series(country_name)\n",
    "data['Income_level'] = pd.Series(income_level)\n",
    "data['Region'] = pd.Series(region)"
   ]
  },
  {
   "cell_type": "code",
   "execution_count": 25,
   "metadata": {},
   "outputs": [],
   "source": [
    "a = 0\n",
    "for i in data.index:\n",
    "    if data['Country3code'][i] == '':\n",
    "        a = a+1\n",
    "        data.iloc[i,9:13] = None"
   ]
  },
  {
   "cell_type": "code",
   "execution_count": 26,
   "metadata": {},
   "outputs": [
    {
     "data": {
      "text/plain": [
       "358"
      ]
     },
     "execution_count": 26,
     "metadata": {},
     "output_type": "execute_result"
    }
   ],
   "source": [
    "a"
   ]
  },
  {
   "cell_type": "code",
   "execution_count": 28,
   "metadata": {},
   "outputs": [],
   "source": [
    "b=0\n",
    "for i in data.index:\n",
    "    if data['Address'][i] == '':\n",
    "        b = b+1"
   ]
  },
  {
   "cell_type": "code",
   "execution_count": 29,
   "metadata": {},
   "outputs": [
    {
     "data": {
      "text/plain": [
       "91"
      ]
     },
     "execution_count": 29,
     "metadata": {},
     "output_type": "execute_result"
    }
   ],
   "source": [
    "b"
   ]
  },
  {
   "cell_type": "code",
   "execution_count": 31,
   "metadata": {},
   "outputs": [],
   "source": [
    "data.to_pickle('Extracted_Information.dat')"
   ]
  },
  {
   "cell_type": "code",
   "execution_count": null,
   "metadata": {},
   "outputs": [],
   "source": []
  }
 ],
 "metadata": {
  "kernelspec": {
   "display_name": "Python 3",
   "language": "python",
   "name": "python3"
  },
  "language_info": {
   "codemirror_mode": {
    "name": "ipython",
    "version": 3
   },
   "file_extension": ".py",
   "mimetype": "text/x-python",
   "name": "python",
   "nbconvert_exporter": "python",
   "pygments_lexer": "ipython3",
   "version": "3.8.5"
  }
 },
 "nbformat": 4,
 "nbformat_minor": 4
}
