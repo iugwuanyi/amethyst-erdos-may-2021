{
 "cells": [
  {
   "cell_type": "code",
   "execution_count": 1,
   "metadata": {},
   "outputs": [],
   "source": [
    "import pandas as pd\n",
    "import numpy as np\n",
    "import math"
   ]
  },
  {
   "cell_type": "code",
   "execution_count": 2,
   "metadata": {},
   "outputs": [],
   "source": [
    "data = pd.read_pickle('../Extracted_Information.dat')\n",
    "worldmap = pd.read_csv('../world_bank_country_mappings.csv')"
   ]
  },
  {
   "cell_type": "code",
   "execution_count": 3,
   "metadata": {},
   "outputs": [],
   "source": [
    "country_name = []\n",
    "country_code = []\n",
    "income_level = []\n",
    "region = []\n",
    "for i in range(len(data)):\n",
    "    address = data[\"Address\"].iloc[i]\n",
    "    address = address.replace('\\n','')\n",
    "    address = address.replace(' ','')\n",
    "    address = address.replace('  ','')\n",
    "    address = address.replace(\"’\",\"\")\n",
    "    address = address.lower()\n",
    "    \n",
    "    for j in range(len(worldmap['name'])):\n",
    "        \n",
    "        if worldmap['name'][j] == 'Africa':\n",
    "            continue\n",
    "            \n",
    "        if worldmap['name'][j] == 'United States':\n",
    "            continue\n",
    "            \n",
    "        if worldmap['name'][j] == 'World':\n",
    "            continue\n",
    "            \n",
    "        if worldmap['name'][j] == 'Niger' and address.find('nigeria') > -1:\n",
    "            continue\n",
    "        \n",
    "        if worldmap['name'][j] == 'Oman' and address.find('romania') > -1:\n",
    "            continue\n",
    "        \n",
    "        if worldmap ['name'][j] == 'Oman' and address.find('phi') > -1:\n",
    "            continue\n",
    "        \n",
    "        if worldmap['name'][j] == 'Guinea' and address.find('papua') > -1:\n",
    "            countryname = 'Papua New Guinea'\n",
    "            countrycode = 'PNG'\n",
    "            incomelevel = 'Lower middle income'\n",
    "            regi = 'East Asia & Pacific'\n",
    "            break\n",
    "            \n",
    "        if worldmap['name'][j] == 'Spain' and address.find('trinidad')> -1:\n",
    "            countryname = 'Trinidad and Tobago'\n",
    "            countrycode = 'TTO'\n",
    "            incomelevel = 'High income'\n",
    "            regi = 'Latin America & Caribbean '\n",
    "            break\n",
    "            \n",
    "        if worldmap['name'][j] == 'Mali' and address.find('maliye')>-1:\n",
    "            continue\n",
    "            \n",
    "        if worldmap['name'][j] == 'Mexico' and address.find('salvador')>-1:\n",
    "            continue\n",
    "        if worldmap['name'][j] == 'Chile' and address.find('paraguay')>-1:\n",
    "            continue\n",
    "        if worldmap['name'][j] == 'Dominica' and address.find('domingo')>-1:\n",
    "            continue\n",
    "        if worldmap['name'][j] == 'Congo, Dem. Rep.' and address.find('brazzaville')>-1:\n",
    "            continue\n",
    "        \n",
    "        else:    \n",
    "            name = worldmap['name'][j]\n",
    "            name = name.replace(' ','')\n",
    "            name = name.replace(\"'\",\"\")\n",
    "            name = name.replace('  ','')\n",
    "            name = name.lower()\n",
    "            cut = name.find(',')\n",
    "            if cut > 0:\n",
    "                name = name[:cut]\n",
    "            countryname = ''\n",
    "            countrycode = ''\n",
    "            incomelevel = ''\n",
    "            regi = ''\n",
    "        \n",
    "            if address.find(name) > -1:\n",
    "                countryname = worldmap['name'][j]\n",
    "                countrycode = worldmap['id'][j]\n",
    "                incomelevel = worldmap['incomeLevel.value'][j]\n",
    "                regi = worldmap['region.value'][j]\n",
    "                break\n",
    "            \n",
    "            \n",
    "            else:\n",
    "                city = worldmap['capitalCity'][j]\n",
    "                if type(city) == str:\n",
    "                    city = city.replace(' ','')\n",
    "                    city = city.replace(\"'\",\"\")\n",
    "                    city = city.replace('  ','')\n",
    "                    city = city.lower()\n",
    "                    if address.find(city) >-1:\n",
    "                        countryname = worldmap['name'][j]\n",
    "                        countrycode = worldmap['id'][j]\n",
    "                        incomelevel = worldmap['incomeLevel.value'][j]\n",
    "                        regi = worldmap['region.value'][j]\n",
    "                        break\n",
    "                    \n",
    "    if countryname == '':\n",
    "        if address.find('méxico') > -1 or address.find('mexican') > -1:\n",
    "            countryname = 'Mexico'\n",
    "            countrycode = 'MEX'\n",
    "            incomelevel = 'Upper middle income'\n",
    "            regi = 'Latin America & Caribbean '\n",
    "            \n",
    "    if address.find('yugoslavia') > -1:\n",
    "        countryname = 'Yugoslavia'\n",
    "        countrycode = 'YUGOS'\n",
    "        incomelevel = 'Upper middle income'\n",
    "        regi = 'Europe & Central Asia'\n",
    "        \n",
    "            \n",
    "    country_name.append(countryname)\n",
    "    country_code.append(countrycode)\n",
    "    income_level.append(incomelevel)\n",
    "    region.append(regi)"
   ]
  },
  {
   "cell_type": "code",
   "execution_count": 4,
   "metadata": {},
   "outputs": [],
   "source": [
    "data['Country3code'] = pd.Series(country_code)\n",
    "data['Country_name'] = pd.Series(country_name)\n",
    "data['Income_level'] = pd.Series(income_level)\n",
    "data['Region'] = pd.Series(region)"
   ]
  },
  {
   "cell_type": "code",
   "execution_count": 5,
   "metadata": {},
   "outputs": [],
   "source": [
    "data.to_pickle('../Extracted_Information.dat')"
   ]
  },
  {
   "cell_type": "code",
   "execution_count": 6,
   "metadata": {},
   "outputs": [],
   "source": [
    "data.to_csv('aftereditingcountrycode.csv')"
   ]
  },
  {
   "cell_type": "code",
   "execution_count": 7,
   "metadata": {},
   "outputs": [],
   "source": [
    "fran = pd.read_csv('Includes_Country_Name.csv')\n",
    "jim = pd.read_csv('aftereditingcountrycode.csv')\n",
    "fran_code = fran['Country_Code']\n",
    "jim_code = jim['Country3code']"
   ]
  },
  {
   "cell_type": "code",
   "execution_count": 8,
   "metadata": {},
   "outputs": [],
   "source": [
    "same = []\n",
    "fran_nan = []\n",
    "jim_none = []\n",
    "twonon = []\n",
    "twodiff = []\n",
    "\n",
    "\n",
    "for i in range(3205):\n",
    "    if fran_code[i] != jim_code[i] and type(fran_code[i])== float:\n",
    "        if jim_code[i] == None or type(jim_code[i]) == float:\n",
    "            #print(fran_code[i],jim_code[i])\n",
    "            twonon.append(i)\n",
    "        else:\n",
    "            fran_nan.append(i)\n",
    "    elif fran_code[i] != jim_code[i] and type(fran_code[i])== str:\n",
    "        if jim_code[i] == None or type(jim_code[i]) == float:\n",
    "            jim_none.append(i)\n",
    "        else:\n",
    "            twodiff.append(i)\n",
    "    else:\n",
    "        same.append(i)"
   ]
  },
  {
   "cell_type": "code",
   "execution_count": 9,
   "metadata": {},
   "outputs": [],
   "source": [
    "jimbetter = []\n",
    "yugo = []\n",
    "for i in twodiff:\n",
    "    address = jim[\"Address\"][i]\n",
    "    address = address.replace('\\n','')\n",
    "    address = address.replace(' ','')\n",
    "    address = address.replace('  ','')\n",
    "    address = address.replace(\"’\",\"\")\n",
    "    address = address.lower()\n",
    "    \n",
    "    if jim_code[i] == 'BRA' and address.find('brazil')> -1:\n",
    "        jimbetter.append(i)\n",
    "        continue\n",
    "        \n",
    "    if jim_code[i] == 'YUGOS':\n",
    "        yugo.append(i)\n",
    "        \n",
    "    if jim_code[i] != 'YUGOS':\n",
    "    \n",
    "        jim_ind = int(worldmap[worldmap['id'] == jim_code[i]].index.values)\n",
    "        country = worldmap['name'][jim_ind]\n",
    "        country = country.lower()\n",
    "        \n",
    "        if address.find(country) >-1:\n",
    "            jimbetter.append(i)\n",
    "            continue\n",
    "        \n",
    "        \n",
    "        city = worldmap['capitalCity'][jim_ind]\n",
    "    \n",
    "        if type(city) == str:\n",
    "            city = city.replace(' ','')\n",
    "            city = city.replace(\"'\",\"\")\n",
    "            city = city.replace('  ','')\n",
    "            city = city.lower()\n",
    "            if address.find(city) >-1:\n",
    "                jimbetter.append(i)"
   ]
  },
  {
   "cell_type": "code",
   "execution_count": 10,
   "metadata": {
    "scrolled": true
   },
   "outputs": [
    {
     "name": "stdout",
     "output_type": "stream",
     "text": [
      "2485 136 425 94\n"
     ]
    }
   ],
   "source": [
    "print(len(same),len(jim_none),len(fran_nan),len(twodiff))\n",
    "    "
   ]
  },
  {
   "cell_type": "code",
   "execution_count": 11,
   "metadata": {},
   "outputs": [],
   "source": [
    "setminus = list(set(twodiff) - set(yugo) - set(jimbetter))"
   ]
  },
  {
   "cell_type": "code",
   "execution_count": 12,
   "metadata": {},
   "outputs": [
    {
     "name": "stdout",
     "output_type": "stream",
     "text": [
      "48 ECU CIV\n",
      "457 ECU CZE\n",
      "3149 ALB IRN\n",
      "696 THA IRN\n"
     ]
    }
   ],
   "source": [
    "for i in setminus:\n",
    "    print(i,fran_code[i],jim_code[i])"
   ]
  },
  {
   "cell_type": "code",
   "execution_count": 13,
   "metadata": {},
   "outputs": [],
   "source": [
    "country_code[3149] = fran_code[3149]\n",
    "country_code[696] = fran_code[696]"
   ]
  },
  {
   "cell_type": "code",
   "execution_count": null,
   "metadata": {},
   "outputs": [],
   "source": [
    "data['Country3code'] = pd.Series(country_code)"
   ]
  },
  {
   "cell_type": "code",
   "execution_count": 14,
   "metadata": {},
   "outputs": [],
   "source": [
    "a = 0\n",
    "for i in data.index:\n",
    "    if data['Country3code'][i] == None or data['Country3code'][i] == '':\n",
    "        a = a+1\n",
    "        data['Country3code'][i] == None"
   ]
  },
  {
   "cell_type": "code",
   "execution_count": 15,
   "metadata": {},
   "outputs": [
    {
     "data": {
      "text/plain": [
       "201"
      ]
     },
     "execution_count": 15,
     "metadata": {},
     "output_type": "execute_result"
    }
   ],
   "source": [
    "a"
   ]
  },
  {
   "cell_type": "code",
   "execution_count": 16,
   "metadata": {},
   "outputs": [
    {
     "data": {
      "text/plain": [
       "136"
      ]
     },
     "execution_count": 16,
     "metadata": {},
     "output_type": "execute_result"
    }
   ],
   "source": [
    "len(jim_none)\n",
    "    "
   ]
  },
  {
   "cell_type": "code",
   "execution_count": 17,
   "metadata": {},
   "outputs": [],
   "source": [
    "for i in jim_none:\n",
    "    if fran_code[i] == 'VAT':\n",
    "        country_code[i] = None\n",
    "    else:\n",
    "        jim_ind = int(worldmap[worldmap['id'] == fran_code[i]].index.values)\n",
    "        country_code[i] = fran_code[i]\n",
    "        income_level[i] = worldmap['incomeLevel.value'][jim_ind]\n",
    "        region[i] = worldmap['region.value'][jim_ind]"
   ]
  },
  {
   "cell_type": "code",
   "execution_count": 19,
   "metadata": {},
   "outputs": [],
   "source": [
    "data.to_pickle('../Extracted_Information.dat')"
   ]
  },
  {
   "cell_type": "code",
   "execution_count": 20,
   "metadata": {},
   "outputs": [],
   "source": [
    "dictionary = {\"filename\":jim[\"filename\"],\"Country_code_address\":jim[\"Country3code\"],\"Country_code_cover\":fran_code}\n",
    "look = pd.DataFrame(dictionary)"
   ]
  },
  {
   "cell_type": "code",
   "execution_count": 22,
   "metadata": {},
   "outputs": [],
   "source": [
    "look.to_csv('two_countrycodes')"
   ]
  },
  {
   "cell_type": "code",
   "execution_count": 18,
   "metadata": {},
   "outputs": [],
   "source": [
    "data['Country3code'] = pd.Series(country_code)\n",
    "data['Country_name'] = pd.Series(country_name)\n",
    "data['Income_level'] = pd.Series(income_level)\n",
    "data['Region'] = pd.Series(region)"
   ]
  },
  {
   "cell_type": "code",
   "execution_count": null,
   "metadata": {},
   "outputs": [],
   "source": [
    "a = 0\n",
    "for i in data.index:\n",
    "    if data['Country3code'][i] == '':\n",
    "        a = a+1\n",
    "        data.iloc[i,9:13] = None"
   ]
  },
  {
   "cell_type": "code",
   "execution_count": null,
   "metadata": {},
   "outputs": [],
   "source": [
    "a"
   ]
  },
  {
   "cell_type": "code",
   "execution_count": null,
   "metadata": {},
   "outputs": [],
   "source": [
    "b=0\n",
    "for i in data.index:\n",
    "    if data['Address'][i] == '':\n",
    "        b = b+1"
   ]
  },
  {
   "cell_type": "code",
   "execution_count": null,
   "metadata": {
    "scrolled": true
   },
   "outputs": [],
   "source": [
    "b"
   ]
  },
  {
   "cell_type": "code",
   "execution_count": null,
   "metadata": {},
   "outputs": [],
   "source": [
    "data = data.drop(\n",
    "    labels = [\"Country_code\"],\n",
    "    axis = 1)"
   ]
  },
  {
   "cell_type": "code",
   "execution_count": null,
   "metadata": {},
   "outputs": [],
   "source": [
    "data.to_csv('afterfran.csv')"
   ]
  },
  {
   "cell_type": "code",
   "execution_count": null,
   "metadata": {},
   "outputs": [],
   "source": [
    "data[data[\"Country3code\"]==\"OMN\"].where"
   ]
  },
  {
   "cell_type": "code",
   "execution_count": null,
   "metadata": {},
   "outputs": [],
   "source": []
  }
 ],
 "metadata": {
  "kernelspec": {
   "display_name": "Python 3",
   "language": "python",
   "name": "python3"
  },
  "language_info": {
   "codemirror_mode": {
    "name": "ipython",
    "version": 3
   },
   "file_extension": ".py",
   "mimetype": "text/x-python",
   "name": "python",
   "nbconvert_exporter": "python",
   "pygments_lexer": "ipython3",
   "version": "3.8.5"
  }
 },
 "nbformat": 4,
 "nbformat_minor": 4
}
