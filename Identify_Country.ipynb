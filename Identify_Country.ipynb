{
 "cells": [
  {
   "cell_type": "code",
   "execution_count": 41,
   "metadata": {},
   "outputs": [],
   "source": [
    "#!pip install python-Levenshtein\n",
    "import pandas as pd\n",
    "import re\n",
    "import numpy as np\n",
    "from fuzzywuzzy import fuzz, process\n",
    "import numpy as np\n",
    "import pycountry as pyco"
   ]
  },
  {
   "cell_type": "code",
   "execution_count": 42,
   "metadata": {},
   "outputs": [],
   "source": [
    "Attributes_DF=pd.read_csv('Extracted_Attributes.csv')"
   ]
  },
  {
   "cell_type": "code",
   "execution_count": 43,
   "metadata": {},
   "outputs": [
    {
     "data": {
      "text/plain": [
       "['conformed copy',\n",
       " 'republic cote divoire',\n",
       " 'reconstruction',\n",
       " 'republic cote divoire',\n",
       " 'reconstruction',\n",
       " 'sodefor',\n",
       " 'sodefor']"
      ]
     },
     "execution_count": 43,
     "metadata": {},
     "output_type": "execute_result"
    }
   ],
   "source": [
    "Attributes_DF.Possible_country_name[0].split('\\n')"
   ]
  },
  {
   "cell_type": "markdown",
   "metadata": {},
   "source": [
    "# Identifying Country from Cover Page\n",
    "We do a fuzzy match between the Possible_country and the country names gotten from pycountry. "
   ]
  },
  {
   "cell_type": "code",
   "execution_count": 44,
   "metadata": {},
   "outputs": [],
   "source": [
    "def get_short_name(long_name):\n",
    "    name=long_name.split(',')[0].lower()\n",
    "    name=re.sub('peoples*|democr\\w*|repub\\w*','',name)\n",
    "    re_string='[^0-9a-zA-Z\\s.\\(\\)]+'\n",
    "    name=re.sub(re_string, '',name)\n",
    "    return name"
   ]
  },
  {
   "cell_type": "code",
   "execution_count": 45,
   "metadata": {},
   "outputs": [],
   "source": [
    "Countries=pd.DataFrame({'Country_Code':[], 'Country_Name':[],'Official_name':[],'Short_name':[]})\n",
    "for ind,country in enumerate(pyco.countries):\n",
    "    name=country.name\n",
    "    short_name=get_short_name(name)\n",
    "    try: official=country.official_name\n",
    "    except: official=name\n",
    "    cut=name.split(',')[0]\n",
    "    Countries.loc[ind]=[country.alpha_3,name,official,short_name]\n",
    "#Is to easy to confuse mexico, so we add a new row\n",
    "Countries.loc[ind+1]=['MEX','Mexico','United Mexican States','united mexican states']"
   ]
  },
  {
   "cell_type": "code",
   "execution_count": 46,
   "metadata": {},
   "outputs": [
    {
     "name": "stdout",
     "output_type": "stream",
     "text": [
      "0\n",
      "1000\n",
      "2000\n",
      "3000\n"
     ]
    }
   ],
   "source": [
    "Extended_DF=pd.DataFrame({'filename':[],'Possible_country':[]})\n",
    "new_ind=0\n",
    "for ind in Attributes_DF.index:\n",
    "    if (ind%1000)==0:\n",
    "        print(ind)\n",
    "    filename=Attributes_DF.filename[ind]\n",
    "    try:\n",
    "        possible_countries=Attributes_DF.Possible_country_name[ind].split('\\n')\n",
    "        for possible in possible_countries:\n",
    "            Extended_DF.loc[new_ind]=[filename,possible]\n",
    "            new_ind+=1\n",
    "    except:\n",
    "        True"
   ]
  },
  {
   "cell_type": "code",
   "execution_count": 47,
   "metadata": {},
   "outputs": [
    {
     "data": {
      "text/plain": [
       "(16074, 2)"
      ]
     },
     "execution_count": 47,
     "metadata": {},
     "output_type": "execute_result"
    }
   ],
   "source": [
    "Extended_DF.shape"
   ]
  },
  {
   "cell_type": "code",
   "execution_count": 48,
   "metadata": {},
   "outputs": [],
   "source": [
    "#Combine the DataFrames\n",
    "Extended_DF['Key']=1\n",
    "Countries['Key']=1\n",
    "Combined=Extended_DF.merge(Countries,on='Key',how='left')\n",
    "Combined=Combined.drop('Key',axis=1)\n",
    "Combined=Combined.drop('filename',axis=1).drop_duplicates()"
   ]
  },
  {
   "cell_type": "code",
   "execution_count": 49,
   "metadata": {},
   "outputs": [],
   "source": [
    "def partial_match_long(x,y):\n",
    "    return(fuzz.WRatio(x.lower(),y.lower()))\n",
    "partial_match_long_vector = np.vectorize(partial_match_long)\n",
    "\n",
    "def partial_match_short(x,y):\n",
    "    return(fuzz.QRatio(x.lower(),y.lower()))\n",
    "partial_match_short_vector = np.vectorize(partial_match_short)"
   ]
  },
  {
   "cell_type": "code",
   "execution_count": 50,
   "metadata": {},
   "outputs": [],
   "source": [
    "score_treshold1=80\n",
    "score_treshold2=50\n",
    "\n",
    "Combined['Score1']=partial_match_long_vector(Combined['Possible_country'],Combined['Short_name'])\n",
    "Combined['Max_Score1']=Combined.groupby(['Possible_country'])['Score1'].transform(max)\n",
    "Combined=Combined[Combined.Score1>score_treshold1]\n",
    "Combined=Combined[Combined.Score1==Combined.Max_Score1]"
   ]
  },
  {
   "cell_type": "code",
   "execution_count": 51,
   "metadata": {},
   "outputs": [],
   "source": [
    "Combined['Score2']=partial_match_short_vector(Combined['Possible_country'],Combined['Short_name'])\n",
    "Combined['Max_Score2']=Combined.groupby(['Possible_country'])['Score2'].transform(max)\n",
    "Combined=Combined[Combined.Score2==Combined.Max_Score2]"
   ]
  },
  {
   "cell_type": "code",
   "execution_count": 52,
   "metadata": {},
   "outputs": [],
   "source": [
    "Combined['Score3']=partial_match_short_vector(Combined['Possible_country'],Combined['Official_name'])\n",
    "Combined['Max_Score3']=Combined.groupby(['Possible_country'])['Score3'].transform(max)\n",
    "Combined=Combined[Combined.Score3==Combined.Max_Score3]"
   ]
  },
  {
   "cell_type": "code",
   "execution_count": 53,
   "metadata": {},
   "outputs": [],
   "source": [
    "Combined['Score1'][Combined.Score1==0]=None\n",
    "Combined['Score2'][Combined.Score2==0]=None\n",
    "Combined['Score3'][Combined.Score3==0]=None\n",
    "Combined['Score_final']=np.nanmean(Combined[['Score1','Score2','Score3']],axis=1)\n",
    "Combined=Combined[Combined.Score_final>=score_treshold2]"
   ]
  },
  {
   "cell_type": "code",
   "execution_count": 54,
   "metadata": {},
   "outputs": [],
   "source": [
    "#Recombine with the filenames\n",
    "Combined=Combined[['Possible_country','Country_Code','Country_Name','Score_final','Score1']]"
   ]
  },
  {
   "cell_type": "code",
   "execution_count": 55,
   "metadata": {},
   "outputs": [],
   "source": [
    "Identified_Countries=Extended_DF.merge(Combined,on='Possible_country').drop(['Key'],axis=1).drop_duplicates()"
   ]
  },
  {
   "cell_type": "code",
   "execution_count": 56,
   "metadata": {},
   "outputs": [
    {
     "data": {
      "text/plain": [
       "(2936, 6)"
      ]
     },
     "execution_count": 56,
     "metadata": {},
     "output_type": "execute_result"
    }
   ],
   "source": [
    "Identified_Countries.shape"
   ]
  },
  {
   "cell_type": "code",
   "execution_count": 57,
   "metadata": {},
   "outputs": [],
   "source": [
    "Identified_Countries=Identified_Countries.sort_values('Score1',ascending=False).groupby('filename').first().reset_index()"
   ]
  },
  {
   "cell_type": "code",
   "execution_count": 58,
   "metadata": {},
   "outputs": [],
   "source": [
    "Attributes_DF=Attributes_DF.merge(Identified_Countries,how='outer',on='filename')"
   ]
  },
  {
   "cell_type": "code",
   "execution_count": 59,
   "metadata": {},
   "outputs": [
    {
     "data": {
      "text/plain": [
       "604"
      ]
     },
     "execution_count": 59,
     "metadata": {},
     "output_type": "execute_result"
    }
   ],
   "source": [
    "Attributes_DF.Country_Code.isnull().sum()"
   ]
  },
  {
   "cell_type": "code",
   "execution_count": 86,
   "metadata": {},
   "outputs": [],
   "source": [
    "Attributes_DF.rename({'Country_Code':'Country_Code_Cover'},axis=1,inplace=True)"
   ]
  },
  {
   "cell_type": "markdown",
   "metadata": {},
   "source": [
    "# Extract Country from Address\n",
    "We extract the country from address by finding which country or capital city from the world_bank_country_mappings data is in the address. We manually fix many common mistakes, like identifying \"Niger\" when the country is actually \"Nigeria\""
   ]
  },
  {
   "cell_type": "code",
   "execution_count": 60,
   "metadata": {},
   "outputs": [],
   "source": [
    "worldmap = pd.read_csv('world_bank_country_mappings.csv')"
   ]
  },
  {
   "cell_type": "code",
   "execution_count": 95,
   "metadata": {},
   "outputs": [],
   "source": [
    "country_name = []\n",
    "country_code = []\n",
    "income_level = []\n",
    "region = []\n",
    "for i in Attributes_DF.index:\n",
    "    address = Attributes_DF.Address[i]\n",
    "    if type(address)==str:\n",
    "        address = address.replace('\\n','')\n",
    "        address = address.replace(' ','')\n",
    "        address = address.replace('  ','')\n",
    "        address = address.replace(\"’\",\"\")\n",
    "        address = address.lower()\n",
    "        for j in range(len(worldmap['name'])):\n",
    "\n",
    "            if worldmap['name'][j] == 'Africa':\n",
    "                continue\n",
    "\n",
    "            if worldmap['name'][j] == 'United States':\n",
    "                continue\n",
    "\n",
    "            if worldmap['name'][j] == 'World':\n",
    "                continue\n",
    "\n",
    "            if worldmap['name'][j] == 'Niger' and address.find('nigeria') > -1:\n",
    "                continue\n",
    "\n",
    "            if worldmap['name'][j] == 'Oman' and address.find('romania') > -1:\n",
    "                continue\n",
    "\n",
    "            if worldmap ['name'][j] == 'Oman' and address.find('phi') > -1:\n",
    "                continue\n",
    "\n",
    "            if worldmap ['name'][j] == 'Mali' and address.find('turkey') > -1:\n",
    "                continue\n",
    "\n",
    "            if worldmap['name'][j] == 'Guinea' and address.find('papua') > -1:\n",
    "                countryname = 'Papua New Guinea'\n",
    "                countrycode = 'PNG'\n",
    "                incomelevel = 'Lower middle income'\n",
    "                regi = 'East Asia & Pacific'\n",
    "                break\n",
    "\n",
    "            if worldmap['name'][j] == 'Spain' and address.find('trinidad')> -1:\n",
    "                countryname = 'Trinidad and Tobago'\n",
    "                countrycode = 'TTO'\n",
    "                incomelevel = 'High income'\n",
    "                regi = 'Latin America & Caribbean '\n",
    "                break\n",
    "\n",
    "            if worldmap['name'][j] == 'Chile' and address.find('paraguay')> -1:\n",
    "                countryname = 'Paraguay'\n",
    "                countrycode = 'PRY'\n",
    "                incomelevel = 'Upper middle income'\n",
    "                regi = 'Latin America & Caribbean '\n",
    "                break\n",
    "\n",
    "            else:    \n",
    "                name = worldmap['name'][j]\n",
    "                name = name.replace(' ','')\n",
    "                name = name.replace(\"'\",\"\")\n",
    "                name = name.replace('  ','')\n",
    "                name = name.lower()\n",
    "                cut = name.find(',')\n",
    "                if cut > 0:\n",
    "                    name = name[:cut]\n",
    "                countryname = ''\n",
    "                countrycode = ''\n",
    "                incomelevel = ''\n",
    "                regi = ''\n",
    "\n",
    "\n",
    "\n",
    "                if address.find(name) > -1:\n",
    "                    if name == 'congo' and address.find('brazzaville')>-1:\n",
    "                        countryname = 'Congo,Rep.'\n",
    "                        countrycode = 'COG'\n",
    "                        incomelevel = 'Lower middle income'\n",
    "                        regi = 'Sub-Saharan Africa'\n",
    "                        break\n",
    "\n",
    "                    else:  \n",
    "                        countryname = worldmap['name'][j]\n",
    "                        countrycode = worldmap['id'][j]\n",
    "                        incomelevel = worldmap['incomeLevel.value'][j]\n",
    "                        regi = worldmap['region.value'][j]\n",
    "                        break            \n",
    "\n",
    "\n",
    "                city = worldmap['capitalCity'][j]\n",
    "                if type(city) == str:\n",
    "                    city = city.replace(' ','')\n",
    "                    city = city.replace(\"'\",\"\")\n",
    "                    city = city.replace('  ','')\n",
    "                    city = city.lower()\n",
    "                    if address.find(name) == -1 and address.find(city) >-1:\n",
    "                        countryname = worldmap['name'][j]\n",
    "                        countrycode = worldmap['id'][j]\n",
    "                        incomelevel = worldmap['incomeLevel.value'][j]\n",
    "                        regi = worldmap['region.value'][j]\n",
    "                        break                       \n",
    "\n",
    "\n",
    "        if countryname == '':\n",
    "            if address.find('méxico') > -1 or address.find('mexican') > -1:\n",
    "                countryname = 'Mexico'\n",
    "                countrycode = 'MEX'\n",
    "                incomelevel = 'Upper middle income'\n",
    "                regi = 'Latin America & Caribbean '\n",
    "\n",
    "        if address.find('yugoslavia') > -1:\n",
    "                countryname = 'Yugoslavia'\n",
    "                countrycode = 'YUGOS'\n",
    "                incomelevel = 'Upper middle income'\n",
    "                regi = 'Europe & Central Asia'\n",
    "\n",
    "        if countryname == '':\n",
    "            countryname = None\n",
    "            countrycode = None\n",
    "            incomelevel = None\n",
    "            regi = None\n",
    "    else:\n",
    "        countryname=countrycode=incomelevel=regi=None\n",
    "\n",
    "    country_name.append(countryname)\n",
    "    country_code.append(countrycode)\n",
    "    income_level.append(incomelevel)\n",
    "    region.append(regi)"
   ]
  },
  {
   "cell_type": "code",
   "execution_count": 96,
   "metadata": {},
   "outputs": [],
   "source": [
    "Attributes_DF['Country_Code_Address'] = pd.Series(country_code)"
   ]
  },
  {
   "cell_type": "markdown",
   "metadata": {},
   "source": [
    "# Compare Both Country Codes"
   ]
  },
  {
   "cell_type": "code",
   "execution_count": 98,
   "metadata": {},
   "outputs": [],
   "source": [
    "cover_code = Attributes_DF['Country_Code_Cover']\n",
    "address_code = Attributes_DF['Country_Code_Address']"
   ]
  },
  {
   "cell_type": "code",
   "execution_count": 99,
   "metadata": {},
   "outputs": [],
   "source": [
    "same = []\n",
    "nan = []\n",
    "none = []\n",
    "twonulls = []\n",
    "twodiff = []\n",
    "\n",
    "\n",
    "for i in range(3205):\n",
    "    if cover_code[i] != address_code[i] and type(cover_code[i])== float:\n",
    "        if address_code[i] == None:\n",
    "            twonulls.append(i)\n",
    "        else:\n",
    "            nan.append(i)\n",
    "    elif cover_code[i] != address_code[i] and type(cover_code[i])== str:\n",
    "        if address_code[i] == None:\n",
    "            none.append(i)\n",
    "        else:\n",
    "            twodiff.append(i)\n",
    "    else:\n",
    "        same.append(i)"
   ]
  },
  {
   "cell_type": "code",
   "execution_count": 100,
   "metadata": {},
   "outputs": [
    {
     "name": "stdout",
     "output_type": "stream",
     "text": [
      "2075 421 455 183 71\n"
     ]
    }
   ],
   "source": [
    "print(len(same),len(nan),len(none),len(twonulls),len(twodiff))"
   ]
  },
  {
   "cell_type": "code",
   "execution_count": 103,
   "metadata": {},
   "outputs": [],
   "source": [
    "bettercode = []\n",
    "for i in twodiff:\n",
    "    address = Attributes_DF[\"Address\"][i]\n",
    "    address = address.replace('\\n','')\n",
    "    address = address.replace(' ','')\n",
    "    address = address.replace('  ','')\n",
    "    address = address.replace(\"’\",\"\")\n",
    "    address = address.lower()\n",
    "    \n",
    "    if address_code[i] == 'BRA' and address.find('brazil')> -1:\n",
    "        bettercode.append(i)\n",
    "        continue\n",
    "        \n",
    "    if address_code[i] != 'YUGOS':\n",
    "    \n",
    "        ind = int(worldmap[worldmap['id'] == address_code[i]].index.values)\n",
    "    \n",
    "        country = worldmap['name'][ind]\n",
    "        country = country.lower()\n",
    "        \n",
    "        if address.find(country) >-1:\n",
    "            bettercode.append(i)\n",
    "            continue\n",
    "                \n",
    "        city = worldmap['capitalCity'][ind]\n",
    "    \n",
    "        if type(city) == str:\n",
    "            city = city.replace(' ','')\n",
    "            city = city.replace(\"'\",\"\")\n",
    "            city = city.replace('  ','')\n",
    "            city = city.lower()\n",
    "            if address.find(city) >-1:\n",
    "                bettercode.append(i)"
   ]
  },
  {
   "cell_type": "code",
   "execution_count": 105,
   "metadata": {},
   "outputs": [],
   "source": [
    "rest_twodiff = list(set(twodiff) - set(bettercode))"
   ]
  },
  {
   "cell_type": "code",
   "execution_count": 106,
   "metadata": {},
   "outputs": [
    {
     "name": "stderr",
     "output_type": "stream",
     "text": [
      "<ipython-input-106-c3713abad795>:5: SettingWithCopyWarning: \n",
      "A value is trying to be set on a copy of a slice from a DataFrame\n",
      "\n",
      "See the caveats in the documentation: https://pandas.pydata.org/pandas-docs/stable/user_guide/indexing.html#returning-a-view-versus-a-copy\n",
      "  address_code[i] = cover_code[i]\n"
     ]
    }
   ],
   "source": [
    "for i in rest_twodiff:\n",
    "    if address_code[i] == 'Yugoslavia':\n",
    "        continue\n",
    "    if cover_code[i] == 'THA' or cover_code[i] == 'ALB':\n",
    "        address_code[i] = cover_code[i]       "
   ]
  },
  {
   "cell_type": "code",
   "execution_count": 107,
   "metadata": {},
   "outputs": [
    {
     "name": "stderr",
     "output_type": "stream",
     "text": [
      "<ipython-input-107-1f3121cab068>:2: SettingWithCopyWarning: \n",
      "A value is trying to be set on a copy of a slice from a DataFrame\n",
      "\n",
      "See the caveats in the documentation: https://pandas.pydata.org/pandas-docs/stable/user_guide/indexing.html#returning-a-view-versus-a-copy\n",
      "  address_code[i] = cover_code[i]\n"
     ]
    }
   ],
   "source": [
    "for i in none:\n",
    "    address_code[i] = cover_code[i]"
   ]
  },
  {
   "cell_type": "code",
   "execution_count": null,
   "metadata": {},
   "outputs": [],
   "source": []
  },
  {
   "cell_type": "code",
   "execution_count": null,
   "metadata": {},
   "outputs": [],
   "source": []
  }
 ],
 "metadata": {
  "kernelspec": {
   "display_name": "Python 3",
   "language": "python",
   "name": "python3"
  },
  "language_info": {
   "codemirror_mode": {
    "name": "ipython",
    "version": 3
   },
   "file_extension": ".py",
   "mimetype": "text/x-python",
   "name": "python",
   "nbconvert_exporter": "python",
   "pygments_lexer": "ipython3",
   "version": "3.8.5"
  }
 },
 "nbformat": 4,
 "nbformat_minor": 5
}
