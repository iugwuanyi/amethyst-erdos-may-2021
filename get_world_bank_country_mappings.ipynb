{
 "cells": [
  {
   "cell_type": "code",
   "execution_count": 9,
   "id": "94fd9816",
   "metadata": {},
   "outputs": [],
   "source": [
    "import pandas as pd\n",
    "import requests"
   ]
  },
  {
   "cell_type": "code",
   "execution_count": 11,
   "id": "b9c35320",
   "metadata": {},
   "outputs": [],
   "source": [
    "country_resp = requests.get('https://api.worldbank.org/v2/country/',\n",
    "                            params={\n",
    "                                'format':'json',\n",
    "                                'per_page':'8001'\n",
    "                                }\n",
    "                           )"
   ]
  },
  {
   "cell_type": "code",
   "execution_count": 19,
   "id": "485a4fd3",
   "metadata": {},
   "outputs": [],
   "source": [
    "countries = pd.json_normalize(country_resp.json()[1])"
   ]
  },
  {
   "cell_type": "code",
   "execution_count": 22,
   "id": "369289d8",
   "metadata": {},
   "outputs": [],
   "source": [
    "countries.to_csv('world_bank_country_mappings.csv')"
   ]
  }
 ],
 "metadata": {
  "kernelspec": {
   "display_name": "Python 3",
   "language": "python",
   "name": "python3"
  },
  "language_info": {
   "codemirror_mode": {
    "name": "ipython",
    "version": 3
   },
   "file_extension": ".py",
   "mimetype": "text/x-python",
   "name": "python",
   "nbconvert_exporter": "python",
   "pygments_lexer": "ipython3",
   "version": "3.9.4"
  }
 },
 "nbformat": 4,
 "nbformat_minor": 5
}
