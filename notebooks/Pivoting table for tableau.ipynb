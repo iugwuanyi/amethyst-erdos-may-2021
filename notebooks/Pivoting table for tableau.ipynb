{
 "cells": [
  {
   "cell_type": "code",
   "execution_count": null,
   "metadata": {},
   "outputs": [],
   "source": [
    "#Importing \n",
    "loan <- read.csv(\"All_Extracted_Data_From_PDFs.csv\")"
   ]
  },
  {
   "cell_type": "code",
   "execution_count": null,
   "metadata": {},
   "outputs": [],
   "source": [
    "## pivoting table\n",
    "loan_by_topic <- loan %>% select(\"Country\", \"Topic\", \"Year\", \"Region\", \"Amount_in_usd\") %>% group_by(Year) %>% mutate(year_sum = sum(Amount_in_usd))%>% ungroup() %>%\n",
    "  group_by(Year, Country, Topic) %>% summarize(sum_per_topic = sum(Amount_in_usd), Loan_prop = sum_per_topic/year_sum) %>% distinct()\n",
    "write.csv(loan_by_topic, \"C:/Users/roseb/Erdos Bootcamp/Project May 2021/Project/amethyst-erdos-may-2021/Ifeoma/loan_by_topic.csv\")"
   ]
  }
 ],
 "metadata": {
  "kernelspec": {
   "display_name": "R",
   "language": "R",
   "name": "ir"
  },
  "language_info": {
   "codemirror_mode": "r",
   "file_extension": ".r",
   "mimetype": "text/x-r-source",
   "name": "R",
   "pygments_lexer": "r",
   "version": "3.6.1"
  }
 },
 "nbformat": 4,
 "nbformat_minor": 4
}
