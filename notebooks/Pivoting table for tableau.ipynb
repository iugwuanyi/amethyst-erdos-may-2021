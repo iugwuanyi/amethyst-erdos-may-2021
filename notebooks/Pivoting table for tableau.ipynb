{
 "cells": [
  {
   "cell_type": "markdown",
   "metadata": {},
   "source": [
    "Running this notebook requires the R programming language and its library dplyr.\n",
    "\n",
    "To natively run R code in Jupyter, either use Anaconda's Jupyter environment or install [IRKernel](https://github.com/IRkernel/IRkernel)."
   ]
  },
  {
   "cell_type": "code",
   "execution_count": null,
   "metadata": {},
   "outputs": [],
   "source": [
    "#loading packages\n",
    "library(dplyr)"
   ]
  },
  {
   "cell_type": "code",
   "execution_count": null,
   "metadata": {},
   "outputs": [],
   "source": [
    "#Importing \n",
    "DATA_DIR <- file.path(\"..\",\"data\")\n",
    "loan <- read.csv(file.path(DATA_DIR,\"All_Extracted_Data_From_PDFs.csv\"))"
   ]
  },
  {
   "cell_type": "code",
   "execution_count": null,
   "metadata": {},
   "outputs": [],
   "source": [
    "## pivoting table\n",
    "loan_by_topic <- loan %>% select(\"Country\", \"Topic\", \"Year\", \"Region\", \"Amount_in_usd\") %>% group_by(Year) %>% mutate(year_sum = sum(Amount_in_usd))%>% ungroup() %>%\n",
    "  group_by(Year, Country, Topic) %>% summarize(sum_per_topic = sum(Amount_in_usd), Loan_prop = sum_per_topic/year_sum) %>% distinct()\n",
    "write.csv(loan_by_topic, file.path(DATA_DIR,\"loan_by_topic.csv\"))"
   ]
  }
 ],
 "metadata": {
  "kernelspec": {
   "display_name": "R",
   "language": "R",
   "name": "ir"
  },
  "language_info": {
   "codemirror_mode": "r",
   "file_extension": ".r",
   "mimetype": "text/x-r-source",
   "name": "R",
   "pygments_lexer": "r",
   "version": "3.6.1"
  }
 },
 "nbformat": 4,
 "nbformat_minor": 4
}
