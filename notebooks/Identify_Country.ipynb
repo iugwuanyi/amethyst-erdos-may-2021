{
 "cells": [
  {
   "cell_type": "markdown",
   "id": "71907f00",
   "metadata": {},
   "source": [
    "# Identifying the Country\n",
    "We use the file Extracted_Attributes_LoanUSD.csv, that includes the extracted attributes from the PDF texts and the loan amount in US dollars. \n",
    "\n",
    "We use a fuzzy match between strings (from the fuzzywuzzy package) to compare the possible country names from each document to a list of country names from the package pycountry. We use short names of the countries and also their official names. We use the best match as the Country_Code_Cover. \n",
    "\n",
    "We also use the address from the PDFs to try to find the name of a country. If the name of a country or its capital city appears in the address, we call that Country_Code_Address. \n",
    "\n",
    "Finally, for the few cases where these are different, we manually decide the country. "
   ]
  },
  {
   "cell_type": "code",
   "execution_count": 1,
   "id": "31ddd171",
   "metadata": {},
   "outputs": [],
   "source": [
    "#!pip install python-Levenshtein\n",
    "import pandas as pd\n",
    "import re\n",
    "import numpy as np\n",
    "from fuzzywuzzy import fuzz, process\n",
    "import numpy as np\n",
    "import pycountry as pyco"
   ]
  },
  {
   "cell_type": "code",
   "execution_count": 2,
   "id": "590749f9",
   "metadata": {},
   "outputs": [],
   "source": [
    "Attributes_DF=pd.read_csv('../data/Extracted_Attributes_LoanUSD.csv')"
   ]
  },
  {
   "cell_type": "markdown",
   "id": "162f4cab",
   "metadata": {},
   "source": [
    "# Identifying Country from Cover Page\n",
    "We do a fuzzy match between the Possible_country and the country names gotten from pycountry. "
   ]
  },
  {
   "cell_type": "code",
   "execution_count": 3,
   "id": "92f7b55a",
   "metadata": {},
   "outputs": [],
   "source": [
    "def get_short_name(long_name):\n",
    "    name=long_name.split(',')[0].lower()\n",
    "    name=re.sub('peoples*|democr\\w*|repub\\w*','',name)\n",
    "    re_string='[^0-9a-zA-Z\\s.\\(\\)]+'\n",
    "    name=re.sub(re_string, '',name)\n",
    "    return name"
   ]
  },
  {
   "cell_type": "code",
   "execution_count": 4,
   "id": "9ee5777e",
   "metadata": {},
   "outputs": [],
   "source": [
    "#Create a database with the names of the countries\n",
    "Countries=pd.DataFrame({'Country_Code':[], 'Country_Name':[],'Official_name':[],'Short_name':[]})\n",
    "for ind,country in enumerate(pyco.countries):\n",
    "    name=country.name\n",
    "    short_name=get_short_name(name)\n",
    "    try: official=country.official_name\n",
    "    except: official=name\n",
    "    cut=name.split(',')[0]\n",
    "    Countries.loc[ind]=[country.alpha_3,name,official,short_name]\n",
    "#Is to easy to confuse mexico, so we add a new row\n",
    "Countries.loc[ind+1]=['MEX','Mexico','United Mexican States','united mexican states']"
   ]
  },
  {
   "cell_type": "code",
   "execution_count": 5,
   "id": "6107adc7",
   "metadata": {},
   "outputs": [],
   "source": [
    "#To be able to do a fuzzy match between all possible country names, we create an expanded dataframe\n",
    "#that has one row per possible country name\n",
    "Extended_DF=pd.DataFrame({'filename':[],'Possible_country':[]})\n",
    "new_ind=0\n",
    "for ind in Attributes_DF.index:\n",
    "    filename=Attributes_DF.filename[ind]\n",
    "    try:\n",
    "        possible_countries=Attributes_DF.Possible_country_name[ind].split('\\n')\n",
    "        for possible in possible_countries:\n",
    "            Extended_DF.loc[new_ind]=[filename,possible]\n",
    "            new_ind+=1\n",
    "    except:\n",
    "        True"
   ]
  },
  {
   "cell_type": "code",
   "execution_count": 6,
   "id": "68ad2dc5",
   "metadata": {},
   "outputs": [
    {
     "data": {
      "text/plain": [
       "(16074, 2)"
      ]
     },
     "execution_count": 6,
     "metadata": {},
     "output_type": "execute_result"
    }
   ],
   "source": [
    "Extended_DF.shape"
   ]
  },
  {
   "cell_type": "code",
   "execution_count": 7,
   "id": "504761eb",
   "metadata": {},
   "outputs": [],
   "source": [
    "#Combine the DataFrames\n",
    "Extended_DF['Key']=1\n",
    "Countries['Key']=1\n",
    "Combined=Extended_DF.merge(Countries,on='Key',how='left')\n",
    "Combined=Combined.drop('Key',axis=1)\n",
    "Combined=Combined.drop('filename',axis=1).drop_duplicates()"
   ]
  },
  {
   "cell_type": "code",
   "execution_count": 8,
   "id": "21bdac1b",
   "metadata": {},
   "outputs": [],
   "source": [
    "#We use these two fuzzy matchings from fuzzywuzzy, and vectorize them for a faster computation.\n",
    "def partial_match_long(x,y):\n",
    "    return(fuzz.WRatio(x.lower(),y.lower()))\n",
    "partial_match_long_vector = np.vectorize(partial_match_long)\n",
    "\n",
    "def partial_match_short(x,y):\n",
    "    return(fuzz.QRatio(x.lower(),y.lower()))\n",
    "partial_match_short_vector = np.vectorize(partial_match_short)"
   ]
  },
  {
   "cell_type": "code",
   "execution_count": 9,
   "id": "318135fd",
   "metadata": {},
   "outputs": [],
   "source": [
    "#Decide on the tresholds\n",
    "score_treshold1=80\n",
    "score_treshold2=50\n",
    "\n",
    "#Find the match score with the Short Name, and just keep the best matching per possible_country\n",
    "Combined['Score1']=partial_match_long_vector(Combined['Possible_country'],Combined['Short_name'])\n",
    "Combined['Max_Score1']=Combined.groupby(['Possible_country'])['Score1'].transform(max)\n",
    "Combined=Combined[Combined.Score1>score_treshold1]\n",
    "Combined=Combined[Combined.Score1==Combined.Max_Score1]"
   ]
  },
  {
   "cell_type": "code",
   "execution_count": 10,
   "id": "d0ef5db2",
   "metadata": {},
   "outputs": [],
   "source": [
    "#Find the match score with the Short Name using the second metric, and just keep the best matching per possible_country\n",
    "Combined['Score2']=partial_match_short_vector(Combined['Possible_country'],Combined['Short_name'])\n",
    "Combined['Max_Score2']=Combined.groupby(['Possible_country'])['Score2'].transform(max)\n",
    "Combined=Combined[Combined.Score2==Combined.Max_Score2]"
   ]
  },
  {
   "cell_type": "code",
   "execution_count": 11,
   "id": "b50233eb",
   "metadata": {},
   "outputs": [],
   "source": [
    "#Find the match score with the Official Name, and just keep the best matching per possible_country\n",
    "Combined['Score3']=partial_match_short_vector(Combined['Possible_country'],Combined['Official_name'])\n",
    "Combined['Max_Score3']=Combined.groupby(['Possible_country'])['Score3'].transform(max)\n",
    "Combined=Combined[Combined.Score3==Combined.Max_Score3]"
   ]
  },
  {
   "cell_type": "code",
   "execution_count": 12,
   "id": "deb217a7",
   "metadata": {},
   "outputs": [],
   "source": [
    "#We combine all nonzero scores and use the second treshold\n",
    "Combined['Score1'][Combined.Score1==0]=None\n",
    "Combined['Score2'][Combined.Score2==0]=None\n",
    "Combined['Score3'][Combined.Score3==0]=None\n",
    "Combined['Score_final']=np.nanmean(Combined[['Score1','Score2','Score3']],axis=1)\n",
    "Combined=Combined[Combined.Score_final>=score_treshold2]"
   ]
  },
  {
   "cell_type": "code",
   "execution_count": 13,
   "id": "68b6716d",
   "metadata": {},
   "outputs": [],
   "source": [
    "#Recombine with the filenames\n",
    "Combined=Combined[['Possible_country','Country_Code','Country_Name','Score_final','Score1']]"
   ]
  },
  {
   "cell_type": "code",
   "execution_count": 14,
   "id": "f9daccb1",
   "metadata": {},
   "outputs": [],
   "source": [
    "Identified_Countries=Extended_DF.merge(Combined,on='Possible_country').drop(['Key'],axis=1).drop_duplicates()"
   ]
  },
  {
   "cell_type": "code",
   "execution_count": 15,
   "id": "1ac09849",
   "metadata": {},
   "outputs": [
    {
     "data": {
      "text/plain": [
       "(2936, 6)"
      ]
     },
     "execution_count": 15,
     "metadata": {},
     "output_type": "execute_result"
    }
   ],
   "source": [
    "Identified_Countries.shape"
   ]
  },
  {
   "cell_type": "code",
   "execution_count": 16,
   "id": "39ca2edd",
   "metadata": {},
   "outputs": [],
   "source": [
    "Identified_Countries=Identified_Countries.sort_values('Score1',ascending=False).groupby('filename').first().reset_index()"
   ]
  },
  {
   "cell_type": "code",
   "execution_count": 17,
   "id": "90df9283",
   "metadata": {},
   "outputs": [],
   "source": [
    "Attributes_DF=Attributes_DF.merge(Identified_Countries,how='outer',on='filename')"
   ]
  },
  {
   "cell_type": "code",
   "execution_count": 18,
   "id": "87282611",
   "metadata": {},
   "outputs": [
    {
     "data": {
      "text/plain": [
       "604"
      ]
     },
     "execution_count": 18,
     "metadata": {},
     "output_type": "execute_result"
    }
   ],
   "source": [
    "#How many countries did we miss\n",
    "Attributes_DF.Country_Code.isnull().sum()"
   ]
  },
  {
   "cell_type": "code",
   "execution_count": 19,
   "id": "98fea123",
   "metadata": {},
   "outputs": [],
   "source": [
    "#Rename the Country Code\n",
    "Attributes_DF.rename({'Country_Code':'Country_Code_Cover'},axis=1,inplace=True)"
   ]
  },
  {
   "cell_type": "markdown",
   "id": "9e417411",
   "metadata": {},
   "source": [
    "# Extract Country from Address\n",
    "We extract the country from address by finding which country or capital city from the world_bank_country_mappings data is in the address. We manually fix many common mistakes, like identifying \"Niger\" when the country is actually \"Nigeria\"."
   ]
  },
  {
   "cell_type": "code",
   "execution_count": 20,
   "id": "f5e9dabc",
   "metadata": {},
   "outputs": [],
   "source": [
    "worldmap = pd.read_csv('../data/world_bank_country_mappings.csv')"
   ]
  },
  {
   "cell_type": "code",
   "execution_count": 21,
   "id": "69561060",
   "metadata": {},
   "outputs": [],
   "source": [
    "country_name = []\n",
    "country_code = []\n",
    "income_level = []\n",
    "region = []\n",
    "for i in Attributes_DF.index:\n",
    "    address = Attributes_DF.Address[i]\n",
    "    if type(address)==str:\n",
    "        address = address.replace('\\n','')\n",
    "        address = address.replace(' ','')\n",
    "        address = address.replace('  ','')\n",
    "        address = address.replace(\"’\",\"\")\n",
    "        address = address.lower()\n",
    "        for j in range(len(worldmap['name'])):\n",
    "\n",
    "            if worldmap['name'][j] == 'Africa':\n",
    "                continue\n",
    "\n",
    "            if worldmap['name'][j] == 'United States':\n",
    "                continue\n",
    "\n",
    "            if worldmap['name'][j] == 'World':\n",
    "                continue\n",
    "\n",
    "            if worldmap['name'][j] == 'Niger' and address.find('nigeria') > -1:\n",
    "                continue\n",
    "\n",
    "            if worldmap['name'][j] == 'Oman' and address.find('romania') > -1:\n",
    "                continue\n",
    "\n",
    "            if worldmap ['name'][j] == 'Oman' and address.find('phi') > -1:\n",
    "                continue\n",
    "\n",
    "            if worldmap ['name'][j] == 'Mali' and address.find('turkey') > -1:\n",
    "                continue\n",
    "\n",
    "            if worldmap['name'][j] == 'Guinea' and address.find('papua') > -1:\n",
    "                countryname = 'Papua New Guinea'\n",
    "                countrycode = 'PNG'\n",
    "                incomelevel = 'Lower middle income'\n",
    "                regi = 'East Asia & Pacific'\n",
    "                break\n",
    "\n",
    "            if worldmap['name'][j] == 'Spain' and address.find('trinidad')> -1:\n",
    "                countryname = 'Trinidad and Tobago'\n",
    "                countrycode = 'TTO'\n",
    "                incomelevel = 'High income'\n",
    "                regi = 'Latin America & Caribbean '\n",
    "                break\n",
    "\n",
    "            if worldmap['name'][j] == 'Chile' and address.find('paraguay')> -1:\n",
    "                countryname = 'Paraguay'\n",
    "                countrycode = 'PRY'\n",
    "                incomelevel = 'Upper middle income'\n",
    "                regi = 'Latin America & Caribbean '\n",
    "                break\n",
    "\n",
    "            else:    \n",
    "                name = worldmap['name'][j]\n",
    "                name = name.replace(' ','')\n",
    "                name = name.replace(\"'\",\"\")\n",
    "                name = name.replace('  ','')\n",
    "                name = name.lower()\n",
    "                cut = name.find(',')\n",
    "                if cut > 0:\n",
    "                    name = name[:cut]\n",
    "                countryname = ''\n",
    "                countrycode = ''\n",
    "                incomelevel = ''\n",
    "                regi = ''\n",
    "\n",
    "\n",
    "\n",
    "                if address.find(name) > -1:\n",
    "                    if name == 'congo' and address.find('brazzaville')>-1:\n",
    "                        countryname = 'Congo,Rep.'\n",
    "                        countrycode = 'COG'\n",
    "                        incomelevel = 'Lower middle income'\n",
    "                        regi = 'Sub-Saharan Africa'\n",
    "                        break\n",
    "\n",
    "                    else:  \n",
    "                        countryname = worldmap['name'][j]\n",
    "                        countrycode = worldmap['id'][j]\n",
    "                        incomelevel = worldmap['incomeLevel.value'][j]\n",
    "                        regi = worldmap['region.value'][j]\n",
    "                        break            \n",
    "\n",
    "\n",
    "                city = worldmap['capitalCity'][j]\n",
    "                if type(city) == str:\n",
    "                    city = city.replace(' ','')\n",
    "                    city = city.replace(\"'\",\"\")\n",
    "                    city = city.replace('  ','')\n",
    "                    city = city.lower()\n",
    "                    if address.find(name) == -1 and address.find(city) >-1:\n",
    "                        countryname = worldmap['name'][j]\n",
    "                        countrycode = worldmap['id'][j]\n",
    "                        incomelevel = worldmap['incomeLevel.value'][j]\n",
    "                        regi = worldmap['region.value'][j]\n",
    "                        break                       \n",
    "\n",
    "\n",
    "        if countryname == '':\n",
    "            if address.find('méxico') > -1 or address.find('mexican') > -1:\n",
    "                countryname = 'Mexico'\n",
    "                countrycode = 'MEX'\n",
    "                incomelevel = 'Upper middle income'\n",
    "                regi = 'Latin America & Caribbean '\n",
    "\n",
    "        if address.find('yugoslavia') > -1:\n",
    "                countryname = 'Yugoslavia'\n",
    "                countrycode = 'YUGOS'\n",
    "                incomelevel = 'Upper middle income'\n",
    "                regi = 'Europe & Central Asia'\n",
    "\n",
    "        if countryname == '':\n",
    "            countryname = None\n",
    "            countrycode = None\n",
    "            incomelevel = None\n",
    "            regi = None\n",
    "    else:\n",
    "        countryname=countrycode=incomelevel=regi=None\n",
    "\n",
    "    country_name.append(countryname)\n",
    "    country_code.append(countrycode)\n",
    "    income_level.append(incomelevel)\n",
    "    region.append(regi)"
   ]
  },
  {
   "cell_type": "code",
   "execution_count": 22,
   "id": "8872206a",
   "metadata": {},
   "outputs": [],
   "source": [
    "Attributes_DF['Country_Code_Address'] = pd.Series(country_code)"
   ]
  },
  {
   "cell_type": "markdown",
   "id": "23e783c7",
   "metadata": {},
   "source": [
    "# Compare Both Country Codes"
   ]
  },
  {
   "cell_type": "code",
   "execution_count": 23,
   "id": "17666bc1",
   "metadata": {},
   "outputs": [],
   "source": [
    "cover_code = Attributes_DF['Country_Code_Cover']\n",
    "address_code = Attributes_DF['Country_Code_Address']"
   ]
  },
  {
   "cell_type": "code",
   "execution_count": 24,
   "id": "ed78cc71",
   "metadata": {},
   "outputs": [],
   "source": [
    "same = []\n",
    "nan = []\n",
    "none = []\n",
    "twonulls = []\n",
    "twodiff = []\n",
    "\n",
    "\n",
    "for i in range(3205):\n",
    "    if cover_code[i] != address_code[i] and type(cover_code[i])== float:\n",
    "        if address_code[i] == None:\n",
    "            twonulls.append(i)\n",
    "        else:\n",
    "            nan.append(i)\n",
    "    elif cover_code[i] != address_code[i] and type(cover_code[i])== str:\n",
    "        if address_code[i] == None:\n",
    "            none.append(i)\n",
    "        else:\n",
    "            twodiff.append(i)\n",
    "    else:\n",
    "        same.append(i)"
   ]
  },
  {
   "cell_type": "code",
   "execution_count": 25,
   "id": "d5d0967c",
   "metadata": {},
   "outputs": [
    {
     "name": "stdout",
     "output_type": "stream",
     "text": [
      "2478 526 74 78 49\n"
     ]
    }
   ],
   "source": [
    "print(len(same),len(nan),len(none),len(twonulls),len(twodiff))"
   ]
  },
  {
   "cell_type": "code",
   "execution_count": 26,
   "id": "c81b2e97",
   "metadata": {},
   "outputs": [],
   "source": [
    "bettercode = []\n",
    "for i in twodiff:\n",
    "    address = Attributes_DF[\"Address\"][i]\n",
    "    address = address.replace('\\n','')\n",
    "    address = address.replace(' ','')\n",
    "    address = address.replace('  ','')\n",
    "    address = address.replace(\"’\",\"\")\n",
    "    address = address.lower()\n",
    "    \n",
    "    if address_code[i] == 'BRA' and address.find('brazil')> -1:\n",
    "        bettercode.append(i)\n",
    "        continue\n",
    "        \n",
    "    if address_code[i] != 'YUGOS':\n",
    "    \n",
    "        ind = int(worldmap[worldmap['id'] == address_code[i]].index.values)\n",
    "    \n",
    "        country = worldmap['name'][ind]\n",
    "        country = country.lower()\n",
    "        \n",
    "        if address.find(country) >-1:\n",
    "            bettercode.append(i)\n",
    "            continue\n",
    "                \n",
    "        city = worldmap['capitalCity'][ind]\n",
    "    \n",
    "        if type(city) == str:\n",
    "            city = city.replace(' ','')\n",
    "            city = city.replace(\"'\",\"\")\n",
    "            city = city.replace('  ','')\n",
    "            city = city.lower()\n",
    "            if address.find(city) >-1:\n",
    "                bettercode.append(i)"
   ]
  },
  {
   "cell_type": "code",
   "execution_count": 27,
   "id": "0edb94ed",
   "metadata": {},
   "outputs": [],
   "source": [
    "rest_twodiff = list(set(twodiff) - set(bettercode))"
   ]
  },
  {
   "cell_type": "code",
   "execution_count": 28,
   "id": "7f58db40",
   "metadata": {},
   "outputs": [
    {
     "name": "stderr",
     "output_type": "stream",
     "text": [
      "<ipython-input-28-c3713abad795>:5: SettingWithCopyWarning: \n",
      "A value is trying to be set on a copy of a slice from a DataFrame\n",
      "\n",
      "See the caveats in the documentation: https://pandas.pydata.org/pandas-docs/stable/user_guide/indexing.html#returning-a-view-versus-a-copy\n",
      "  address_code[i] = cover_code[i]\n"
     ]
    }
   ],
   "source": [
    "for i in rest_twodiff:\n",
    "    if address_code[i] == 'Yugoslavia':\n",
    "        continue\n",
    "    if cover_code[i] == 'THA' or cover_code[i] == 'ALB':\n",
    "        address_code[i] = cover_code[i]       "
   ]
  },
  {
   "cell_type": "code",
   "execution_count": 29,
   "id": "2786d2db",
   "metadata": {},
   "outputs": [
    {
     "name": "stderr",
     "output_type": "stream",
     "text": [
      "<ipython-input-29-1f3121cab068>:2: SettingWithCopyWarning: \n",
      "A value is trying to be set on a copy of a slice from a DataFrame\n",
      "\n",
      "See the caveats in the documentation: https://pandas.pydata.org/pandas-docs/stable/user_guide/indexing.html#returning-a-view-versus-a-copy\n",
      "  address_code[i] = cover_code[i]\n"
     ]
    }
   ],
   "source": [
    "for i in none:\n",
    "    address_code[i] = cover_code[i]"
   ]
  },
  {
   "cell_type": "code",
   "execution_count": 30,
   "id": "1029597c",
   "metadata": {},
   "outputs": [],
   "source": [
    "#Finally we write the bettercode in one column\n",
    "Attributes_DF['Country_Code']=Attributes_DF['Country_Code_Address']"
   ]
  },
  {
   "cell_type": "code",
   "execution_count": 31,
   "id": "16785882",
   "metadata": {},
   "outputs": [
    {
     "name": "stderr",
     "output_type": "stream",
     "text": [
      "<ipython-input-31-36a0c36db747>:1: SettingWithCopyWarning: \n",
      "A value is trying to be set on a copy of a slice from a DataFrame\n",
      "\n",
      "See the caveats in the documentation: https://pandas.pydata.org/pandas-docs/stable/user_guide/indexing.html#returning-a-view-versus-a-copy\n",
      "  Attributes_DF['Country_Code'][Attributes_DF.Country_Code=='IBB']=None\n"
     ]
    }
   ],
   "source": [
    "Attributes_DF['Country_Code'][Attributes_DF.Country_Code=='IBB']=None"
   ]
  },
  {
   "cell_type": "code",
   "execution_count": 32,
   "id": "7a478b51",
   "metadata": {},
   "outputs": [],
   "source": [
    "DF_to_export=Attributes_DF.drop(['Country_code_pdf','Possible_country_name','Address','Possible_country','Country_Code_Cover','Country_Name',\n",
    "               'Score_final','Score1','Country_Code_Address'],axis=1)"
   ]
  },
  {
   "cell_type": "code",
   "execution_count": 33,
   "id": "4ca5dce5",
   "metadata": {},
   "outputs": [],
   "source": [
    "worldmap=worldmap[['id','name','region.value','incomeLevel.value']]\n",
    "worldmap.rename({'id':'Country_Code','name':'Country','region.value':'Region',\n",
    "                 'incomeLevel.value':'Income_level'},axis=1,inplace=True)"
   ]
  },
  {
   "cell_type": "code",
   "execution_count": 34,
   "id": "a7604286",
   "metadata": {},
   "outputs": [],
   "source": [
    "DF_to_export=DF_to_export.merge(worldmap,how='left',on='Country_Code')"
   ]
  },
  {
   "cell_type": "code",
   "execution_count": 35,
   "id": "9dfe7bd2",
   "metadata": {},
   "outputs": [],
   "source": [
    "#Export the dataframe\n",
    "DF_to_export.to_csv('../data/Extracted_Attributes_LoanUSD_Country.csv',index=False)"
   ]
  },
  {
   "cell_type": "code",
   "execution_count": null,
   "id": "5aea75c5",
   "metadata": {},
   "outputs": [],
   "source": []
  }
 ],
 "metadata": {
  "kernelspec": {
   "display_name": "Python 3",
   "language": "python",
   "name": "python3"
  },
  "language_info": {
   "codemirror_mode": {
    "name": "ipython",
    "version": 3
   },
   "file_extension": ".py",
   "mimetype": "text/x-python",
   "name": "python",
   "nbconvert_exporter": "python",
   "pygments_lexer": "ipython3",
   "version": "3.8.10"
  }
 },
 "nbformat": 4,
 "nbformat_minor": 5
}
