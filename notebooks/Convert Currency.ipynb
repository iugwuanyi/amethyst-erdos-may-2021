{
 "cells": [
  {
   "cell_type": "code",
   "execution_count": 1,
   "metadata": {},
   "outputs": [],
   "source": [
    "import pandas as pd\n",
    "import numpy as np\n",
    "import re"
   ]
  },
  {
   "cell_type": "code",
   "execution_count": 2,
   "metadata": {},
   "outputs": [],
   "source": [
    "data = pd.read_csv('../data/Extracted_Attributes.csv')\n",
    "data['Date']= pd.to_datetime(data['Date'])"
   ]
  },
  {
   "cell_type": "code",
   "execution_count": 3,
   "metadata": {},
   "outputs": [
    {
     "data": {
      "text/plain": [
       "$      2528\n",
       "NaN     222\n",
       "eur     180\n",
       "usd     123\n",
       "e        49\n",
       "€        33\n",
       "dem      26\n",
       "frf      14\n",
       "c         8\n",
       "jpy       5\n",
       "¥         5\n",
       "uss       3\n",
       "sdr       2\n",
       "s         2\n",
       "£         1\n",
       "egp       1\n",
       "us        1\n",
       "y         1\n",
       "gbp       1\n",
       "Name: Currency, dtype: int64"
      ]
     },
     "execution_count": 3,
     "metadata": {},
     "output_type": "execute_result"
    }
   ],
   "source": [
    "data.Currency.value_counts(dropna=False)"
   ]
  },
  {
   "cell_type": "markdown",
   "metadata": {},
   "source": [
    "Convert the loan amounts in US dollars."
   ]
  },
  {
   "cell_type": "code",
   "execution_count": 4,
   "metadata": {},
   "outputs": [
    {
     "data": {
      "text/plain": [
       "78"
      ]
     },
     "execution_count": 4,
     "metadata": {},
     "output_type": "execute_result"
    }
   ],
   "source": [
    "#How many without loan paragraph\n",
    "data.Loan_paragraph.isnull().sum()"
   ]
  },
  {
   "cell_type": "code",
   "execution_count": 5,
   "metadata": {},
   "outputs": [
    {
     "data": {
      "text/html": [
       "<div>\n",
       "<style scoped>\n",
       "    .dataframe tbody tr th:only-of-type {\n",
       "        vertical-align: middle;\n",
       "    }\n",
       "\n",
       "    .dataframe tbody tr th {\n",
       "        vertical-align: top;\n",
       "    }\n",
       "\n",
       "    .dataframe thead th {\n",
       "        text-align: right;\n",
       "    }\n",
       "</style>\n",
       "<table border=\"1\" class=\"dataframe\">\n",
       "  <thead>\n",
       "    <tr style=\"text-align: right;\">\n",
       "      <th></th>\n",
       "      <th>Currency</th>\n",
       "      <th>Country_code_pdf</th>\n",
       "      <th>Loan_paragraph</th>\n",
       "    </tr>\n",
       "  </thead>\n",
       "  <tbody>\n",
       "    <tr>\n",
       "      <th>0</th>\n",
       "      <td>$</td>\n",
       "      <td>PH</td>\n",
       "      <td>102 unfess the context requires otherwise the capitalized terms used in this agreement have the meanings ascribed to them in the general conditions or in the appendix to this agreement article ii loan 201 the bank agrees to lend to the borrower on the terms and conditions set forth or referred to in this agreement the amount of ninetynine million three hundred twelve thousand nine hundred and ten dollars ($99312910) as such amount may be converted from time to time through a currency conversion in accordance with the provisions of section 208 of this agreement (loan) to assist in financing the project described in schedule 1 to this agreement (project)</td>\n",
       "    </tr>\n",
       "    <tr>\n",
       "      <th>1</th>\n",
       "      <td>c</td>\n",
       "      <td>PL</td>\n",
       "      <td>102 unless the context requires otherwise the capitalized terms used in this agreement have the meanings ascribed to them in the general conditions or in the appendix to this agreement article ii loan 201 the bank agrees to lend to the borrower on the terms and conditions set forth or referred to in this agreement the amount of seven hundred million euro (c700000000) as such amount may be converted from time to time through a currency conversion in accordance with the provisions of section 207 of this agreement (loan)</td>\n",
       "    </tr>\n",
       "    <tr>\n",
       "      <th>2</th>\n",
       "      <td>dem</td>\n",
       "      <td>MK</td>\n",
       "      <td>article ii the loan section 201 the bank agrees to lend to the borrower on the terms and conditions set forth or referred to in the loan agreement an amount equal to thirteen million five hundred thousand deutsche mark (dem 13500000)</td>\n",
       "    </tr>\n",
       "    <tr>\n",
       "      <th>3</th>\n",
       "      <td>e</td>\n",
       "      <td>BA</td>\n",
       "      <td>102 unless the context requires otherwise the capitalized terms used in this agreement have the meanings ascribed to them in the general conditions or in the appendix to this agreement article ii loan 201 the bank agrees to lend to the borrower the amount of fiftyone million three hundred thousand euro (e51300000) as such amount may be converted from time to time through a currency conversion (loan) to assist in financing the project described in schedule i to this agreement (project)</td>\n",
       "    </tr>\n",
       "    <tr>\n",
       "      <th>4</th>\n",
       "      <td>egp</td>\n",
       "      <td>EGT</td>\n",
       "      <td>constitute an integral part of this agreement 102 unless the context requires otherwise the capitalized terms used in the loan agreement have the meanings ascribed to them in the general conditions or in the appendix to this agreement article ii loan 201 the bank agrees to lend to the borrower on the terms and conditions set forth or referred to in this agreement the amount of two hundred fourteen million two hundred thousand egyptian pounds (egp214200000) (loan) to assist in financing the project described in schedule 1 to this agreement (project)</td>\n",
       "    </tr>\n",
       "    <tr>\n",
       "      <th>5</th>\n",
       "      <td>eur</td>\n",
       "      <td>YF</td>\n",
       "      <td>102 unless the context requires otherwise the capitalized terms used in this agreement have the meanings ascribed to them in the general conditions or in the appendix to this agreement article ii loan 201 the bank agrees to lend to the borrower on the terms and conditions set forth or referred to in this agreement the amount of sixtysix million one hundred thousand euros (eur 66100000) as such amount may be converted from time to time through a currency conversion in accordance with the provisions of section 208 of this agreement (loan)</td>\n",
       "    </tr>\n",
       "    <tr>\n",
       "      <th>6</th>\n",
       "      <td>frf</td>\n",
       "      <td>MOR</td>\n",
       "      <td>maintained pursuant to annex 4 of the convention article ii the loan section 201 the bank agrees to lend to the borrower on the terms and conditions set forth or referred to in the loan agreement an amount equal to forty million nine hundred thousand french francs (frf40900000)</td>\n",
       "    </tr>\n",
       "    <tr>\n",
       "      <th>7</th>\n",
       "      <td>gbp</td>\n",
       "      <td>MU</td>\n",
       "      <td>in this agreement have the meanings ascribed to them in the general conditions or in the appendix to this agreement article ii loan 201 the bank agrees to lend to the borrower on the terms and conditions set forth or referred to in this agreement the amount of nine million six hundred thousand pounds (gbp 9600000) as such amount may be converted from time to time through a currency conversion in accordance with the provisions of section 207 of this agreement (loan)</td>\n",
       "    </tr>\n",
       "    <tr>\n",
       "      <th>8</th>\n",
       "      <td>jpy</td>\n",
       "      <td>ID</td>\n",
       "      <td>10l the general conditions (as defined in the appendix to this agreement) apply to and form part of this agreement 102 unless the context requires otherwise the capitalized terms used in this agreement have the meanings ascribed to them in the general conditions or in the appendix to this agreement article ii loan 201 the bank agrees to lend to the borrower the amount of one hundred ten billion seven hundred ninetyfive million japanese yen (jpy 110795000000) consisting of (a) fiftyfive billion three hundred ninety seven million and five hundred thousand japanese yen (jpy 55397500000) allocated to subloan number ln8956001 (ln8956001) and (b) fifty five billion three hundred ninety seven million and five hundred thousand japanese yen (jpy 55397500000) allocated to subloan number ln8956002 (ln8956002) as such amount may be converted from time to time through a currency conversion (loan)</td>\n",
       "    </tr>\n",
       "    <tr>\n",
       "      <th>9</th>\n",
       "      <td>s</td>\n",
       "      <td>IN</td>\n",
       "      <td>the general conditions (as defined in the appendix to this agreement) apply to and form part of this agreement 102 unless the context requires otherwise the capitalized terms used in this agreement have the meanings ascribed to them in the general conditions or in the appendix to this agreement article ii loan 201 the bank agrees to lend to the borrower the amount of one hundred twenty million dollars (s120000000) as such amount may be converted from time to time through a currency conversion (loan) to assist in financing the program described in schedule i to this agreement (program)</td>\n",
       "    </tr>\n",
       "    <tr>\n",
       "      <th>10</th>\n",
       "      <td>sdr</td>\n",
       "      <td>EGT</td>\n",
       "      <td>by an agreement (the guarantee agreement) of even date herewith between the guarantor and the bank the guarantor has agreed to guarantee the obligations of the borrower in respect of the loan (c) by agreement (the development credit agreement) of even date herewith between the guarantor and the international development association (the association) the association has agreed to make a credit (the credit) to the guarantor in an amount in various currencies equivalent to ten million nine hundred thousand special drawing rights (sdr10900000) on the terms and conditions set forth in the development credit agreement but only on condition that (1) the guarantor agree to make available to the borrower under a subsidiary financing agreement (the subsidiary financing agreement) to be entered into between the guarantor and the borrower the proceeds of the credit provided for under the development credit agreement to assist in financing of part b of the project on the terms and conditions set forth in the subsidiary financing agreement and (2) the borrower agrees to undertake such obligations towards the association as set forth in an agreement (the project agreement) of even date herewith between the association and the borrower and</td>\n",
       "    </tr>\n",
       "    <tr>\n",
       "      <th>11</th>\n",
       "      <td>us</td>\n",
       "      <td>UY</td>\n",
       "      <td>the capitalized terms used in article h loan 201 the bank agrees to lend to the borrower on the terms and conditions set forth or referred to in this agreement the amount of forty two million united states dollars (us142000000) as such amount may be converted from time to time through a currency contersion in accordance with the provisions of section 207 of this agreement (lan) to assist in financing the project described in schedule 1 to this agree neni (project)</td>\n",
       "    </tr>\n",
       "    <tr>\n",
       "      <th>12</th>\n",
       "      <td>usd</td>\n",
       "      <td>SC</td>\n",
       "      <td>the general conditions (as defined in the appendix to this agreement) constitute an integral part of this agreement 102 unless the context requires otherwise the capitalized terms used in this agreement have the meanings ascribed to them in the general conditions or in the appendix to this agreement article h loan 201 the bank agrees to lend to the borrower on the terms and conditions set forth or referred to in this agreement the amount of five million united states dollars (usd 5000000) as such amount may be converted from time to time through a currency conversion in accordance with the provisions of section 208 of this agreement (loan) to assist in financing the program described in schedule 1 to this agreement (program)</td>\n",
       "    </tr>\n",
       "    <tr>\n",
       "      <th>13</th>\n",
       "      <td>uss</td>\n",
       "      <td>ID</td>\n",
       "      <td>integral part of this agreement 102 unless the context requires otherwise the capitalized terms used in this agreement have the meanings ascribed to them in the general conditions or in the appendix to this agreement article ii loan 201 the bank agrees to lend to the borrower on the terms and conditions set forth or referred to in this agreement the amount of three hundred million united states dollars (uss300000000) as such amount may be converted from time to time through a currency conversion in accordance with the provisions of section 207 of this agreement (loan)</td>\n",
       "    </tr>\n",
       "    <tr>\n",
       "      <th>14</th>\n",
       "      <td>y</td>\n",
       "      <td>MOR</td>\n",
       "      <td>yen and y mean the lawful currency of japan article ii the loan section 201 the bank agrees to lend to the borrower on the terms and conditions set forth or referred to in the loan agreement an amount equal to three billion and eight hundred million yen (y3800000000)</td>\n",
       "    </tr>\n",
       "    <tr>\n",
       "      <th>15</th>\n",
       "      <td>£</td>\n",
       "      <td>MU</td>\n",
       "      <td>101 the general conditions (as defined in the appendix to this agreement) constitute an integral part of this agreement 102 unless the context requires otherwise the capitalized terms used in this agreement have the meanings ascribed to them in the general conditions or in the appendix to this agreement article it loan 201 the bank agrees to lend to the borrower on the terms and conditions set forth or referred to in this agreement the amount of nine million six hundred thousand gbp (£9600000) as such amount may be converted from time to time through a currency conversion in accordance with the provisions of section 207 of this agreement (loan)</td>\n",
       "    </tr>\n",
       "    <tr>\n",
       "      <th>16</th>\n",
       "      <td>¥</td>\n",
       "      <td>PAK</td>\n",
       "      <td>maturity fixing date means for each disbursed amount the date on which the amortization schedule for said disbursed amount is established such date being the first day of the interest period next following the interest period in which said disbursed amount is withdrawn article ii the loan section 201 the bank agrees to lend to the borrower on the terms and conditions set forth or referred to in this agreement an amount equal to five billion six hundred five million five hundred thousand japanese yen (¥5605500000) as such amount may be converted from time to time through a currency conversion in accordance with the provisions of section 209 of this agreement</td>\n",
       "    </tr>\n",
       "    <tr>\n",
       "      <th>17</th>\n",
       "      <td>€</td>\n",
       "      <td>YF</td>\n",
       "      <td>article i general conditions definitions 101 the general conditions (as defined in the appendix to this agreement) apply to and form part of this agreement 102 unless the context requires otherwise the capitalized terms used in this agreement have the meanings ascribed to them in the general conditions or in the appendix to this agreement article ii loan 201 the bank agrees to lend to the borrower the amount of fortythree million eight hundred thousand euros (€43800000) as such amount may be converted from time to time through a currency conversion (loan) to assist in financing the</td>\n",
       "    </tr>\n",
       "  </tbody>\n",
       "</table>\n",
       "</div>"
      ],
      "text/plain": [
       "   Currency Country_code_pdf  \\\n",
       "0   $        PH                \n",
       "1   c        PL                \n",
       "2   dem      MK                \n",
       "3   e        BA                \n",
       "4   egp      EGT               \n",
       "5   eur      YF                \n",
       "6   frf      MOR               \n",
       "7   gbp      MU                \n",
       "8   jpy      ID                \n",
       "9   s        IN                \n",
       "10  sdr      EGT               \n",
       "11  us       UY                \n",
       "12  usd      SC                \n",
       "13  uss      ID                \n",
       "14  y        MOR               \n",
       "15  £        MU                \n",
       "16  ¥        PAK               \n",
       "17  €        YF                \n",
       "\n",
       "                                                                                                                                                                                                                                                                                                                                                                                                                                                                                                                                                                                                                                                                                                                                                                                                                                                                                                                                                                                                                                                                                                                                                                                                                                                                                 Loan_paragraph  \n",
       "0   102 unfess the context requires otherwise the capitalized terms used in this agreement have the meanings ascribed to them in the general conditions or in the appendix to this agreement article ii loan 201 the bank agrees to lend to the borrower on the terms and conditions set forth or referred to in this agreement the amount of ninetynine million three hundred twelve thousand nine hundred and ten dollars ($99312910) as such amount may be converted from time to time through a currency conversion in accordance with the provisions of section 208 of this agreement (loan) to assist in financing the project described in schedule 1 to this agreement (project)                                                                                                                                                                                                                                                                                                                                                                                                                                                                                                                                                                                                         \n",
       "1   102 unless the context requires otherwise the capitalized terms used in this agreement have the meanings ascribed to them in the general conditions or in the appendix to this agreement article ii loan 201 the bank agrees to lend to the borrower on the terms and conditions set forth or referred to in this agreement the amount of seven hundred million euro (c700000000) as such amount may be converted from time to time through a currency conversion in accordance with the provisions of section 207 of this agreement (loan)                                                                                                                                                                                                                                                                                                                                                                                                                                                                                                                                                                                                                                                                                                                                                  \n",
       "2   article ii the loan section 201 the bank agrees to lend to the borrower on the terms and conditions set forth or referred to in the loan agreement an amount equal to thirteen million five hundred thousand deutsche mark (dem 13500000)                                                                                                                                                                                                                                                                                                                                                                                                                                                                                                                                                                                                                                                                                                                                                                                                                                                                                                                                                                                                                                                    \n",
       "3   102 unless the context requires otherwise the capitalized terms used in this agreement have the meanings ascribed to them in the general conditions or in the appendix to this agreement article ii loan 201 the bank agrees to lend to the borrower the amount of fiftyone million three hundred thousand euro (e51300000) as such amount may be converted from time to time through a currency conversion (loan) to assist in financing the project described in schedule i to this agreement (project)                                                                                                                                                                                                                                                                                                                                                                                                                                                                                                                                                                                                                                                                                                                                                                                    \n",
       "4   constitute an integral part of this agreement 102 unless the context requires otherwise the capitalized terms used in the loan agreement have the meanings ascribed to them in the general conditions or in the appendix to this agreement article ii loan 201 the bank agrees to lend to the borrower on the terms and conditions set forth or referred to in this agreement the amount of two hundred fourteen million two hundred thousand egyptian pounds (egp214200000) (loan) to assist in financing the project described in schedule 1 to this agreement (project)                                                                                                                                                                                                                                                                                                                                                                                                                                                                                                                                                                                                                                                                                                                   \n",
       "5   102 unless the context requires otherwise the capitalized terms used in this agreement have the meanings ascribed to them in the general conditions or in the appendix to this agreement article ii loan 201 the bank agrees to lend to the borrower on the terms and conditions set forth or referred to in this agreement the amount of sixtysix million one hundred thousand euros (eur 66100000) as such amount may be converted from time to time through a currency conversion in accordance with the provisions of section 208 of this agreement (loan)                                                                                                                                                                                                                                                                                                                                                                                                                                                                                                                                                                                                                                                                                                                               \n",
       "6   maintained pursuant to annex 4 of the convention article ii the loan section 201 the bank agrees to lend to the borrower on the terms and conditions set forth or referred to in the loan agreement an amount equal to forty million nine hundred thousand french francs (frf40900000)                                                                                                                                                                                                                                                                                                                                                                                                                                                                                                                                                                                                                                                                                                                                                                                                                                                                                                                                                                                                       \n",
       "7   in this agreement have the meanings ascribed to them in the general conditions or in the appendix to this agreement article ii loan 201 the bank agrees to lend to the borrower on the terms and conditions set forth or referred to in this agreement the amount of nine million six hundred thousand pounds (gbp 9600000) as such amount may be converted from time to time through a currency conversion in accordance with the provisions of section 207 of this agreement (loan)                                                                                                                                                                                                                                                                                                                                                                                                                                                                                                                                                                                                                                                                                                                                                                                                        \n",
       "8   10l the general conditions (as defined in the appendix to this agreement) apply to and form part of this agreement 102 unless the context requires otherwise the capitalized terms used in this agreement have the meanings ascribed to them in the general conditions or in the appendix to this agreement article ii loan 201 the bank agrees to lend to the borrower the amount of one hundred ten billion seven hundred ninetyfive million japanese yen (jpy 110795000000) consisting of (a) fiftyfive billion three hundred ninety seven million and five hundred thousand japanese yen (jpy 55397500000) allocated to subloan number ln8956001 (ln8956001) and (b) fifty five billion three hundred ninety seven million and five hundred thousand japanese yen (jpy 55397500000) allocated to subloan number ln8956002 (ln8956002) as such amount may be converted from time to time through a currency conversion (loan)                                                                                                                                                                                                                                                                                                                                                             \n",
       "9   the general conditions (as defined in the appendix to this agreement) apply to and form part of this agreement 102 unless the context requires otherwise the capitalized terms used in this agreement have the meanings ascribed to them in the general conditions or in the appendix to this agreement article ii loan 201 the bank agrees to lend to the borrower the amount of one hundred twenty million dollars (s120000000) as such amount may be converted from time to time through a currency conversion (loan) to assist in financing the program described in schedule i to this agreement (program)                                                                                                                                                                                                                                                                                                                                                                                                                                                                                                                                                                                                                                                                              \n",
       "10  by an agreement (the guarantee agreement) of even date herewith between the guarantor and the bank the guarantor has agreed to guarantee the obligations of the borrower in respect of the loan (c) by agreement (the development credit agreement) of even date herewith between the guarantor and the international development association (the association) the association has agreed to make a credit (the credit) to the guarantor in an amount in various currencies equivalent to ten million nine hundred thousand special drawing rights (sdr10900000) on the terms and conditions set forth in the development credit agreement but only on condition that (1) the guarantor agree to make available to the borrower under a subsidiary financing agreement (the subsidiary financing agreement) to be entered into between the guarantor and the borrower the proceeds of the credit provided for under the development credit agreement to assist in financing of part b of the project on the terms and conditions set forth in the subsidiary financing agreement and (2) the borrower agrees to undertake such obligations towards the association as set forth in an agreement (the project agreement) of even date herewith between the association and the borrower and  \n",
       "11  the capitalized terms used in article h loan 201 the bank agrees to lend to the borrower on the terms and conditions set forth or referred to in this agreement the amount of forty two million united states dollars (us142000000) as such amount may be converted from time to time through a currency contersion in accordance with the provisions of section 207 of this agreement (lan) to assist in financing the project described in schedule 1 to this agree neni (project)                                                                                                                                                                                                                                                                                                                                                                                                                                                                                                                                                                                                                                                                                                                                                                                                         \n",
       "12  the general conditions (as defined in the appendix to this agreement) constitute an integral part of this agreement 102 unless the context requires otherwise the capitalized terms used in this agreement have the meanings ascribed to them in the general conditions or in the appendix to this agreement article h loan 201 the bank agrees to lend to the borrower on the terms and conditions set forth or referred to in this agreement the amount of five million united states dollars (usd 5000000) as such amount may be converted from time to time through a currency conversion in accordance with the provisions of section 208 of this agreement (loan) to assist in financing the program described in schedule 1 to this agreement (program)                                                                                                                                                                                                                                                                                                                                                                                                                                                                                                                               \n",
       "13  integral part of this agreement 102 unless the context requires otherwise the capitalized terms used in this agreement have the meanings ascribed to them in the general conditions or in the appendix to this agreement article ii loan 201 the bank agrees to lend to the borrower on the terms and conditions set forth or referred to in this agreement the amount of three hundred million united states dollars (uss300000000) as such amount may be converted from time to time through a currency conversion in accordance with the provisions of section 207 of this agreement (loan)                                                                                                                                                                                                                                                                                                                                                                                                                                                                                                                                                                                                                                                                                               \n",
       "14  yen and y mean the lawful currency of japan article ii the loan section 201 the bank agrees to lend to the borrower on the terms and conditions set forth or referred to in the loan agreement an amount equal to three billion and eight hundred million yen (y3800000000)                                                                                                                                                                                                                                                                                                                                                                                                                                                                                                                                                                                                                                                                                                                                                                                                                                                                                                                                                                                                                  \n",
       "15  101 the general conditions (as defined in the appendix to this agreement) constitute an integral part of this agreement 102 unless the context requires otherwise the capitalized terms used in this agreement have the meanings ascribed to them in the general conditions or in the appendix to this agreement article it loan 201 the bank agrees to lend to the borrower on the terms and conditions set forth or referred to in this agreement the amount of nine million six hundred thousand gbp (£9600000) as such amount may be converted from time to time through a currency conversion in accordance with the provisions of section 207 of this agreement (loan)                                                                                                                                                                                                                                                                                                                                                                                                                                                                                                                                                                                                                 \n",
       "16  maturity fixing date means for each disbursed amount the date on which the amortization schedule for said disbursed amount is established such date being the first day of the interest period next following the interest period in which said disbursed amount is withdrawn article ii the loan section 201 the bank agrees to lend to the borrower on the terms and conditions set forth or referred to in this agreement an amount equal to five billion six hundred five million five hundred thousand japanese yen (¥5605500000) as such amount may be converted from time to time through a currency conversion in accordance with the provisions of section 209 of this agreement                                                                                                                                                                                                                                                                                                                                                                                                                                                                                                                                                                                                    \n",
       "17  article i general conditions definitions 101 the general conditions (as defined in the appendix to this agreement) apply to and form part of this agreement 102 unless the context requires otherwise the capitalized terms used in this agreement have the meanings ascribed to them in the general conditions or in the appendix to this agreement article ii loan 201 the bank agrees to lend to the borrower the amount of fortythree million eight hundred thousand euros (€43800000) as such amount may be converted from time to time through a currency conversion (loan) to assist in financing the                                                                                                                                                                                                                                                                                                                                                                                                                                                                                                                                                                                                                                                                                 "
      ]
     },
     "metadata": {},
     "output_type": "display_data"
    }
   ],
   "source": [
    "#Lets look at a couple of random examples per currency to decide what they are likely to be\n",
    "Sample_DF=data[['Currency','Country_code_pdf','Loan_paragraph']].groupby('Currency').apply(lambda x: x.sample(1)).reset_index(drop=True)\n",
    "with pd.option_context('display.max_colwidth', -1):\n",
    "   display(Sample_DF)"
   ]
  },
  {
   "cell_type": "code",
   "execution_count": 6,
   "metadata": {},
   "outputs": [],
   "source": [
    "#From the above we recognize the following currencies\n",
    "currency_names=['dollar','euro','yen','deutsche mark','egyptian pound','sterling','franc','drawing right']\n",
    "\n",
    "#Map the currencies we are sure are unique\n",
    "map_currencies={'$':'dollar', 'dem':'deutsche mark', 'egp':'egyptian pound',\n",
    "                'eur':'euro',  'frf':'franc', 'gbp':'sterling',\n",
    "                'jpy':'yen','sdr':'drawing right', 'us':'dollar',\n",
    "                'usd':'dollar','£':'sterling','¥':'yen','€':'euro', 'e':'euro'}\n",
    "Map_Currencies_DF=pd.DataFrame({'Currency':map_currencies.keys(), 'Currency_name':map_currencies.values()})"
   ]
  },
  {
   "cell_type": "code",
   "execution_count": 7,
   "metadata": {},
   "outputs": [
    {
     "data": {
      "text/html": [
       "<div>\n",
       "<style scoped>\n",
       "    .dataframe tbody tr th:only-of-type {\n",
       "        vertical-align: middle;\n",
       "    }\n",
       "\n",
       "    .dataframe tbody tr th {\n",
       "        vertical-align: top;\n",
       "    }\n",
       "\n",
       "    .dataframe thead th {\n",
       "        text-align: right;\n",
       "    }\n",
       "</style>\n",
       "<table border=\"1\" class=\"dataframe\">\n",
       "  <thead>\n",
       "    <tr style=\"text-align: right;\">\n",
       "      <th></th>\n",
       "      <th>Currency</th>\n",
       "      <th>Currency_name</th>\n",
       "    </tr>\n",
       "  </thead>\n",
       "  <tbody>\n",
       "    <tr>\n",
       "      <th>0</th>\n",
       "      <td>$</td>\n",
       "      <td>dollar</td>\n",
       "    </tr>\n",
       "    <tr>\n",
       "      <th>1</th>\n",
       "      <td>dem</td>\n",
       "      <td>deutsche mark</td>\n",
       "    </tr>\n",
       "    <tr>\n",
       "      <th>2</th>\n",
       "      <td>egp</td>\n",
       "      <td>egyptian pound</td>\n",
       "    </tr>\n",
       "    <tr>\n",
       "      <th>3</th>\n",
       "      <td>eur</td>\n",
       "      <td>euro</td>\n",
       "    </tr>\n",
       "    <tr>\n",
       "      <th>4</th>\n",
       "      <td>frf</td>\n",
       "      <td>franc</td>\n",
       "    </tr>\n",
       "    <tr>\n",
       "      <th>5</th>\n",
       "      <td>gbp</td>\n",
       "      <td>sterling</td>\n",
       "    </tr>\n",
       "    <tr>\n",
       "      <th>6</th>\n",
       "      <td>jpy</td>\n",
       "      <td>yen</td>\n",
       "    </tr>\n",
       "    <tr>\n",
       "      <th>7</th>\n",
       "      <td>sdr</td>\n",
       "      <td>drawing right</td>\n",
       "    </tr>\n",
       "    <tr>\n",
       "      <th>8</th>\n",
       "      <td>us</td>\n",
       "      <td>dollar</td>\n",
       "    </tr>\n",
       "    <tr>\n",
       "      <th>9</th>\n",
       "      <td>usd</td>\n",
       "      <td>dollar</td>\n",
       "    </tr>\n",
       "    <tr>\n",
       "      <th>10</th>\n",
       "      <td>£</td>\n",
       "      <td>sterling</td>\n",
       "    </tr>\n",
       "    <tr>\n",
       "      <th>11</th>\n",
       "      <td>¥</td>\n",
       "      <td>yen</td>\n",
       "    </tr>\n",
       "    <tr>\n",
       "      <th>12</th>\n",
       "      <td>€</td>\n",
       "      <td>euro</td>\n",
       "    </tr>\n",
       "    <tr>\n",
       "      <th>13</th>\n",
       "      <td>e</td>\n",
       "      <td>euro</td>\n",
       "    </tr>\n",
       "  </tbody>\n",
       "</table>\n",
       "</div>"
      ],
      "text/plain": [
       "   Currency   Currency_name\n",
       "0         $          dollar\n",
       "1       dem   deutsche mark\n",
       "2       egp  egyptian pound\n",
       "3       eur            euro\n",
       "4       frf           franc\n",
       "5       gbp        sterling\n",
       "6       jpy             yen\n",
       "7       sdr   drawing right\n",
       "8        us          dollar\n",
       "9       usd          dollar\n",
       "10        £        sterling\n",
       "11        ¥             yen\n",
       "12        €            euro\n",
       "13        e            euro"
      ]
     },
     "execution_count": 7,
     "metadata": {},
     "output_type": "execute_result"
    }
   ],
   "source": [
    "Map_Currencies_DF"
   ]
  },
  {
   "cell_type": "code",
   "execution_count": 8,
   "metadata": {},
   "outputs": [],
   "source": [
    "data=data.merge(Map_Currencies_DF,how='outer',on='Currency')"
   ]
  },
  {
   "cell_type": "code",
   "execution_count": 9,
   "metadata": {},
   "outputs": [],
   "source": [
    "#Function to extract loan amount using currency name instead of symbol.\n",
    "def get_loan_amount_currency(paragraph,currency_names):\n",
    "    paragraph=str(paragraph)\n",
    "    #Extract dollar amount\n",
    "    #Extract the values using Regular Expressions\n",
    "    currency_names_reg='|'.join(currency_names)\n",
    "    regexp_amount='('+currency_names_reg+').*?([ \\d]{6,})'\n",
    "\n",
    "    value=re.search(regexp_amount,paragraph)\n",
    "    if value!=None:\n",
    "        currency_name=value.group(1)\n",
    "        amount=value.group(2)\n",
    "        amount=amount.replace(' ','')\n",
    "        amount=int(amount)\n",
    "        #Make double sure that the amount makes sense. \n",
    "        if amount>100000:\n",
    "            return amount,currency_name\n",
    "\n",
    "    #If we couldnt find an amount, return None\n",
    "    return None,None"
   ]
  },
  {
   "cell_type": "code",
   "execution_count": 10,
   "metadata": {},
   "outputs": [
    {
     "name": "stderr",
     "output_type": "stream",
     "text": [
      "<ipython-input-10-bdb3b8e2ab2e>:4: SettingWithCopyWarning: \n",
      "A value is trying to be set on a copy of a slice from a DataFrame\n",
      "\n",
      "See the caveats in the documentation: https://pandas.pydata.org/pandas-docs/stable/user_guide/indexing.html#returning-a-view-versus-a-copy\n",
      "  data['Currency_name'][ind]=currency_name\n",
      "<ipython-input-10-bdb3b8e2ab2e>:5: SettingWithCopyWarning: \n",
      "A value is trying to be set on a copy of a slice from a DataFrame\n",
      "\n",
      "See the caveats in the documentation: https://pandas.pydata.org/pandas-docs/stable/user_guide/indexing.html#returning-a-view-versus-a-copy\n",
      "  data['Amount_loan'][ind]=amount\n"
     ]
    }
   ],
   "source": [
    "#Try to extract loan amount again\n",
    "for ind in data[data.Currency_name.isnull()].index:\n",
    "    amount,currency_name=get_loan_amount_currency(data.Loan_paragraph[ind],currency_names)\n",
    "    data['Currency_name'][ind]=currency_name\n",
    "    data['Amount_loan'][ind]=amount"
   ]
  },
  {
   "cell_type": "code",
   "execution_count": 11,
   "metadata": {},
   "outputs": [
    {
     "data": {
      "text/plain": [
       "88"
      ]
     },
     "execution_count": 11,
     "metadata": {},
     "output_type": "execute_result"
    }
   ],
   "source": [
    "data.Currency_name.isnull().sum()"
   ]
  },
  {
   "cell_type": "code",
   "execution_count": 12,
   "metadata": {},
   "outputs": [
    {
     "data": {
      "text/html": [
       "<div>\n",
       "<style scoped>\n",
       "    .dataframe tbody tr th:only-of-type {\n",
       "        vertical-align: middle;\n",
       "    }\n",
       "\n",
       "    .dataframe tbody tr th {\n",
       "        vertical-align: top;\n",
       "    }\n",
       "\n",
       "    .dataframe thead th {\n",
       "        text-align: right;\n",
       "    }\n",
       "</style>\n",
       "<table border=\"1\" class=\"dataframe\">\n",
       "  <thead>\n",
       "    <tr style=\"text-align: right;\">\n",
       "      <th></th>\n",
       "      <th></th>\n",
       "      <th>filename</th>\n",
       "    </tr>\n",
       "    <tr>\n",
       "      <th>Currency</th>\n",
       "      <th>Currency_name</th>\n",
       "      <th></th>\n",
       "    </tr>\n",
       "  </thead>\n",
       "  <tbody>\n",
       "    <tr>\n",
       "      <th>$</th>\n",
       "      <th>dollar</th>\n",
       "      <td>2528</td>\n",
       "    </tr>\n",
       "    <tr>\n",
       "      <th>c</th>\n",
       "      <th>euro</th>\n",
       "      <td>8</td>\n",
       "    </tr>\n",
       "    <tr>\n",
       "      <th>dem</th>\n",
       "      <th>deutsche mark</th>\n",
       "      <td>26</td>\n",
       "    </tr>\n",
       "    <tr>\n",
       "      <th>e</th>\n",
       "      <th>euro</th>\n",
       "      <td>49</td>\n",
       "    </tr>\n",
       "    <tr>\n",
       "      <th>egp</th>\n",
       "      <th>egyptian pound</th>\n",
       "      <td>1</td>\n",
       "    </tr>\n",
       "    <tr>\n",
       "      <th>eur</th>\n",
       "      <th>euro</th>\n",
       "      <td>180</td>\n",
       "    </tr>\n",
       "    <tr>\n",
       "      <th>frf</th>\n",
       "      <th>franc</th>\n",
       "      <td>14</td>\n",
       "    </tr>\n",
       "    <tr>\n",
       "      <th>gbp</th>\n",
       "      <th>sterling</th>\n",
       "      <td>1</td>\n",
       "    </tr>\n",
       "    <tr>\n",
       "      <th>jpy</th>\n",
       "      <th>yen</th>\n",
       "      <td>5</td>\n",
       "    </tr>\n",
       "    <tr>\n",
       "      <th>s</th>\n",
       "      <th>dollar</th>\n",
       "      <td>2</td>\n",
       "    </tr>\n",
       "    <tr>\n",
       "      <th>sdr</th>\n",
       "      <th>drawing right</th>\n",
       "      <td>2</td>\n",
       "    </tr>\n",
       "    <tr>\n",
       "      <th>us</th>\n",
       "      <th>dollar</th>\n",
       "      <td>1</td>\n",
       "    </tr>\n",
       "    <tr>\n",
       "      <th>usd</th>\n",
       "      <th>dollar</th>\n",
       "      <td>123</td>\n",
       "    </tr>\n",
       "    <tr>\n",
       "      <th>uss</th>\n",
       "      <th>dollar</th>\n",
       "      <td>3</td>\n",
       "    </tr>\n",
       "    <tr>\n",
       "      <th>y</th>\n",
       "      <th>yen</th>\n",
       "      <td>1</td>\n",
       "    </tr>\n",
       "    <tr>\n",
       "      <th>£</th>\n",
       "      <th>sterling</th>\n",
       "      <td>1</td>\n",
       "    </tr>\n",
       "    <tr>\n",
       "      <th>¥</th>\n",
       "      <th>yen</th>\n",
       "      <td>5</td>\n",
       "    </tr>\n",
       "    <tr>\n",
       "      <th>€</th>\n",
       "      <th>euro</th>\n",
       "      <td>33</td>\n",
       "    </tr>\n",
       "    <tr>\n",
       "      <th rowspan=\"3\" valign=\"top\">NaN</th>\n",
       "      <th>dollar</th>\n",
       "      <td>56</td>\n",
       "    </tr>\n",
       "    <tr>\n",
       "      <th>euro</th>\n",
       "      <td>78</td>\n",
       "    </tr>\n",
       "    <tr>\n",
       "      <th>NaN</th>\n",
       "      <td>88</td>\n",
       "    </tr>\n",
       "  </tbody>\n",
       "</table>\n",
       "</div>"
      ],
      "text/plain": [
       "                         filename\n",
       "Currency Currency_name           \n",
       "$        dollar              2528\n",
       "c        euro                   8\n",
       "dem      deutsche mark         26\n",
       "e        euro                  49\n",
       "egp      egyptian pound         1\n",
       "eur      euro                 180\n",
       "frf      franc                 14\n",
       "gbp      sterling               1\n",
       "jpy      yen                    5\n",
       "s        dollar                 2\n",
       "sdr      drawing right          2\n",
       "us       dollar                 1\n",
       "usd      dollar               123\n",
       "uss      dollar                 3\n",
       "y        yen                    1\n",
       "£        sterling               1\n",
       "¥        yen                    5\n",
       "€        euro                  33\n",
       "NaN      dollar                56\n",
       "         euro                  78\n",
       "         NaN                   88"
      ]
     },
     "execution_count": 12,
     "metadata": {},
     "output_type": "execute_result"
    }
   ],
   "source": [
    "data.groupby(['Currency','Currency_name'],dropna=False).count()[['filename']]"
   ]
  },
  {
   "cell_type": "code",
   "execution_count": 13,
   "metadata": {},
   "outputs": [],
   "source": [
    "exchangerate = pd.read_csv('../exchangerates.csv')\n",
    "exchangerate=exchangerate.rename({'TIME':'Year', 'LOCATION':'Currency_name'},axis=1)\n",
    "exchangerate=exchangerate[['Year','Currency_name','Value']]"
   ]
  },
  {
   "cell_type": "code",
   "execution_count": 14,
   "metadata": {},
   "outputs": [],
   "source": [
    "#We now convert currency names into the names that the exchangerates.csv manage\n",
    "Table_Currency={'dollar':'USD',\n",
    "               'euro':'EU27_2020',\n",
    "               'yen':'JPN',\n",
    "               'deutsche mark':'DEU',\n",
    "               'egyptian pound':'EGP',\n",
    "               'sterling':'GBR',\n",
    "               'franc':'FRA',\n",
    "               'drawing right':'XDR'}\n",
    "data=data.replace({'Currency_name':Table_Currency})\n",
    "data['Year']=pd.Series([date.year for date in data.Date])"
   ]
  },
  {
   "cell_type": "code",
   "execution_count": 15,
   "metadata": {},
   "outputs": [
    {
     "name": "stderr",
     "output_type": "stream",
     "text": [
      "<ipython-input-15-9d736deeb457>:5: SettingWithCopyWarning: \n",
      "A value is trying to be set on a copy of a slice from a DataFrame\n",
      "\n",
      "See the caveats in the documentation: https://pandas.pydata.org/pandas-docs/stable/user_guide/indexing.html#returning-a-view-versus-a-copy\n",
      "  data['Value'][data.Currency_name=='USD']=1\n"
     ]
    }
   ],
   "source": [
    "#Do the join\n",
    "data=data.merge(exchangerate, how='left', on=['Year','Currency_name'])\n",
    "\n",
    "#Value for dollars should be 1\n",
    "data['Value'][data.Currency_name=='USD']=1"
   ]
  },
  {
   "cell_type": "code",
   "execution_count": 16,
   "metadata": {},
   "outputs": [],
   "source": [
    "data['Amount_in_usd']=data['Amount_loan']/data['Value']"
   ]
  },
  {
   "cell_type": "code",
   "execution_count": 17,
   "metadata": {},
   "outputs": [
    {
     "data": {
      "text/plain": [
       "91"
      ]
     },
     "execution_count": 17,
     "metadata": {},
     "output_type": "execute_result"
    }
   ],
   "source": [
    "data.Amount_in_usd.isnull().sum()"
   ]
  },
  {
   "cell_type": "code",
   "execution_count": 18,
   "metadata": {},
   "outputs": [],
   "source": [
    "Export_DF=data.drop(['Loan_paragraph','Currency'],axis=1)"
   ]
  },
  {
   "cell_type": "code",
   "execution_count": 19,
   "metadata": {},
   "outputs": [],
   "source": [
    "Export_DF.to_csv('../data/Extracted_Attributes_LoanUSD.csv',index=False)"
   ]
  },
  {
   "cell_type": "code",
   "execution_count": null,
   "metadata": {},
   "outputs": [],
   "source": []
  }
 ],
 "metadata": {
  "kernelspec": {
   "display_name": "Python 3",
   "language": "python",
   "name": "python3"
  },
  "language_info": {
   "codemirror_mode": {
    "name": "ipython",
    "version": 3
   },
   "file_extension": ".py",
   "mimetype": "text/x-python",
   "name": "python",
   "nbconvert_exporter": "python",
   "pygments_lexer": "ipython3",
   "version": "3.8.10"
  }
 },
 "nbformat": 4,
 "nbformat_minor": 4
}
