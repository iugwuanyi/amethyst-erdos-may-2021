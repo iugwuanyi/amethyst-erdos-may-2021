{
 "cells": [
  {
   "cell_type": "code",
   "execution_count": 1,
   "id": "975a996b",
   "metadata": {},
   "outputs": [],
   "source": [
    "import pandas as pd"
   ]
  },
  {
   "cell_type": "code",
   "execution_count": 2,
   "id": "1deafe29",
   "metadata": {},
   "outputs": [],
   "source": [
    "DF=pd.read_csv('../data/Extracted_Attributes_LoanUSD_Country_Topics.csv')"
   ]
  },
  {
   "cell_type": "code",
   "execution_count": 3,
   "id": "845a1f85",
   "metadata": {},
   "outputs": [],
   "source": [
    "DF.rename({'filename':'Filename'},axis=1,inplace=True)"
   ]
  },
  {
   "cell_type": "code",
   "execution_count": 4,
   "id": "18fa4f66",
   "metadata": {},
   "outputs": [],
   "source": [
    "DF=DF[['Filename','Date','Year','Amount_in_usd','Country','Country_Code','Income_level','Region','Topic']]"
   ]
  },
  {
   "cell_type": "code",
   "execution_count": 5,
   "id": "abcbea91",
   "metadata": {},
   "outputs": [
    {
     "name": "stdout",
     "output_type": "stream",
     "text": [
      "We drop  166 rows.\n"
     ]
    }
   ],
   "source": [
    "print('We drop ', DF.shape[0]-DF.dropna().shape[0], 'rows.')"
   ]
  },
  {
   "cell_type": "code",
   "execution_count": 6,
   "id": "7a37e911",
   "metadata": {},
   "outputs": [],
   "source": [
    "DF=DF.dropna()"
   ]
  },
  {
   "cell_type": "code",
   "execution_count": 7,
   "id": "3c172dad",
   "metadata": {},
   "outputs": [],
   "source": [
    "DF.to_csv('../data/All_Extracted_Data_From_PDFs.csv',index=False)"
   ]
  },
  {
   "cell_type": "code",
   "execution_count": null,
   "id": "47e3a48e",
   "metadata": {},
   "outputs": [],
   "source": []
  }
 ],
 "metadata": {
  "kernelspec": {
   "display_name": "Python 3",
   "language": "python",
   "name": "python3"
  },
  "language_info": {
   "codemirror_mode": {
    "name": "ipython",
    "version": 3
   },
   "file_extension": ".py",
   "mimetype": "text/x-python",
   "name": "python",
   "nbconvert_exporter": "python",
   "pygments_lexer": "ipython3",
   "version": "3.8.10"
  }
 },
 "nbformat": 4,
 "nbformat_minor": 5
}
