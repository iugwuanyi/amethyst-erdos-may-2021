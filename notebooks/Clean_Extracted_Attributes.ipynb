{
 "cells": [
  {
   "cell_type": "markdown",
   "id": "d5157bb3",
   "metadata": {},
   "source": [
    "# Cleaning Extracted Attributes\n",
    "Her we take the file with all the attributes, the loan amount in US dollars, the identified country and the identified topic of the loan and make sure that it has no missing values and that includes only the necessary columns. "
   ]
  },
  {
   "cell_type": "code",
   "execution_count": 1,
   "id": "53d17e73",
   "metadata": {},
   "outputs": [],
   "source": [
    "import pandas as pd"
   ]
  },
  {
   "cell_type": "code",
   "execution_count": 2,
   "id": "b72df2ab",
   "metadata": {},
   "outputs": [],
   "source": [
    "DF=pd.read_csv('../data/Extracted_Attributes_LoanUSD_Country_Topics.csv')"
   ]
  },
  {
   "cell_type": "code",
   "execution_count": 3,
   "id": "3c7a7498",
   "metadata": {},
   "outputs": [],
   "source": [
    "DF.rename({'filename':'Filename'},axis=1,inplace=True)"
   ]
  },
  {
   "cell_type": "code",
   "execution_count": 4,
   "id": "10325820",
   "metadata": {},
   "outputs": [],
   "source": [
    "DF=DF[['Filename','Date','Year','Amount_in_usd','Country','Country_Code','Income_level','Region','Topic']]"
   ]
  },
  {
   "cell_type": "code",
   "execution_count": 5,
   "id": "dd34d4ff",
   "metadata": {},
   "outputs": [
    {
     "name": "stdout",
     "output_type": "stream",
     "text": [
      "We drop  166 rows.\n"
     ]
    }
   ],
   "source": [
    "print('We drop ', DF.shape[0]-DF.dropna().shape[0], 'rows.')"
   ]
  },
  {
   "cell_type": "code",
   "execution_count": 6,
   "id": "7bd7f9de",
   "metadata": {},
   "outputs": [],
   "source": [
    "DF=DF.dropna()"
   ]
  },
  {
   "cell_type": "code",
   "execution_count": 7,
   "id": "7f80d33d",
   "metadata": {},
   "outputs": [],
   "source": [
    "DF.to_csv('../data/All_Extracted_Data_From_PDFs.csv',index=False)"
   ]
  },
  {
   "cell_type": "code",
   "execution_count": null,
   "id": "b7b7c26b",
   "metadata": {},
   "outputs": [],
   "source": []
  }
 ],
 "metadata": {
  "kernelspec": {
   "display_name": "Python 3",
   "language": "python",
   "name": "python3"
  },
  "language_info": {
   "codemirror_mode": {
    "name": "ipython",
    "version": 3
   },
   "file_extension": ".py",
   "mimetype": "text/x-python",
   "name": "python",
   "nbconvert_exporter": "python",
   "pygments_lexer": "ipython3",
   "version": "3.8.10"
  }
 },
 "nbformat": 4,
 "nbformat_minor": 5
}
