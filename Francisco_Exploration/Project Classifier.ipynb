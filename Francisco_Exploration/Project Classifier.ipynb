{
 "cells": [
  {
   "cell_type": "code",
   "execution_count": 72,
   "metadata": {},
   "outputs": [],
   "source": [
    "import pandas as pd\n",
    "import numpy as np\n",
    "import re\n",
    "import os\n",
    "import random"
   ]
  },
  {
   "cell_type": "code",
   "execution_count": 73,
   "metadata": {},
   "outputs": [],
   "source": [
    "Extracted_DF=pd.read_pickle('../Extracted_Information.dat')"
   ]
  },
  {
   "cell_type": "code",
   "execution_count": 74,
   "metadata": {},
   "outputs": [],
   "source": [
    "#Fill NONEs with empty strings\n",
    "Extracted_DF['Project_name'][Extracted_DF.Project_name.isnull()]=''\n",
    "Extracted_DF['Project_Sector']='other'"
   ]
  },
  {
   "cell_type": "code",
   "execution_count": 75,
   "metadata": {},
   "outputs": [],
   "source": [
    "#Extract education:\n",
    "for i in Extracted_DF.index:\n",
    "    name=Extracted_DF.Project_name[i]\n",
    "    if ('educa' in name) or ('teach' in name) or('school' in name):\n",
    "        Extracted_DF['Project_Sector'][i]='Education'"
   ]
  },
  {
   "cell_type": "code",
   "execution_count": 76,
   "metadata": {},
   "outputs": [
    {
     "data": {
      "text/plain": [
       "other        3035\n",
       "Education     170\n",
       "Name: Project_Sector, dtype: int64"
      ]
     },
     "execution_count": 76,
     "metadata": {},
     "output_type": "execute_result"
    }
   ],
   "source": [
    "Extracted_DF.Project_Sector.value_counts()"
   ]
  },
  {
   "cell_type": "code",
   "execution_count": 77,
   "metadata": {},
   "outputs": [
    {
     "data": {
      "text/plain": [
       "$      2526\n",
       "eur     180\n",
       "usd     121\n",
       "e        49\n",
       "€        33\n",
       "dem      26\n",
       "frf      14\n",
       "c         8\n",
       "¥         5\n",
       "jpy       5\n",
       "uss       3\n",
       "s         2\n",
       "sdr       2\n",
       "y         1\n",
       "egp       1\n",
       "gbp       1\n",
       "£         1\n",
       "us        1\n",
       "Name: Currency, dtype: int64"
      ]
     },
     "execution_count": 77,
     "metadata": {},
     "output_type": "execute_result"
    }
   ],
   "source": [
    "Extracted_DF.Currency.value_counts()"
   ]
  },
  {
   "cell_type": "code",
   "execution_count": 78,
   "metadata": {},
   "outputs": [],
   "source": [
    "from pdf2image import convert_from_path\n",
    "\n",
    "def winapi_path(dos_path, encoding=None):\n",
    "    if (not isinstance(dos_path, str) and encoding is not None): \n",
    "        dos_path = dos_path.decode(encoding)\n",
    "    path = os.path.abspath(dos_path)\n",
    "    if path.startswith(u\"\\\\\\\\\"):\n",
    "        return u\"\\\\\\\\?\\\\UNC\\\\\" + path[2:]\n",
    "    return u\"\\\\\\\\?\\\\\" + path\n",
    "\n",
    "ROOT_DIR = '../../'\n",
    "def get_pdf_pages(file,ROOT_DIR):\n",
    "    path=os.path.abspath(ROOT_DIR+file)\n",
    "    path=winapi_path(path)\n",
    "    images=convert_from_path(path)\n",
    "    return images"
   ]
  },
  {
   "cell_type": "code",
   "execution_count": 79,
   "metadata": {},
   "outputs": [],
   "source": [
    "pd.to_pickle(Extracted_DF,'../Extracted_Information_Sectors_Education_Other.dat')"
   ]
  },
  {
   "cell_type": "code",
   "execution_count": 112,
   "metadata": {},
   "outputs": [],
   "source": [
    "Codes=list(Extracted_DF.Country_code.dropna().unique())"
   ]
  },
  {
   "cell_type": "code",
   "execution_count": 113,
   "metadata": {},
   "outputs": [],
   "source": [
    "Codes.sort()"
   ]
  },
  {
   "cell_type": "code",
   "execution_count": 114,
   "metadata": {},
   "outputs": [
    {
     "data": {
      "text/plain": [
       "['AG',\n",
       " 'AIC',\n",
       " 'AL',\n",
       " 'ALB',\n",
       " 'ALK',\n",
       " 'AM',\n",
       " 'AO',\n",
       " 'AR',\n",
       " 'AZ',\n",
       " 'BA',\n",
       " 'BAR',\n",
       " 'BB',\n",
       " 'BEL',\n",
       " 'BF',\n",
       " 'BG',\n",
       " 'BO',\n",
       " 'BOT',\n",
       " 'BR',\n",
       " 'BUL',\n",
       " 'BW',\n",
       " 'BY',\n",
       " 'BZ',\n",
       " 'CG',\n",
       " 'CH',\n",
       " 'CHA',\n",
       " 'CI',\n",
       " 'CL',\n",
       " 'CM',\n",
       " 'CN',\n",
       " 'CO',\n",
       " 'COB',\n",
       " 'CR',\n",
       " 'CRG',\n",
       " 'CS',\n",
       " 'CV',\n",
       " 'CY',\n",
       " 'CZ',\n",
       " 'DM',\n",
       " 'DO',\n",
       " 'DOM',\n",
       " 'DRO',\n",
       " 'DZ',\n",
       " 'EC',\n",
       " 'EE',\n",
       " 'EG',\n",
       " 'EGT',\n",
       " 'ENT',\n",
       " 'ERO',\n",
       " 'ES',\n",
       " 'EST',\n",
       " 'ET',\n",
       " 'FIJ',\n",
       " 'FJ',\n",
       " 'FRO',\n",
       " 'GA',\n",
       " 'GD',\n",
       " 'GE',\n",
       " 'GLY',\n",
       " 'GR',\n",
       " 'GRD',\n",
       " 'GRO',\n",
       " 'GT',\n",
       " 'GU',\n",
       " 'HE',\n",
       " 'HO',\n",
       " 'HR',\n",
       " 'HRO',\n",
       " 'HU',\n",
       " 'IA',\n",
       " 'ID',\n",
       " 'IN',\n",
       " 'IND',\n",
       " 'IQ',\n",
       " 'IRN',\n",
       " 'IVC',\n",
       " 'JM',\n",
       " 'JO',\n",
       " 'JOR',\n",
       " 'KE',\n",
       " 'KO',\n",
       " 'KZ',\n",
       " 'LB',\n",
       " 'LC',\n",
       " 'LD',\n",
       " 'LE',\n",
       " 'LK',\n",
       " 'LPE',\n",
       " 'LSO',\n",
       " 'LT',\n",
       " 'LV',\n",
       " 'MA',\n",
       " 'MAS',\n",
       " 'MD',\n",
       " 'ME',\n",
       " 'MK',\n",
       " 'MN',\n",
       " 'MOR',\n",
       " 'MU',\n",
       " 'MX',\n",
       " 'MZ',\n",
       " 'NA',\n",
       " 'NE',\n",
       " 'ONT',\n",
       " 'OWS',\n",
       " 'PA',\n",
       " 'PAK',\n",
       " 'PAN',\n",
       " 'PE',\n",
       " 'PH',\n",
       " 'PK',\n",
       " 'PL',\n",
       " 'PNG',\n",
       " 'POL',\n",
       " 'PY',\n",
       " 'RO',\n",
       " 'ROM',\n",
       " 'RU',\n",
       " 'RUS',\n",
       " 'SA',\n",
       " 'SC',\n",
       " 'SEY',\n",
       " 'SIA',\n",
       " 'SK',\n",
       " 'SLO',\n",
       " 'SLU',\n",
       " 'SR',\n",
       " 'SV',\n",
       " 'SW',\n",
       " 'TH',\n",
       " 'TL',\n",
       " 'TM',\n",
       " 'TN',\n",
       " 'TND',\n",
       " 'TR',\n",
       " 'TU',\n",
       " 'TUN',\n",
       " 'UA',\n",
       " 'UNI',\n",
       " 'UR',\n",
       " 'UY',\n",
       " 'UZ',\n",
       " 'VCC',\n",
       " 'VE',\n",
       " 'VN',\n",
       " 'WAF',\n",
       " 'XLC',\n",
       " 'YF',\n",
       " 'YU',\n",
       " 'ZA',\n",
       " 'ZIM',\n",
       " 'ZM']"
      ]
     },
     "execution_count": 114,
     "metadata": {},
     "output_type": "execute_result"
    }
   ],
   "source": [
    "Codes"
   ]
  },
  {
   "cell_type": "code",
   "execution_count": null,
   "metadata": {},
   "outputs": [],
   "source": []
  }
 ],
 "metadata": {
  "kernelspec": {
   "display_name": "Python 3",
   "language": "python",
   "name": "python3"
  },
  "language_info": {
   "codemirror_mode": {
    "name": "ipython",
    "version": 3
   },
   "file_extension": ".py",
   "mimetype": "text/x-python",
   "name": "python",
   "nbconvert_exporter": "python",
   "pygments_lexer": "ipython3",
   "version": "3.8.5"
  }
 },
 "nbformat": 4,
 "nbformat_minor": 5
}
