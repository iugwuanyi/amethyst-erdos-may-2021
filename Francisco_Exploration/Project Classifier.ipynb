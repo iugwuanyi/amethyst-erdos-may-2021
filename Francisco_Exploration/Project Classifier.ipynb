{
 "cells": [
  {
   "cell_type": "code",
   "execution_count": 72,
   "id": "5f315552",
   "metadata": {},
   "outputs": [],
   "source": [
    "import pandas as pd\n",
    "import numpy as np\n",
    "import re\n",
    "import os\n",
    "import random"
   ]
  },
  {
   "cell_type": "code",
   "execution_count": 73,
   "id": "dadda11d",
   "metadata": {},
   "outputs": [],
   "source": [
    "Extracted_DF=pd.read_pickle('../Extracted_Information.dat')"
   ]
  },
  {
   "cell_type": "code",
   "execution_count": 74,
   "id": "35601ac6",
   "metadata": {},
   "outputs": [],
   "source": [
    "#Fill NONEs with empty strings\n",
    "Extracted_DF['Project_name'][Extracted_DF.Project_name.isnull()]=''\n",
    "Extracted_DF['Project_Sector']='other'"
   ]
  },
  {
   "cell_type": "code",
   "execution_count": 75,
   "id": "2093b3df",
   "metadata": {},
   "outputs": [],
   "source": [
    "#Extract education:\n",
    "for i in Extracted_DF.index:\n",
    "    name=Extracted_DF.Project_name[i]\n",
    "    if ('educa' in name) or ('teach' in name) or('school' in name):\n",
    "        Extracted_DF['Project_Sector'][i]='Education'"
   ]
  },
  {
   "cell_type": "code",
   "execution_count": 76,
   "id": "7d417122",
   "metadata": {},
   "outputs": [
    {
     "data": {
      "text/plain": [
       "other        3035\n",
       "Education     170\n",
       "Name: Project_Sector, dtype: int64"
      ]
     },
     "execution_count": 76,
     "metadata": {},
     "output_type": "execute_result"
    }
   ],
   "source": [
    "Extracted_DF.Project_Sector.value_counts()"
   ]
  },
  {
   "cell_type": "code",
   "execution_count": 77,
   "id": "0c507993",
   "metadata": {},
   "outputs": [
    {
     "data": {
      "text/plain": [
       "$      2526\n",
       "eur     180\n",
       "usd     121\n",
       "e        49\n",
       "€        33\n",
       "dem      26\n",
       "frf      14\n",
       "c         8\n",
       "¥         5\n",
       "jpy       5\n",
       "uss       3\n",
       "s         2\n",
       "sdr       2\n",
       "y         1\n",
       "egp       1\n",
       "gbp       1\n",
       "£         1\n",
       "us        1\n",
       "Name: Currency, dtype: int64"
      ]
     },
     "execution_count": 77,
     "metadata": {},
     "output_type": "execute_result"
    }
   ],
   "source": [
    "Extracted_DF.Currency.value_counts()"
   ]
  },
  {
   "cell_type": "code",
   "execution_count": 78,
   "id": "364db7a1",
   "metadata": {},
   "outputs": [],
   "source": [
    "from pdf2image import convert_from_path\n",
    "\n",
    "def winapi_path(dos_path, encoding=None):\n",
    "    if (not isinstance(dos_path, str) and encoding is not None): \n",
    "        dos_path = dos_path.decode(encoding)\n",
    "    path = os.path.abspath(dos_path)\n",
    "    if path.startswith(u\"\\\\\\\\\"):\n",
    "        return u\"\\\\\\\\?\\\\UNC\\\\\" + path[2:]\n",
    "    return u\"\\\\\\\\?\\\\\" + path\n",
    "\n",
    "ROOT_DIR = '../../'\n",
    "def get_pdf_pages(file,ROOT_DIR):\n",
    "    path=os.path.abspath(ROOT_DIR+file)\n",
    "    path=winapi_path(path)\n",
    "    images=convert_from_path(path)\n",
    "    return images"
   ]
  },
  {
   "cell_type": "code",
   "execution_count": 79,
   "id": "ac9471a6",
   "metadata": {},
   "outputs": [],
   "source": [
    "pd.to_pickle(Extracted_DF,'../Extracted_Information_Sectors_Education_Other.dat')"
   ]
  },
  {
   "cell_type": "code",
   "execution_count": null,
   "id": "4c90534b",
   "metadata": {},
   "outputs": [],
   "source": []
  }
 ],
 "metadata": {
  "kernelspec": {
   "display_name": "Python 3",
   "language": "python",
   "name": "python3"
  },
  "language_info": {
   "codemirror_mode": {
    "name": "ipython",
    "version": 3
   },
   "file_extension": ".py",
   "mimetype": "text/x-python",
   "name": "python",
   "nbconvert_exporter": "python",
   "pygments_lexer": "ipython3",
   "version": "3.6.13"
  }
 },
 "nbformat": 4,
 "nbformat_minor": 5
}
