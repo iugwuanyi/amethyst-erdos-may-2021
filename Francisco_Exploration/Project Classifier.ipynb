{
 "cells": [
  {
   "cell_type": "code",
   "execution_count": 72,
   "id": "fa3ac2ed",
   "metadata": {},
   "outputs": [],
   "source": [
    "import pandas as pd\n",
    "import numpy as np\n",
    "import re\n",
    "import os\n",
    "import random"
   ]
  },
  {
   "cell_type": "code",
   "execution_count": 73,
   "id": "a779f7bd",
   "metadata": {},
   "outputs": [],
   "source": [
    "Extracted_DF=pd.read_pickle('../Extracted_Information.dat')"
   ]
  },
  {
   "cell_type": "code",
   "execution_count": 74,
   "id": "4fc81287",
   "metadata": {},
   "outputs": [],
   "source": [
    "#Fill NONEs with empty strings\n",
    "Extracted_DF['Project_name'][Extracted_DF.Project_name.isnull()]=''\n",
    "Extracted_DF['Project_Sector']='other'"
   ]
  },
  {
   "cell_type": "code",
   "execution_count": 75,
   "id": "1a64b14e",
   "metadata": {},
   "outputs": [],
   "source": [
    "#Extract education:\n",
    "for i in Extracted_DF.index:\n",
    "    name=Extracted_DF.Project_name[i]\n",
    "    if ('educa' in name) or ('teach' in name) or('school' in name):\n",
    "        Extracted_DF['Project_Sector'][i]='Education'"
   ]
  },
  {
   "cell_type": "code",
   "execution_count": 76,
   "id": "472d9919",
   "metadata": {},
   "outputs": [
    {
     "data": {
      "text/plain": [
       "other        3035\n",
       "Education     170\n",
       "Name: Project_Sector, dtype: int64"
      ]
     },
     "execution_count": 76,
     "metadata": {},
     "output_type": "execute_result"
    }
   ],
   "source": [
    "Extracted_DF.Project_Sector.value_counts()"
   ]
  },
  {
   "cell_type": "code",
   "execution_count": 77,
   "id": "a3a16f9b",
   "metadata": {},
   "outputs": [
    {
     "data": {
      "text/plain": [
       "$      2526\n",
       "eur     180\n",
       "usd     121\n",
       "e        49\n",
       "€        33\n",
       "dem      26\n",
       "frf      14\n",
       "c         8\n",
       "¥         5\n",
       "jpy       5\n",
       "uss       3\n",
       "s         2\n",
       "sdr       2\n",
       "y         1\n",
       "egp       1\n",
       "gbp       1\n",
       "£         1\n",
       "us        1\n",
       "Name: Currency, dtype: int64"
      ]
     },
     "execution_count": 77,
     "metadata": {},
     "output_type": "execute_result"
    }
   ],
   "source": [
    "Extracted_DF.Currency.value_counts()"
   ]
  },
  {
   "cell_type": "code",
   "execution_count": 78,
   "id": "cabd72fe",
   "metadata": {},
   "outputs": [],
   "source": [
    "from pdf2image import convert_from_path\n",
    "\n",
    "def winapi_path(dos_path, encoding=None):\n",
    "    if (not isinstance(dos_path, str) and encoding is not None): \n",
    "        dos_path = dos_path.decode(encoding)\n",
    "    path = os.path.abspath(dos_path)\n",
    "    if path.startswith(u\"\\\\\\\\\"):\n",
    "        return u\"\\\\\\\\?\\\\UNC\\\\\" + path[2:]\n",
    "    return u\"\\\\\\\\?\\\\\" + path\n",
    "\n",
    "ROOT_DIR = '../../'\n",
    "def get_pdf_pages(file,ROOT_DIR):\n",
    "    path=os.path.abspath(ROOT_DIR+file)\n",
    "    path=winapi_path(path)\n",
    "    images=convert_from_path(path)\n",
    "    return images"
   ]
  },
  {
   "cell_type": "code",
   "execution_count": 79,
   "id": "17bc0d71",
   "metadata": {},
   "outputs": [],
   "source": [
    "pd.to_pickle(Extracted_DF,'../Extracted_Information_Sectors_Education_Other.dat')"
   ]
  },
  {
   "cell_type": "code",
   "execution_count": 101,
   "id": "24234502",
   "metadata": {},
   "outputs": [
    {
     "data": {
      "text/html": [
       "<div>\n",
       "<style scoped>\n",
       "    .dataframe tbody tr th:only-of-type {\n",
       "        vertical-align: middle;\n",
       "    }\n",
       "\n",
       "    .dataframe tbody tr th {\n",
       "        vertical-align: top;\n",
       "    }\n",
       "\n",
       "    .dataframe thead th {\n",
       "        text-align: right;\n",
       "    }\n",
       "</style>\n",
       "<table border=\"1\" class=\"dataframe\">\n",
       "  <thead>\n",
       "    <tr style=\"text-align: right;\">\n",
       "      <th></th>\n",
       "      <th>Country_code</th>\n",
       "    </tr>\n",
       "  </thead>\n",
       "  <tbody>\n",
       "    <tr>\n",
       "      <th>BUL</th>\n",
       "      <td>12</td>\n",
       "    </tr>\n",
       "    <tr>\n",
       "      <th>ES</th>\n",
       "      <td>11</td>\n",
       "    </tr>\n",
       "    <tr>\n",
       "      <th>PAN</th>\n",
       "      <td>11</td>\n",
       "    </tr>\n",
       "    <tr>\n",
       "      <th>UNI</th>\n",
       "      <td>10</td>\n",
       "    </tr>\n",
       "    <tr>\n",
       "      <th>CR</th>\n",
       "      <td>10</td>\n",
       "    </tr>\n",
       "    <tr>\n",
       "      <th>ZIM</th>\n",
       "      <td>9</td>\n",
       "    </tr>\n",
       "    <tr>\n",
       "      <th>MU</th>\n",
       "      <td>9</td>\n",
       "    </tr>\n",
       "    <tr>\n",
       "      <th>UY</th>\n",
       "      <td>9</td>\n",
       "    </tr>\n",
       "    <tr>\n",
       "      <th>SLU</th>\n",
       "      <td>9</td>\n",
       "    </tr>\n",
       "    <tr>\n",
       "      <th>SK</th>\n",
       "      <td>8</td>\n",
       "    </tr>\n",
       "    <tr>\n",
       "      <th>BA</th>\n",
       "      <td>8</td>\n",
       "    </tr>\n",
       "    <tr>\n",
       "      <th>IQ</th>\n",
       "      <td>8</td>\n",
       "    </tr>\n",
       "    <tr>\n",
       "      <th>SC</th>\n",
       "      <td>8</td>\n",
       "    </tr>\n",
       "    <tr>\n",
       "      <th>AO</th>\n",
       "      <td>8</td>\n",
       "    </tr>\n",
       "    <tr>\n",
       "      <th>PL</th>\n",
       "      <td>7</td>\n",
       "    </tr>\n",
       "    <tr>\n",
       "      <th>IVC</th>\n",
       "      <td>7</td>\n",
       "    </tr>\n",
       "    <tr>\n",
       "      <th>VE</th>\n",
       "      <td>6</td>\n",
       "    </tr>\n",
       "    <tr>\n",
       "      <th>PY</th>\n",
       "      <td>6</td>\n",
       "    </tr>\n",
       "    <tr>\n",
       "      <th>GT</th>\n",
       "      <td>6</td>\n",
       "    </tr>\n",
       "    <tr>\n",
       "      <th>CY</th>\n",
       "      <td>5</td>\n",
       "    </tr>\n",
       "    <tr>\n",
       "      <th>CM</th>\n",
       "      <td>5</td>\n",
       "    </tr>\n",
       "    <tr>\n",
       "      <th>SLO</th>\n",
       "      <td>5</td>\n",
       "    </tr>\n",
       "    <tr>\n",
       "      <th>LK</th>\n",
       "      <td>5</td>\n",
       "    </tr>\n",
       "    <tr>\n",
       "      <th>BO</th>\n",
       "      <td>5</td>\n",
       "    </tr>\n",
       "    <tr>\n",
       "      <th>GD</th>\n",
       "      <td>4</td>\n",
       "    </tr>\n",
       "    <tr>\n",
       "      <th>CL</th>\n",
       "      <td>4</td>\n",
       "    </tr>\n",
       "    <tr>\n",
       "      <th>GRD</th>\n",
       "      <td>4</td>\n",
       "    </tr>\n",
       "    <tr>\n",
       "      <th>CG</th>\n",
       "      <td>4</td>\n",
       "    </tr>\n",
       "    <tr>\n",
       "      <th>TH</th>\n",
       "      <td>4</td>\n",
       "    </tr>\n",
       "    <tr>\n",
       "      <th>FJ</th>\n",
       "      <td>4</td>\n",
       "    </tr>\n",
       "  </tbody>\n",
       "</table>\n",
       "</div>"
      ],
      "text/plain": [
       "     Country_code\n",
       "BUL            12\n",
       "ES             11\n",
       "PAN            11\n",
       "UNI            10\n",
       "CR             10\n",
       "ZIM             9\n",
       "MU              9\n",
       "UY              9\n",
       "SLU             9\n",
       "SK              8\n",
       "BA              8\n",
       "IQ              8\n",
       "SC              8\n",
       "AO              8\n",
       "PL              7\n",
       "IVC             7\n",
       "VE              6\n",
       "PY              6\n",
       "GT              6\n",
       "CY              5\n",
       "CM              5\n",
       "SLO             5\n",
       "LK              5\n",
       "BO              5\n",
       "GD              4\n",
       "CL              4\n",
       "GRD             4\n",
       "CG              4\n",
       "TH              4\n",
       "FJ              4"
      ]
     },
     "execution_count": 101,
     "metadata": {},
     "output_type": "execute_result"
    }
   ],
   "source": [
    "Extracted_DF.Country_code.value_counts(dropna=False).to_frame()[60:90]"
   ]
  },
  {
   "cell_type": "code",
   "execution_count": null,
   "id": "b3eae9e9",
   "metadata": {},
   "outputs": [],
   "source": []
  }
 ],
 "metadata": {
  "kernelspec": {
   "display_name": "Python 3",
   "language": "python",
   "name": "python3"
  },
  "language_info": {
   "codemirror_mode": {
    "name": "ipython",
    "version": 3
   },
   "file_extension": ".py",
   "mimetype": "text/x-python",
   "name": "python",
   "nbconvert_exporter": "python",
   "pygments_lexer": "ipython3",
   "version": "3.6.13"
  }
 },
 "nbformat": 4,
 "nbformat_minor": 5
}
