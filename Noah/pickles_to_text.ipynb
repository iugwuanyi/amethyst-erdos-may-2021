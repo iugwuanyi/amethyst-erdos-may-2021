{
 "cells": [
  {
   "cell_type": "markdown",
   "id": "821ff96a",
   "metadata": {},
   "source": [
    "Previously (see raw_pdfs_to_pickles.ipynb) the World Bank PDFs had their text extracted, with pdfminer when possible and with pytesseract otherwise, and the results were saved to pdfminer_results.dat and pytesseract_results.dat respectively.\n",
    "\n",
    "As these files are too large to commit to Github, we will now extract the textual information from them and save each to an individual textfile."
   ]
  },
  {
   "cell_type": "code",
   "execution_count": 5,
   "id": "116fa610",
   "metadata": {},
   "outputs": [],
   "source": [
    "import pandas as pd\n",
    "import os"
   ]
  },
  {
   "cell_type": "code",
   "execution_count": 2,
   "id": "80a4b110",
   "metadata": {},
   "outputs": [],
   "source": [
    "## With thanks to Francisco for this code chunk that runs successfully \n",
    "## on all relevant versions of Python3.\n",
    "\n",
    "try:\n",
    "    Files_tesseract=pd.read_pickle('pytesseract_results.dat')\n",
    "except:\n",
    "    #!pip3 install pickle5\n",
    "    import pickle5 as pickle\n",
    "    with open('pytesseract_results.dat','rb') as fh:\n",
    "        Files_tesseract = pickle.load(fh,encoding='unicode')\n",
    "\n",
    "try:\n",
    "    Files_pdfminer=pd.read_pickle('pdfminer_results.dat')\n",
    "except:\n",
    "    #!pip3 install pickle5\n",
    "    import pickle5 as pickle\n",
    "    with open('pdfminer_results.dat','rb') as fh:\n",
    "        Files_pdfminer = pickle.load(fh,encoding='unicode')"
   ]
  },
  {
   "cell_type": "code",
   "execution_count": 3,
   "id": "3417e71b",
   "metadata": {},
   "outputs": [
    {
     "data": {
      "text/html": [
       "<div>\n",
       "<style scoped>\n",
       "    .dataframe tbody tr th:only-of-type {\n",
       "        vertical-align: middle;\n",
       "    }\n",
       "\n",
       "    .dataframe tbody tr th {\n",
       "        vertical-align: top;\n",
       "    }\n",
       "\n",
       "    .dataframe thead th {\n",
       "        text-align: right;\n",
       "    }\n",
       "</style>\n",
       "<table border=\"1\" class=\"dataframe\">\n",
       "  <thead>\n",
       "    <tr style=\"text-align: right;\">\n",
       "      <th></th>\n",
       "      <th>filename</th>\n",
       "      <th>reparse</th>\n",
       "    </tr>\n",
       "  </thead>\n",
       "  <tbody>\n",
       "    <tr>\n",
       "      <th>24</th>\n",
       "      <td>1990_december_4_833971468016863921_china--rura...</td>\n",
       "      <td>Public Disclosure Authorizea\\n\\nLOAN NUMBER 32...</td>\n",
       "    </tr>\n",
       "    <tr>\n",
       "      <th>64</th>\n",
       "      <td>1990_june_12_146771468325288731_pakistan--agri...</td>\n",
       "      <td>Public Disclosure Authorized\\n\\nPublic Disclos...</td>\n",
       "    </tr>\n",
       "    <tr>\n",
       "      <th>84</th>\n",
       "      <td>1990_march_27_681121468040453518_india--hydera...</td>\n",
       "      <td>Public Disclosure Authorized\\n\\n‘.nnmx:.-‘mmmm...</td>\n",
       "    </tr>\n",
       "    <tr>\n",
       "      <th>89</th>\n",
       "      <td>1990_may_15_598881468034838695_india--integrat...</td>\n",
       "      <td>P ] )\\n\\nORI\\n\\n_—\\n\\n- Ay 2T e\\n- pat v R AT\\...</td>\n",
       "    </tr>\n",
       "    <tr>\n",
       "      <th>90</th>\n",
       "      <td>1990_may_15_955111468244536485_india--integrat...</td>\n",
       "      <td>P ] )\\n\\nORI\\n\\n_—\\n\\n- Ay 2T e\\n- pat v R AT\\...</td>\n",
       "    </tr>\n",
       "  </tbody>\n",
       "</table>\n",
       "</div>"
      ],
      "text/plain": [
       "                                             filename  \\\n",
       "24  1990_december_4_833971468016863921_china--rura...   \n",
       "64  1990_june_12_146771468325288731_pakistan--agri...   \n",
       "84  1990_march_27_681121468040453518_india--hydera...   \n",
       "89  1990_may_15_598881468034838695_india--integrat...   \n",
       "90  1990_may_15_955111468244536485_india--integrat...   \n",
       "\n",
       "                                              reparse  \n",
       "24  Public Disclosure Authorizea\\n\\nLOAN NUMBER 32...  \n",
       "64  Public Disclosure Authorized\\n\\nPublic Disclos...  \n",
       "84  Public Disclosure Authorized\\n\\n‘.nnmx:.-‘mmmm...  \n",
       "89  P ] )\\n\\nORI\\n\\n_—\\n\\n- Ay 2T e\\n- pat v R AT\\...  \n",
       "90  P ] )\\n\\nORI\\n\\n_—\\n\\n- Ay 2T e\\n- pat v R AT\\...  "
      ]
     },
     "execution_count": 3,
     "metadata": {},
     "output_type": "execute_result"
    }
   ],
   "source": [
    "Files_tesseract.head()"
   ]
  },
  {
   "cell_type": "code",
   "execution_count": 4,
   "id": "cec09b90",
   "metadata": {},
   "outputs": [
    {
     "data": {
      "text/html": [
       "<div>\n",
       "<style scoped>\n",
       "    .dataframe tbody tr th:only-of-type {\n",
       "        vertical-align: middle;\n",
       "    }\n",
       "\n",
       "    .dataframe tbody tr th {\n",
       "        vertical-align: top;\n",
       "    }\n",
       "\n",
       "    .dataframe thead th {\n",
       "        text-align: right;\n",
       "    }\n",
       "</style>\n",
       "<table border=\"1\" class=\"dataframe\">\n",
       "  <thead>\n",
       "    <tr style=\"text-align: right;\">\n",
       "      <th></th>\n",
       "      <th>filename</th>\n",
       "      <th>raw_parse</th>\n",
       "      <th>de_headed</th>\n",
       "      <th>de_headed_length</th>\n",
       "    </tr>\n",
       "  </thead>\n",
       "  <tbody>\n",
       "    <tr>\n",
       "      <th>0</th>\n",
       "      <td>1990_april_24_587321468019152780_conformed-cop...</td>\n",
       "      <td>d\\ne\\nz\\ni\\nr\\no\\nh\\nt\\nu\\nA\\n \\ne\\nr\\nu\\ns\\no...</td>\n",
       "      <td>CONFORMED COPY\\n\\nLOAN NUMBER 3186 IVC\\n\\nLoan...</td>\n",
       "      <td>40838</td>\n",
       "    </tr>\n",
       "    <tr>\n",
       "      <th>1</th>\n",
       "      <td>1990_april_24_668811468165272290_conformed-cop...</td>\n",
       "      <td>d\\ne\\nz\\ni\\nr\\no\\nh\\nt\\nu\\nA\\n \\ne\\nr\\nu\\ns\\no...</td>\n",
       "      <td>CONFORMED COPY\\n\\n                            ...</td>\n",
       "      <td>16557</td>\n",
       "    </tr>\n",
       "    <tr>\n",
       "      <th>2</th>\n",
       "      <td>1990_april_25_904191468298750561_conformed-cop...</td>\n",
       "      <td>d\\ne\\nz\\ni\\nr\\no\\nh\\nt\\nu\\nA\\n \\ne\\nr\\nu\\ns\\no...</td>\n",
       "      <td>CONFORMED COPY\\n\\n                            ...</td>\n",
       "      <td>32534</td>\n",
       "    </tr>\n",
       "    <tr>\n",
       "      <th>3</th>\n",
       "      <td>1990_april_30_410811468040573756_conformed-cop...</td>\n",
       "      <td>d\\ne\\nz\\ni\\nr\\no\\nh\\nt\\nu\\nA\\n \\ne\\nr\\nu\\ns\\no...</td>\n",
       "      <td>CONFORMED COPY\\n\\n                            ...</td>\n",
       "      <td>40263</td>\n",
       "    </tr>\n",
       "    <tr>\n",
       "      <th>4</th>\n",
       "      <td>1990_april_30_725911468042268845_conformed-cop...</td>\n",
       "      <td>d\\ne\\nz\\ni\\nr\\no\\nh\\nt\\nu\\nA\\n \\ne\\nr\\nu\\ns\\no...</td>\n",
       "      <td>CONFORMED COPY\\n\\n                            ...</td>\n",
       "      <td>32938</td>\n",
       "    </tr>\n",
       "  </tbody>\n",
       "</table>\n",
       "</div>"
      ],
      "text/plain": [
       "                                            filename  \\\n",
       "0  1990_april_24_587321468019152780_conformed-cop...   \n",
       "1  1990_april_24_668811468165272290_conformed-cop...   \n",
       "2  1990_april_25_904191468298750561_conformed-cop...   \n",
       "3  1990_april_30_410811468040573756_conformed-cop...   \n",
       "4  1990_april_30_725911468042268845_conformed-cop...   \n",
       "\n",
       "                                           raw_parse  \\\n",
       "0  d\\ne\\nz\\ni\\nr\\no\\nh\\nt\\nu\\nA\\n \\ne\\nr\\nu\\ns\\no...   \n",
       "1  d\\ne\\nz\\ni\\nr\\no\\nh\\nt\\nu\\nA\\n \\ne\\nr\\nu\\ns\\no...   \n",
       "2  d\\ne\\nz\\ni\\nr\\no\\nh\\nt\\nu\\nA\\n \\ne\\nr\\nu\\ns\\no...   \n",
       "3  d\\ne\\nz\\ni\\nr\\no\\nh\\nt\\nu\\nA\\n \\ne\\nr\\nu\\ns\\no...   \n",
       "4  d\\ne\\nz\\ni\\nr\\no\\nh\\nt\\nu\\nA\\n \\ne\\nr\\nu\\ns\\no...   \n",
       "\n",
       "                                           de_headed  de_headed_length  \n",
       "0  CONFORMED COPY\\n\\nLOAN NUMBER 3186 IVC\\n\\nLoan...             40838  \n",
       "1  CONFORMED COPY\\n\\n                            ...             16557  \n",
       "2  CONFORMED COPY\\n\\n                            ...             32534  \n",
       "3  CONFORMED COPY\\n\\n                            ...             40263  \n",
       "4  CONFORMED COPY\\n\\n                            ...             32938  "
      ]
     },
     "execution_count": 4,
     "metadata": {},
     "output_type": "execute_result"
    }
   ],
   "source": [
    "Files_pdfminer.head()"
   ]
  },
  {
   "cell_type": "markdown",
   "id": "0cbc2170",
   "metadata": {},
   "source": [
    "Now we will write the PDFminer results to text files. We only operate on the entries that had lengths of at least 1001, as that was our cutoff length for considering PDFminer to have been successful."
   ]
  },
  {
   "cell_type": "code",
   "execution_count": 22,
   "id": "e4608934",
   "metadata": {},
   "outputs": [],
   "source": [
    "try:\n",
    "    os.mkdir('pdfminer_texts')\n",
    "except FileExistsError as e:\n",
    "    pass\n",
    "\n",
    "for _,pdfminer_result in Files_pdfminer[Files_pdfminer['de_headed_length']>=1001].iterrows():\n",
    "   with open(os.path.join('pdfminer_texts',pdfminer_result['filename'].replace('.pdf','.txt')),'w+') as f:\n",
    "        f.write(pdfminer_result['de_headed'])"
   ]
  },
  {
   "cell_type": "markdown",
   "id": "80e99315",
   "metadata": {},
   "source": [
    "And now we will write the pytesseract results to text files as well."
   ]
  },
  {
   "cell_type": "code",
   "execution_count": 24,
   "id": "a864f8b7",
   "metadata": {},
   "outputs": [],
   "source": [
    "try:\n",
    "    os.mkdir('pytesseract_texts')\n",
    "except FileExistsError as e:\n",
    "    pass\n",
    "\n",
    "for _,pytesseract_result in Files_tesseract.iterrows():\n",
    "   with open(os.path.join('pytesseract_texts',pytesseract_result['filename'].replace('.pdf','.txt')),'w+') as f:\n",
    "        f.write(pytesseract_result['reparse'])"
   ]
  }
 ],
 "metadata": {
  "kernelspec": {
   "display_name": "Python 3",
   "language": "python",
   "name": "python3"
  },
  "language_info": {
   "codemirror_mode": {
    "name": "ipython",
    "version": 3
   },
   "file_extension": ".py",
   "mimetype": "text/x-python",
   "name": "python",
   "nbconvert_exporter": "python",
   "pygments_lexer": "ipython3",
   "version": "3.9.4"
  }
 },
 "nbformat": 4,
 "nbformat_minor": 5
}
